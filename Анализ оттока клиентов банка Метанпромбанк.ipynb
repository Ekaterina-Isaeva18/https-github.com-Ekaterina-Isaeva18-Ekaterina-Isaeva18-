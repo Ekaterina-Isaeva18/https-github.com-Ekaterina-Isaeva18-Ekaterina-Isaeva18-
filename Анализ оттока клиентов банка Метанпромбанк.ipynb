{
 "cells": [
  {
   "cell_type": "markdown",
   "id": "9d5f32db",
   "metadata": {
    "toc": true
   },
   "source": [
    "<h1>Table of Contents<span class=\"tocSkip\"></span></h1>\n",
    "<div class=\"toc\"><ul class=\"toc-item\"><li><span><a href=\"#Загрузка-и-описание-данных\" data-toc-modified-id=\"Загрузка-и-описание-данных-1\"><span class=\"toc-item-num\">1&nbsp;&nbsp;</span>Загрузка и описание данных</a></span></li><li><span><a href=\"#Предобработка-данных\" data-toc-modified-id=\"Предобработка-данных-2\"><span class=\"toc-item-num\">2&nbsp;&nbsp;</span>Предобработка данных</a></span><ul class=\"toc-item\"><li><span><a href=\"#Типы-данных\" data-toc-modified-id=\"Типы-данных-2.1\"><span class=\"toc-item-num\">2.1&nbsp;&nbsp;</span>Типы данных</a></span></li><li><span><a href=\"#Пропуски\" data-toc-modified-id=\"Пропуски-2.2\"><span class=\"toc-item-num\">2.2&nbsp;&nbsp;</span>Пропуски</a></span></li><li><span><a href=\"#Дубликаты\" data-toc-modified-id=\"Дубликаты-2.3\"><span class=\"toc-item-num\">2.3&nbsp;&nbsp;</span>Дубликаты</a></span></li></ul></li><li><span><a href=\"#Исследовательский-анализ-данных\" data-toc-modified-id=\"Исследовательский-анализ-данных-3\"><span class=\"toc-item-num\">3&nbsp;&nbsp;</span>Исследовательский анализ данных</a></span><ul class=\"toc-item\"><li><span><a href=\"#Распределение-признаков-в-разрезе-оттока\" data-toc-modified-id=\"Распределение-признаков-в-разрезе-оттока-3.1\"><span class=\"toc-item-num\">3.1&nbsp;&nbsp;</span>Распределение признаков в разрезе оттока</a></span></li><li><span><a href=\"#Корреляционный-анализ\" data-toc-modified-id=\"Корреляционный-анализ-3.2\"><span class=\"toc-item-num\">3.2&nbsp;&nbsp;</span>Корреляционный анализ</a></span></li><li><span><a href=\"#Портрет-клиента\" data-toc-modified-id=\"Портрет-клиента-3.3\"><span class=\"toc-item-num\">3.3&nbsp;&nbsp;</span>Портрет клиента</a></span></li></ul></li><li><span><a href=\"#Проверка-статистических-гипотез\" data-toc-modified-id=\"Проверка-статистических-гипотез-4\"><span class=\"toc-item-num\">4&nbsp;&nbsp;</span>Проверка статистических гипотез</a></span><ul class=\"toc-item\"><li><span><a href=\"#Проверка-гипотезы-о-различии-доходов-между-ушедшими-и-оставшимися-клиентами\" data-toc-modified-id=\"Проверка-гипотезы-о-различии-доходов-между-ушедшими-и-оставшимися-клиентами-4.1\"><span class=\"toc-item-num\">4.1&nbsp;&nbsp;</span>Проверка гипотезы о различии доходов между ушедшими и оставшимися клиентами</a></span></li><li><span><a href=\"#Проверка-гипотезы-о-различии-в-возрасте-между-ушедшими-и-оставшимися-клиентами\" data-toc-modified-id=\"Проверка-гипотезы-о-различии-в-возрасте-между-ушедшими-и-оставшимися-клиентами-4.2\"><span class=\"toc-item-num\">4.2&nbsp;&nbsp;</span>Проверка гипотезы о различии в возрасте между ушедшими и оставшимися клиентами</a></span></li></ul></li><li><span><a href=\"#Подведение-промежуточных-итогов\" data-toc-modified-id=\"Подведение-промежуточных-итогов-5\"><span class=\"toc-item-num\">5&nbsp;&nbsp;</span>Подведение промежуточных итогов</a></span><ul class=\"toc-item\"><li><span><a href=\"#Выводы-по-результатам-исследовательского-анализа\" data-toc-modified-id=\"Выводы-по-результатам-исследовательского-анализа-5.1\"><span class=\"toc-item-num\">5.1&nbsp;&nbsp;</span>Выводы по результатам исследовательского анализа</a></span></li><li><span><a href=\"#Выводы-по-результатам-корреляционного-анализа\" data-toc-modified-id=\"Выводы-по-результатам-корреляционного-анализа-5.2\"><span class=\"toc-item-num\">5.2&nbsp;&nbsp;</span>Выводы по результатам корреляционного анализа</a></span></li><li><span><a href=\"#Выводы-по-результатам-проверки-статистических-гипотез\" data-toc-modified-id=\"Выводы-по-результатам-проверки-статистических-гипотез-5.3\"><span class=\"toc-item-num\">5.3&nbsp;&nbsp;</span>Выводы по результатам проверки статистических гипотез</a></span></li><li><span><a href=\"#Выделение-признаков,-влияющих-на-отток-клиентов-банка\" data-toc-modified-id=\"Выделение-признаков,-влияющих-на-отток-клиентов-банка-5.4\"><span class=\"toc-item-num\">5.4&nbsp;&nbsp;</span>Выделение признаков, влияющих на отток клиентов банка</a></span></li></ul></li><li><span><a href=\"#Сегментация-клиентов-банка\" data-toc-modified-id=\"Сегментация-клиентов-банка-6\"><span class=\"toc-item-num\">6&nbsp;&nbsp;</span>Сегментация клиентов банка</a></span><ul class=\"toc-item\"><li><span><a href=\"#Формирование-сегментов-отточных-клиентов\" data-toc-modified-id=\"Формирование-сегментов-отточных-клиентов-6.1\"><span class=\"toc-item-num\">6.1&nbsp;&nbsp;</span>Формирование сегментов отточных клиентов</a></span></li><li><span><a href=\"#Приоритезация-сегментов-отточных-клиентов\" data-toc-modified-id=\"Приоритезация-сегментов-отточных-клиентов-6.2\"><span class=\"toc-item-num\">6.2&nbsp;&nbsp;</span>Приоритезация сегментов отточных клиентов</a></span></li></ul></li><li><span><a href=\"#Выводы-и-рекомендации-по-работе-с-отточными-сегментами\" data-toc-modified-id=\"Выводы-и-рекомендации-по-работе-с-отточными-сегментами-7\"><span class=\"toc-item-num\">7&nbsp;&nbsp;</span>Выводы и рекомендации по работе с отточными сегментами</a></span></li></ul></div>"
   ]
  },
  {
   "cell_type": "markdown",
   "id": "fe9dbebb",
   "metadata": {},
   "source": [
    "# Материалы\n",
    "* Презентация: https://drive.google.com/file/d/1eUrE8zHbsLVG_YmZHoab_hwmYnmcrHB6/view?usp=sharing"
   ]
  },
  {
   "cell_type": "markdown",
   "id": "7c813430",
   "metadata": {},
   "source": [
    "<h1><center> Анализ оттока клиентов банка \"Метанпромбанк\" </center></h1>"
   ]
  },
  {
   "cell_type": "markdown",
   "id": "48407b7a",
   "metadata": {},
   "source": [
    "**Цель проекта**: проанализировать отток клиентов банка."
   ]
  },
  {
   "cell_type": "markdown",
   "id": "00702269",
   "metadata": {},
   "source": [
    "**Задачи проекта**:"
   ]
  },
  {
   "cell_type": "markdown",
   "id": "2916e3da",
   "metadata": {},
   "source": [
    "1. Загрузка и описание данных."
   ]
  },
  {
   "cell_type": "markdown",
   "id": "8f8313e2",
   "metadata": {},
   "source": [
    "2. Предобработка данных.\n",
    "- Заменить тип данных там, где это необходимо.\n",
    "- Проверить данные на наличие пропусков. Обработать пропуски так, как это необходимо для каждого отдельного столбца с пропусками.\n",
    "- Проверить данные на наличие явных и неявных дубликатов. Проанализировать дубликаты и удалить, если это необходимо."
   ]
  },
  {
   "cell_type": "markdown",
   "id": "99b3ac73",
   "metadata": {},
   "source": [
    "3. Исследовательский анализ данных.\n",
    "- Провести анализ распределения признаков в разрезе оттока.\n",
    "- Провести корреляционный анализ признака `churn` с другими признаками (с интерпретацией по Чеддоку).\n",
    "- Сравнить портреты типичных клиентов, склонных или не склонных уходить из банка."
   ]
  },
  {
   "cell_type": "markdown",
   "id": "f1cd53e5",
   "metadata": {},
   "source": [
    "4. Проверка статистических гипотез.\n",
    "- Проверить гипотезу о различии доходов между теми клиентами, которые ушли, и теми, которые остались.\n",
    "- Проверить вторую гипотезу, которая будет сформулирована в ходе исследования."
   ]
  },
  {
   "cell_type": "markdown",
   "id": "7f3a3cbe",
   "metadata": {},
   "source": [
    "5. Подведение промежуточных итогов.\n",
    "- Выводы по результатам исследовательского анализа.\n",
    "- Выводы по результатам корреляционного анализа.\n",
    "- Выводы по результатам проверки статистических гипотез.\n",
    "- Выделение признаков, влияющих на отток клиентов банка."
   ]
  },
  {
   "cell_type": "markdown",
   "id": "9932bca6",
   "metadata": {},
   "source": [
    "6. Сегментация клиентов банка.\n",
    "- Сформировать сегменты отточных клиентов (от 500 клиентов на сегментв) с уровнем оттока выше, чем в среднем по банку.\n",
    "- Приоритезировать сегменты."
   ]
  },
  {
   "cell_type": "markdown",
   "id": "8c480552",
   "metadata": {},
   "source": [
    "7. Выводы и рекомендации по работе с отточными сегментами."
   ]
  },
  {
   "cell_type": "markdown",
   "id": "ca5627e0-38f0-4468-aea0-87af5693e3e1",
   "metadata": {},
   "source": [
    "## Загрузка и описание данных"
   ]
  },
  {
   "cell_type": "code",
   "execution_count": 1,
   "id": "a3125aea-c063-4378-8d3f-f95f2ca9f554",
   "metadata": {
    "scrolled": true
   },
   "outputs": [
    {
     "name": "stdout",
     "output_type": "stream",
     "text": [
      "Requirement already satisfied: phik in c:\\anaconda\\lib\\site-packages (0.12.4)\n",
      "Requirement already satisfied: numpy>=1.18.0 in c:\\anaconda\\lib\\site-packages (from phik) (1.24.3)\n",
      "Requirement already satisfied: scipy>=1.5.2 in c:\\anaconda\\lib\\site-packages (from phik) (1.11.1)\n",
      "Requirement already satisfied: pandas>=0.25.1 in c:\\anaconda\\lib\\site-packages (from phik) (2.0.3)\n",
      "Requirement already satisfied: matplotlib>=2.2.3 in c:\\anaconda\\lib\\site-packages (from phik) (3.7.2)\n",
      "Requirement already satisfied: joblib>=0.14.1 in c:\\anaconda\\lib\\site-packages (from phik) (1.2.0)\n",
      "Requirement already satisfied: contourpy>=1.0.1 in c:\\anaconda\\lib\\site-packages (from matplotlib>=2.2.3->phik) (1.0.5)\n",
      "Requirement already satisfied: cycler>=0.10 in c:\\anaconda\\lib\\site-packages (from matplotlib>=2.2.3->phik) (0.11.0)\n",
      "Requirement already satisfied: fonttools>=4.22.0 in c:\\anaconda\\lib\\site-packages (from matplotlib>=2.2.3->phik) (4.25.0)\n",
      "Requirement already satisfied: kiwisolver>=1.0.1 in c:\\anaconda\\lib\\site-packages (from matplotlib>=2.2.3->phik) (1.4.4)\n",
      "Requirement already satisfied: packaging>=20.0 in c:\\anaconda\\lib\\site-packages (from matplotlib>=2.2.3->phik) (23.1)\n",
      "Requirement already satisfied: pillow>=6.2.0 in c:\\anaconda\\lib\\site-packages (from matplotlib>=2.2.3->phik) (9.4.0)\n",
      "Requirement already satisfied: pyparsing<3.1,>=2.3.1 in c:\\anaconda\\lib\\site-packages (from matplotlib>=2.2.3->phik) (3.0.9)\n",
      "Requirement already satisfied: python-dateutil>=2.7 in c:\\anaconda\\lib\\site-packages (from matplotlib>=2.2.3->phik) (2.8.2)\n",
      "Requirement already satisfied: pytz>=2020.1 in c:\\anaconda\\lib\\site-packages (from pandas>=0.25.1->phik) (2023.3.post1)\n",
      "Requirement already satisfied: tzdata>=2022.1 in c:\\anaconda\\lib\\site-packages (from pandas>=0.25.1->phik) (2023.3)\n",
      "Requirement already satisfied: six>=1.5 in c:\\anaconda\\lib\\site-packages (from python-dateutil>=2.7->matplotlib>=2.2.3->phik) (1.16.0)\n",
      "Note: you may need to restart the kernel to use updated packages.\n"
     ]
    }
   ],
   "source": [
    "pip install phik"
   ]
  },
  {
   "cell_type": "code",
   "execution_count": 2,
   "id": "8beec8d1-23a6-404e-b94a-d7caa6ee6e8a",
   "metadata": {},
   "outputs": [],
   "source": [
    "import pandas as pd\n",
    "import matplotlib.pyplot as plt\n",
    "import seaborn as sns\n",
    "import scipy.stats as stats\n",
    "import numpy as np\n",
    "from phik import phik_matrix\n",
    "plt.rcParams[\"figure.figsize\"] = (10,7)"
   ]
  },
  {
   "cell_type": "code",
   "execution_count": 3,
   "id": "bd38bd0e-0337-4378-bf99-aeb9a545e2c3",
   "metadata": {},
   "outputs": [
    {
     "data": {
      "text/html": [
       "<div>\n",
       "<style scoped>\n",
       "    .dataframe tbody tr th:only-of-type {\n",
       "        vertical-align: middle;\n",
       "    }\n",
       "\n",
       "    .dataframe tbody tr th {\n",
       "        vertical-align: top;\n",
       "    }\n",
       "\n",
       "    .dataframe thead th {\n",
       "        text-align: right;\n",
       "    }\n",
       "</style>\n",
       "<table border=\"1\" class=\"dataframe\">\n",
       "  <thead>\n",
       "    <tr style=\"text-align: right;\">\n",
       "      <th></th>\n",
       "      <th>USERID</th>\n",
       "      <th>score</th>\n",
       "      <th>city</th>\n",
       "      <th>gender</th>\n",
       "      <th>age</th>\n",
       "      <th>equity</th>\n",
       "      <th>balance</th>\n",
       "      <th>products</th>\n",
       "      <th>credit_card</th>\n",
       "      <th>last_activity</th>\n",
       "      <th>EST_SALARY</th>\n",
       "      <th>churn</th>\n",
       "    </tr>\n",
       "  </thead>\n",
       "  <tbody>\n",
       "    <tr>\n",
       "      <th>0</th>\n",
       "      <td>183012</td>\n",
       "      <td>850.0</td>\n",
       "      <td>Рыбинск</td>\n",
       "      <td>Ж</td>\n",
       "      <td>25.0</td>\n",
       "      <td>1</td>\n",
       "      <td>59214.82</td>\n",
       "      <td>2</td>\n",
       "      <td>0</td>\n",
       "      <td>1</td>\n",
       "      <td>75719.14</td>\n",
       "      <td>1</td>\n",
       "    </tr>\n",
       "    <tr>\n",
       "      <th>1</th>\n",
       "      <td>146556</td>\n",
       "      <td>861.0</td>\n",
       "      <td>Рыбинск</td>\n",
       "      <td>Ж</td>\n",
       "      <td>37.0</td>\n",
       "      <td>5</td>\n",
       "      <td>850594.33</td>\n",
       "      <td>3</td>\n",
       "      <td>1</td>\n",
       "      <td>0</td>\n",
       "      <td>86621.77</td>\n",
       "      <td>0</td>\n",
       "    </tr>\n",
       "    <tr>\n",
       "      <th>2</th>\n",
       "      <td>120722</td>\n",
       "      <td>892.0</td>\n",
       "      <td>Рыбинск</td>\n",
       "      <td>Ж</td>\n",
       "      <td>30.0</td>\n",
       "      <td>0</td>\n",
       "      <td>NaN</td>\n",
       "      <td>1</td>\n",
       "      <td>1</td>\n",
       "      <td>1</td>\n",
       "      <td>107683.34</td>\n",
       "      <td>0</td>\n",
       "    </tr>\n",
       "    <tr>\n",
       "      <th>3</th>\n",
       "      <td>225363</td>\n",
       "      <td>866.0</td>\n",
       "      <td>Ярославль</td>\n",
       "      <td>Ж</td>\n",
       "      <td>51.0</td>\n",
       "      <td>5</td>\n",
       "      <td>1524746.26</td>\n",
       "      <td>2</td>\n",
       "      <td>0</td>\n",
       "      <td>1</td>\n",
       "      <td>174423.53</td>\n",
       "      <td>1</td>\n",
       "    </tr>\n",
       "    <tr>\n",
       "      <th>4</th>\n",
       "      <td>157978</td>\n",
       "      <td>730.0</td>\n",
       "      <td>Ярославль</td>\n",
       "      <td>М</td>\n",
       "      <td>34.0</td>\n",
       "      <td>5</td>\n",
       "      <td>174.00</td>\n",
       "      <td>1</td>\n",
       "      <td>1</td>\n",
       "      <td>0</td>\n",
       "      <td>67353.16</td>\n",
       "      <td>1</td>\n",
       "    </tr>\n",
       "    <tr>\n",
       "      <th>5</th>\n",
       "      <td>202305</td>\n",
       "      <td>856.0</td>\n",
       "      <td>Рыбинск</td>\n",
       "      <td>М</td>\n",
       "      <td>56.0</td>\n",
       "      <td>4</td>\n",
       "      <td>863687.24</td>\n",
       "      <td>3</td>\n",
       "      <td>1</td>\n",
       "      <td>0</td>\n",
       "      <td>156619.80</td>\n",
       "      <td>0</td>\n",
       "    </tr>\n",
       "    <tr>\n",
       "      <th>6</th>\n",
       "      <td>177259</td>\n",
       "      <td>807.0</td>\n",
       "      <td>Ярославль</td>\n",
       "      <td>Ж</td>\n",
       "      <td>39.0</td>\n",
       "      <td>3</td>\n",
       "      <td>405042.44</td>\n",
       "      <td>3</td>\n",
       "      <td>0</td>\n",
       "      <td>1</td>\n",
       "      <td>103838.32</td>\n",
       "      <td>0</td>\n",
       "    </tr>\n",
       "    <tr>\n",
       "      <th>7</th>\n",
       "      <td>218868</td>\n",
       "      <td>825.0</td>\n",
       "      <td>Ярославль</td>\n",
       "      <td>Ж</td>\n",
       "      <td>38.0</td>\n",
       "      <td>4</td>\n",
       "      <td>458145.40</td>\n",
       "      <td>2</td>\n",
       "      <td>1</td>\n",
       "      <td>1</td>\n",
       "      <td>68085.48</td>\n",
       "      <td>0</td>\n",
       "    </tr>\n",
       "    <tr>\n",
       "      <th>8</th>\n",
       "      <td>211686</td>\n",
       "      <td>923.0</td>\n",
       "      <td>Ярославль</td>\n",
       "      <td>М</td>\n",
       "      <td>54.0</td>\n",
       "      <td>5</td>\n",
       "      <td>1206337.87</td>\n",
       "      <td>2</td>\n",
       "      <td>1</td>\n",
       "      <td>0</td>\n",
       "      <td>155371.79</td>\n",
       "      <td>0</td>\n",
       "    </tr>\n",
       "    <tr>\n",
       "      <th>9</th>\n",
       "      <td>133130</td>\n",
       "      <td>906.0</td>\n",
       "      <td>Ярославль</td>\n",
       "      <td>Ж</td>\n",
       "      <td>67.0</td>\n",
       "      <td>0</td>\n",
       "      <td>NaN</td>\n",
       "      <td>1</td>\n",
       "      <td>0</td>\n",
       "      <td>1</td>\n",
       "      <td>238055.53</td>\n",
       "      <td>0</td>\n",
       "    </tr>\n",
       "  </tbody>\n",
       "</table>\n",
       "</div>"
      ],
      "text/plain": [
       "   USERID  score       city gender   age  equity     balance  products  \\\n",
       "0  183012  850.0    Рыбинск      Ж  25.0       1    59214.82         2   \n",
       "1  146556  861.0    Рыбинск      Ж  37.0       5   850594.33         3   \n",
       "2  120722  892.0    Рыбинск      Ж  30.0       0         NaN         1   \n",
       "3  225363  866.0  Ярославль      Ж  51.0       5  1524746.26         2   \n",
       "4  157978  730.0  Ярославль      М  34.0       5      174.00         1   \n",
       "5  202305  856.0    Рыбинск      М  56.0       4   863687.24         3   \n",
       "6  177259  807.0  Ярославль      Ж  39.0       3   405042.44         3   \n",
       "7  218868  825.0  Ярославль      Ж  38.0       4   458145.40         2   \n",
       "8  211686  923.0  Ярославль      М  54.0       5  1206337.87         2   \n",
       "9  133130  906.0  Ярославль      Ж  67.0       0         NaN         1   \n",
       "\n",
       "   credit_card  last_activity  EST_SALARY  churn  \n",
       "0            0              1    75719.14      1  \n",
       "1            1              0    86621.77      0  \n",
       "2            1              1   107683.34      0  \n",
       "3            0              1   174423.53      1  \n",
       "4            1              0    67353.16      1  \n",
       "5            1              0   156619.80      0  \n",
       "6            0              1   103838.32      0  \n",
       "7            1              1    68085.48      0  \n",
       "8            1              0   155371.79      0  \n",
       "9            0              1   238055.53      0  "
      ]
     },
     "metadata": {},
     "output_type": "display_data"
    }
   ],
   "source": [
    "try:\n",
    "    data = pd.read_csv('bank_scrooge.csv')\n",
    "except:\n",
    "    data = pd.read_csv('https://code.s3.yandex.net/datasets/bank_scrooge.csv')\n",
    "display(data.head(10))"
   ]
  },
  {
   "cell_type": "code",
   "execution_count": 4,
   "id": "4dfb0257-1171-4cda-b32c-5b879259963f",
   "metadata": {},
   "outputs": [
    {
     "name": "stdout",
     "output_type": "stream",
     "text": [
      "<class 'pandas.core.frame.DataFrame'>\n",
      "RangeIndex: 10000 entries, 0 to 9999\n",
      "Data columns (total 12 columns):\n",
      " #   Column         Non-Null Count  Dtype  \n",
      "---  ------         --------------  -----  \n",
      " 0   USERID         10000 non-null  int64  \n",
      " 1   score          10000 non-null  float64\n",
      " 2   city           10000 non-null  object \n",
      " 3   gender         10000 non-null  object \n",
      " 4   age            9974 non-null   float64\n",
      " 5   equity         10000 non-null  int64  \n",
      " 6   balance        7705 non-null   float64\n",
      " 7   products       10000 non-null  int64  \n",
      " 8   credit_card    10000 non-null  int64  \n",
      " 9   last_activity  10000 non-null  int64  \n",
      " 10  EST_SALARY     10000 non-null  float64\n",
      " 11  churn          10000 non-null  int64  \n",
      "dtypes: float64(4), int64(6), object(2)\n",
      "memory usage: 937.6+ KB\n"
     ]
    }
   ],
   "source": [
    "data.info()"
   ]
  },
  {
   "cell_type": "markdown",
   "id": "4f13aa58-48e2-4734-8c90-9b76d82c6bbc",
   "metadata": {},
   "source": [
    "В датасете содержатся 10000 строк и 12 столбцов с данными типа \"строки\", \"целые числа\", \"вещественные числа\"."
   ]
  },
  {
   "cell_type": "markdown",
   "id": "b3f105d9-a04f-4fec-afea-048adaf7181c",
   "metadata": {},
   "source": [
    "## Предобработка данных"
   ]
  },
  {
   "cell_type": "markdown",
   "id": "b73ea6fe",
   "metadata": {},
   "source": [
    "Сделаем все названия столбцов строчными."
   ]
  },
  {
   "cell_type": "code",
   "execution_count": 5,
   "id": "8622a860",
   "metadata": {},
   "outputs": [
    {
     "data": {
      "text/html": [
       "<div>\n",
       "<style scoped>\n",
       "    .dataframe tbody tr th:only-of-type {\n",
       "        vertical-align: middle;\n",
       "    }\n",
       "\n",
       "    .dataframe tbody tr th {\n",
       "        vertical-align: top;\n",
       "    }\n",
       "\n",
       "    .dataframe thead th {\n",
       "        text-align: right;\n",
       "    }\n",
       "</style>\n",
       "<table border=\"1\" class=\"dataframe\">\n",
       "  <thead>\n",
       "    <tr style=\"text-align: right;\">\n",
       "      <th></th>\n",
       "      <th>user_id</th>\n",
       "      <th>score</th>\n",
       "      <th>city</th>\n",
       "      <th>gender</th>\n",
       "      <th>age</th>\n",
       "      <th>equity</th>\n",
       "      <th>balance</th>\n",
       "      <th>products</th>\n",
       "      <th>credit_card</th>\n",
       "      <th>last_activity</th>\n",
       "      <th>est_salary</th>\n",
       "      <th>churn</th>\n",
       "    </tr>\n",
       "  </thead>\n",
       "  <tbody>\n",
       "    <tr>\n",
       "      <th>0</th>\n",
       "      <td>183012</td>\n",
       "      <td>850.0</td>\n",
       "      <td>Рыбинск</td>\n",
       "      <td>Ж</td>\n",
       "      <td>25.0</td>\n",
       "      <td>1</td>\n",
       "      <td>59214.82</td>\n",
       "      <td>2</td>\n",
       "      <td>0</td>\n",
       "      <td>1</td>\n",
       "      <td>75719.14</td>\n",
       "      <td>1</td>\n",
       "    </tr>\n",
       "    <tr>\n",
       "      <th>1</th>\n",
       "      <td>146556</td>\n",
       "      <td>861.0</td>\n",
       "      <td>Рыбинск</td>\n",
       "      <td>Ж</td>\n",
       "      <td>37.0</td>\n",
       "      <td>5</td>\n",
       "      <td>850594.33</td>\n",
       "      <td>3</td>\n",
       "      <td>1</td>\n",
       "      <td>0</td>\n",
       "      <td>86621.77</td>\n",
       "      <td>0</td>\n",
       "    </tr>\n",
       "    <tr>\n",
       "      <th>2</th>\n",
       "      <td>120722</td>\n",
       "      <td>892.0</td>\n",
       "      <td>Рыбинск</td>\n",
       "      <td>Ж</td>\n",
       "      <td>30.0</td>\n",
       "      <td>0</td>\n",
       "      <td>NaN</td>\n",
       "      <td>1</td>\n",
       "      <td>1</td>\n",
       "      <td>1</td>\n",
       "      <td>107683.34</td>\n",
       "      <td>0</td>\n",
       "    </tr>\n",
       "    <tr>\n",
       "      <th>3</th>\n",
       "      <td>225363</td>\n",
       "      <td>866.0</td>\n",
       "      <td>Ярославль</td>\n",
       "      <td>Ж</td>\n",
       "      <td>51.0</td>\n",
       "      <td>5</td>\n",
       "      <td>1524746.26</td>\n",
       "      <td>2</td>\n",
       "      <td>0</td>\n",
       "      <td>1</td>\n",
       "      <td>174423.53</td>\n",
       "      <td>1</td>\n",
       "    </tr>\n",
       "    <tr>\n",
       "      <th>4</th>\n",
       "      <td>157978</td>\n",
       "      <td>730.0</td>\n",
       "      <td>Ярославль</td>\n",
       "      <td>М</td>\n",
       "      <td>34.0</td>\n",
       "      <td>5</td>\n",
       "      <td>174.00</td>\n",
       "      <td>1</td>\n",
       "      <td>1</td>\n",
       "      <td>0</td>\n",
       "      <td>67353.16</td>\n",
       "      <td>1</td>\n",
       "    </tr>\n",
       "  </tbody>\n",
       "</table>\n",
       "</div>"
      ],
      "text/plain": [
       "   user_id  score       city gender   age  equity     balance  products  \\\n",
       "0   183012  850.0    Рыбинск      Ж  25.0       1    59214.82         2   \n",
       "1   146556  861.0    Рыбинск      Ж  37.0       5   850594.33         3   \n",
       "2   120722  892.0    Рыбинск      Ж  30.0       0         NaN         1   \n",
       "3   225363  866.0  Ярославль      Ж  51.0       5  1524746.26         2   \n",
       "4   157978  730.0  Ярославль      М  34.0       5      174.00         1   \n",
       "\n",
       "   credit_card  last_activity  est_salary  churn  \n",
       "0            0              1    75719.14      1  \n",
       "1            1              0    86621.77      0  \n",
       "2            1              1   107683.34      0  \n",
       "3            0              1   174423.53      1  \n",
       "4            1              0    67353.16      1  "
      ]
     },
     "execution_count": 5,
     "metadata": {},
     "output_type": "execute_result"
    }
   ],
   "source": [
    "data = data.rename(columns={'USERID': 'user_id', 'EST_SALARY': 'est_salary'})\n",
    "data.head()"
   ]
  },
  {
   "cell_type": "markdown",
   "id": "17462167-ec56-43ac-b6ef-b60701182402",
   "metadata": {},
   "source": [
    "### Типы данных"
   ]
  },
  {
   "cell_type": "markdown",
   "id": "e2d498a5-21c4-464b-9aae-01d89e57cf98",
   "metadata": {},
   "source": [
    "Заменим типы данных в столбцах `score` и `age` на int."
   ]
  },
  {
   "cell_type": "code",
   "execution_count": 6,
   "id": "5037fb1a-b00e-43b3-8af9-61d10f64eb68",
   "metadata": {},
   "outputs": [
    {
     "data": {
      "text/html": [
       "<div>\n",
       "<style scoped>\n",
       "    .dataframe tbody tr th:only-of-type {\n",
       "        vertical-align: middle;\n",
       "    }\n",
       "\n",
       "    .dataframe tbody tr th {\n",
       "        vertical-align: top;\n",
       "    }\n",
       "\n",
       "    .dataframe thead th {\n",
       "        text-align: right;\n",
       "    }\n",
       "</style>\n",
       "<table border=\"1\" class=\"dataframe\">\n",
       "  <thead>\n",
       "    <tr style=\"text-align: right;\">\n",
       "      <th></th>\n",
       "      <th>user_id</th>\n",
       "      <th>score</th>\n",
       "      <th>city</th>\n",
       "      <th>gender</th>\n",
       "      <th>age</th>\n",
       "      <th>equity</th>\n",
       "      <th>balance</th>\n",
       "      <th>products</th>\n",
       "      <th>credit_card</th>\n",
       "      <th>last_activity</th>\n",
       "      <th>est_salary</th>\n",
       "      <th>churn</th>\n",
       "    </tr>\n",
       "  </thead>\n",
       "  <tbody>\n",
       "    <tr>\n",
       "      <th>0</th>\n",
       "      <td>183012</td>\n",
       "      <td>850</td>\n",
       "      <td>Рыбинск</td>\n",
       "      <td>Ж</td>\n",
       "      <td>25.0</td>\n",
       "      <td>1</td>\n",
       "      <td>59214.82</td>\n",
       "      <td>2</td>\n",
       "      <td>0</td>\n",
       "      <td>1</td>\n",
       "      <td>75719.14</td>\n",
       "      <td>1</td>\n",
       "    </tr>\n",
       "    <tr>\n",
       "      <th>1</th>\n",
       "      <td>146556</td>\n",
       "      <td>861</td>\n",
       "      <td>Рыбинск</td>\n",
       "      <td>Ж</td>\n",
       "      <td>37.0</td>\n",
       "      <td>5</td>\n",
       "      <td>850594.33</td>\n",
       "      <td>3</td>\n",
       "      <td>1</td>\n",
       "      <td>0</td>\n",
       "      <td>86621.77</td>\n",
       "      <td>0</td>\n",
       "    </tr>\n",
       "    <tr>\n",
       "      <th>2</th>\n",
       "      <td>120722</td>\n",
       "      <td>892</td>\n",
       "      <td>Рыбинск</td>\n",
       "      <td>Ж</td>\n",
       "      <td>30.0</td>\n",
       "      <td>0</td>\n",
       "      <td>NaN</td>\n",
       "      <td>1</td>\n",
       "      <td>1</td>\n",
       "      <td>1</td>\n",
       "      <td>107683.34</td>\n",
       "      <td>0</td>\n",
       "    </tr>\n",
       "    <tr>\n",
       "      <th>3</th>\n",
       "      <td>225363</td>\n",
       "      <td>866</td>\n",
       "      <td>Ярославль</td>\n",
       "      <td>Ж</td>\n",
       "      <td>51.0</td>\n",
       "      <td>5</td>\n",
       "      <td>1524746.26</td>\n",
       "      <td>2</td>\n",
       "      <td>0</td>\n",
       "      <td>1</td>\n",
       "      <td>174423.53</td>\n",
       "      <td>1</td>\n",
       "    </tr>\n",
       "    <tr>\n",
       "      <th>4</th>\n",
       "      <td>157978</td>\n",
       "      <td>730</td>\n",
       "      <td>Ярославль</td>\n",
       "      <td>М</td>\n",
       "      <td>34.0</td>\n",
       "      <td>5</td>\n",
       "      <td>174.00</td>\n",
       "      <td>1</td>\n",
       "      <td>1</td>\n",
       "      <td>0</td>\n",
       "      <td>67353.16</td>\n",
       "      <td>1</td>\n",
       "    </tr>\n",
       "  </tbody>\n",
       "</table>\n",
       "</div>"
      ],
      "text/plain": [
       "   user_id  score       city gender   age  equity     balance  products  \\\n",
       "0   183012    850    Рыбинск      Ж  25.0       1    59214.82         2   \n",
       "1   146556    861    Рыбинск      Ж  37.0       5   850594.33         3   \n",
       "2   120722    892    Рыбинск      Ж  30.0       0         NaN         1   \n",
       "3   225363    866  Ярославль      Ж  51.0       5  1524746.26         2   \n",
       "4   157978    730  Ярославль      М  34.0       5      174.00         1   \n",
       "\n",
       "   credit_card  last_activity  est_salary  churn  \n",
       "0            0              1    75719.14      1  \n",
       "1            1              0    86621.77      0  \n",
       "2            1              1   107683.34      0  \n",
       "3            0              1   174423.53      1  \n",
       "4            1              0    67353.16      1  "
      ]
     },
     "execution_count": 6,
     "metadata": {},
     "output_type": "execute_result"
    }
   ],
   "source": [
    "data['score'] = data['score'].astype('int', errors='ignore')\n",
    "data['age'] = data['age'].astype('int', errors='ignore')\n",
    "data.head()"
   ]
  },
  {
   "cell_type": "markdown",
   "id": "4d318c06-18c6-44e0-a591-18e24f20f9be",
   "metadata": {},
   "source": [
    "### Пропуски"
   ]
  },
  {
   "cell_type": "markdown",
   "id": "3822b785-d56e-4300-b7d0-15f63e8acae5",
   "metadata": {},
   "source": [
    "Проверим данные на наличие пропусков."
   ]
  },
  {
   "cell_type": "code",
   "execution_count": 7,
   "id": "e2540713-24f1-408f-92ac-821f0c4e3296",
   "metadata": {},
   "outputs": [
    {
     "name": "stdout",
     "output_type": "stream",
     "text": [
      "user_id             0\n",
      "score               0\n",
      "city                0\n",
      "gender              0\n",
      "age                26\n",
      "equity              0\n",
      "balance          2295\n",
      "products            0\n",
      "credit_card         0\n",
      "last_activity       0\n",
      "est_salary          0\n",
      "churn               0\n",
      "dtype: int64\n",
      "user_id           0.00\n",
      "score             0.00\n",
      "city              0.00\n",
      "gender            0.00\n",
      "age               0.26\n",
      "equity            0.00\n",
      "balance          22.95\n",
      "products          0.00\n",
      "credit_card       0.00\n",
      "last_activity     0.00\n",
      "est_salary        0.00\n",
      "churn             0.00\n",
      "dtype: float64\n"
     ]
    }
   ],
   "source": [
    "print(data.isna().sum())\n",
    "print(data.isna().sum() / data.shape[0] * 100)"
   ]
  },
  {
   "cell_type": "markdown",
   "id": "997afb57-f0c8-4d38-82d0-edf5d456337b",
   "metadata": {},
   "source": [
    "Таким образом, мы имеем 0.26% пропусков в столбце с возрастом и 23% пропусков в столбце с балансом на счете."
   ]
  },
  {
   "cell_type": "markdown",
   "id": "0ad6064f-00d0-4419-aafc-9ec375bd920a",
   "metadata": {},
   "source": [
    "Проверим зависимость пропусков от переменных."
   ]
  },
  {
   "cell_type": "code",
   "execution_count": 8,
   "id": "7480b458-c576-438a-b69b-731f657b37bc",
   "metadata": {},
   "outputs": [
    {
     "data": {
      "text/html": [
       "<div>\n",
       "<style scoped>\n",
       "    .dataframe tbody tr th:only-of-type {\n",
       "        vertical-align: middle;\n",
       "    }\n",
       "\n",
       "    .dataframe tbody tr th {\n",
       "        vertical-align: top;\n",
       "    }\n",
       "\n",
       "    .dataframe thead th {\n",
       "        text-align: right;\n",
       "    }\n",
       "</style>\n",
       "<table border=\"1\" class=\"dataframe\">\n",
       "  <thead>\n",
       "    <tr style=\"text-align: right;\">\n",
       "      <th></th>\n",
       "      <th>user_id</th>\n",
       "      <th>score</th>\n",
       "      <th>city</th>\n",
       "      <th>gender</th>\n",
       "      <th>age</th>\n",
       "      <th>equity</th>\n",
       "      <th>balance</th>\n",
       "      <th>products</th>\n",
       "      <th>credit_card</th>\n",
       "      <th>last_activity</th>\n",
       "      <th>est_salary</th>\n",
       "      <th>churn</th>\n",
       "      <th>age_isna</th>\n",
       "      <th>balance_isna</th>\n",
       "    </tr>\n",
       "  </thead>\n",
       "  <tbody>\n",
       "    <tr>\n",
       "      <th>0</th>\n",
       "      <td>183012</td>\n",
       "      <td>850</td>\n",
       "      <td>Рыбинск</td>\n",
       "      <td>Ж</td>\n",
       "      <td>25.0</td>\n",
       "      <td>1</td>\n",
       "      <td>59214.82</td>\n",
       "      <td>2</td>\n",
       "      <td>0</td>\n",
       "      <td>1</td>\n",
       "      <td>75719.14</td>\n",
       "      <td>1</td>\n",
       "      <td>0</td>\n",
       "      <td>0</td>\n",
       "    </tr>\n",
       "    <tr>\n",
       "      <th>1</th>\n",
       "      <td>146556</td>\n",
       "      <td>861</td>\n",
       "      <td>Рыбинск</td>\n",
       "      <td>Ж</td>\n",
       "      <td>37.0</td>\n",
       "      <td>5</td>\n",
       "      <td>850594.33</td>\n",
       "      <td>3</td>\n",
       "      <td>1</td>\n",
       "      <td>0</td>\n",
       "      <td>86621.77</td>\n",
       "      <td>0</td>\n",
       "      <td>0</td>\n",
       "      <td>0</td>\n",
       "    </tr>\n",
       "    <tr>\n",
       "      <th>2</th>\n",
       "      <td>120722</td>\n",
       "      <td>892</td>\n",
       "      <td>Рыбинск</td>\n",
       "      <td>Ж</td>\n",
       "      <td>30.0</td>\n",
       "      <td>0</td>\n",
       "      <td>NaN</td>\n",
       "      <td>1</td>\n",
       "      <td>1</td>\n",
       "      <td>1</td>\n",
       "      <td>107683.34</td>\n",
       "      <td>0</td>\n",
       "      <td>0</td>\n",
       "      <td>1</td>\n",
       "    </tr>\n",
       "    <tr>\n",
       "      <th>3</th>\n",
       "      <td>225363</td>\n",
       "      <td>866</td>\n",
       "      <td>Ярославль</td>\n",
       "      <td>Ж</td>\n",
       "      <td>51.0</td>\n",
       "      <td>5</td>\n",
       "      <td>1524746.26</td>\n",
       "      <td>2</td>\n",
       "      <td>0</td>\n",
       "      <td>1</td>\n",
       "      <td>174423.53</td>\n",
       "      <td>1</td>\n",
       "      <td>0</td>\n",
       "      <td>0</td>\n",
       "    </tr>\n",
       "    <tr>\n",
       "      <th>4</th>\n",
       "      <td>157978</td>\n",
       "      <td>730</td>\n",
       "      <td>Ярославль</td>\n",
       "      <td>М</td>\n",
       "      <td>34.0</td>\n",
       "      <td>5</td>\n",
       "      <td>174.00</td>\n",
       "      <td>1</td>\n",
       "      <td>1</td>\n",
       "      <td>0</td>\n",
       "      <td>67353.16</td>\n",
       "      <td>1</td>\n",
       "      <td>0</td>\n",
       "      <td>0</td>\n",
       "    </tr>\n",
       "  </tbody>\n",
       "</table>\n",
       "</div>"
      ],
      "text/plain": [
       "   user_id  score       city gender   age  equity     balance  products  \\\n",
       "0   183012    850    Рыбинск      Ж  25.0       1    59214.82         2   \n",
       "1   146556    861    Рыбинск      Ж  37.0       5   850594.33         3   \n",
       "2   120722    892    Рыбинск      Ж  30.0       0         NaN         1   \n",
       "3   225363    866  Ярославль      Ж  51.0       5  1524746.26         2   \n",
       "4   157978    730  Ярославль      М  34.0       5      174.00         1   \n",
       "\n",
       "   credit_card  last_activity  est_salary  churn  age_isna  balance_isna  \n",
       "0            0              1    75719.14      1         0             0  \n",
       "1            1              0    86621.77      0         0             0  \n",
       "2            1              1   107683.34      0         0             1  \n",
       "3            0              1   174423.53      1         0             0  \n",
       "4            1              0    67353.16      1         0             0  "
      ]
     },
     "execution_count": 8,
     "metadata": {},
     "output_type": "execute_result"
    }
   ],
   "source": [
    "# Добавим переменные, показывающие наличие пропусков или их отсутствие в столбцах `age` и `balance`.\n",
    "\n",
    "data['age_isna'] = data['age'].isnull().astype(int)\n",
    "data['balance_isna'] = data['balance'].isnull().astype(int)\n",
    "data.head()"
   ]
  },
  {
   "cell_type": "markdown",
   "id": "142d80d7-7d17-461f-8dd5-02171eda59dc",
   "metadata": {},
   "source": [
    "Построим матрицу корреляций и посмотрим, есть ли зависимости между пропусками и другими признаками таблицы."
   ]
  },
  {
   "cell_type": "code",
   "execution_count": 9,
   "id": "c4511f95-87f5-491e-b4f6-f867447837b6",
   "metadata": {},
   "outputs": [
    {
     "data": {
      "text/html": [
       "<div>\n",
       "<style scoped>\n",
       "    .dataframe tbody tr th:only-of-type {\n",
       "        vertical-align: middle;\n",
       "    }\n",
       "\n",
       "    .dataframe tbody tr th {\n",
       "        vertical-align: top;\n",
       "    }\n",
       "\n",
       "    .dataframe thead th {\n",
       "        text-align: right;\n",
       "    }\n",
       "</style>\n",
       "<table border=\"1\" class=\"dataframe\">\n",
       "  <thead>\n",
       "    <tr style=\"text-align: right;\">\n",
       "      <th></th>\n",
       "      <th>score</th>\n",
       "      <th>city</th>\n",
       "      <th>gender</th>\n",
       "      <th>age</th>\n",
       "      <th>equity</th>\n",
       "      <th>balance</th>\n",
       "      <th>products</th>\n",
       "      <th>credit_card</th>\n",
       "      <th>last_activity</th>\n",
       "      <th>est_salary</th>\n",
       "      <th>churn</th>\n",
       "      <th>age_isna</th>\n",
       "      <th>balance_isna</th>\n",
       "    </tr>\n",
       "  </thead>\n",
       "  <tbody>\n",
       "    <tr>\n",
       "      <th>score</th>\n",
       "      <td>1.000000</td>\n",
       "      <td>0.090984</td>\n",
       "      <td>0.071278</td>\n",
       "      <td>0.032750</td>\n",
       "      <td>0.527970</td>\n",
       "      <td>0.170897</td>\n",
       "      <td>0.309150</td>\n",
       "      <td>0.208683</td>\n",
       "      <td>0.052911</td>\n",
       "      <td>0.395681</td>\n",
       "      <td>0.229572</td>\n",
       "      <td>0.059585</td>\n",
       "      <td>0.755046</td>\n",
       "    </tr>\n",
       "    <tr>\n",
       "      <th>city</th>\n",
       "      <td>0.090984</td>\n",
       "      <td>1.000000</td>\n",
       "      <td>0.012720</td>\n",
       "      <td>0.091769</td>\n",
       "      <td>0.063431</td>\n",
       "      <td>0.039968</td>\n",
       "      <td>0.222573</td>\n",
       "      <td>0.074831</td>\n",
       "      <td>0.030531</td>\n",
       "      <td>0.171390</td>\n",
       "      <td>0.016811</td>\n",
       "      <td>0.011859</td>\n",
       "      <td>0.040277</td>\n",
       "    </tr>\n",
       "    <tr>\n",
       "      <th>gender</th>\n",
       "      <td>0.071278</td>\n",
       "      <td>0.012720</td>\n",
       "      <td>1.000000</td>\n",
       "      <td>0.286450</td>\n",
       "      <td>0.064554</td>\n",
       "      <td>0.045424</td>\n",
       "      <td>0.122547</td>\n",
       "      <td>0.196238</td>\n",
       "      <td>0.014156</td>\n",
       "      <td>0.144801</td>\n",
       "      <td>0.218799</td>\n",
       "      <td>0.000000</td>\n",
       "      <td>0.097850</td>\n",
       "    </tr>\n",
       "    <tr>\n",
       "      <th>age</th>\n",
       "      <td>0.032750</td>\n",
       "      <td>0.091769</td>\n",
       "      <td>0.286450</td>\n",
       "      <td>1.000000</td>\n",
       "      <td>0.046514</td>\n",
       "      <td>0.019169</td>\n",
       "      <td>0.133230</td>\n",
       "      <td>0.157632</td>\n",
       "      <td>0.090068</td>\n",
       "      <td>0.359738</td>\n",
       "      <td>0.191653</td>\n",
       "      <td>NaN</td>\n",
       "      <td>0.047756</td>\n",
       "    </tr>\n",
       "    <tr>\n",
       "      <th>equity</th>\n",
       "      <td>0.527970</td>\n",
       "      <td>0.063431</td>\n",
       "      <td>0.064554</td>\n",
       "      <td>0.046514</td>\n",
       "      <td>1.000000</td>\n",
       "      <td>0.000000</td>\n",
       "      <td>0.442391</td>\n",
       "      <td>0.221940</td>\n",
       "      <td>0.051091</td>\n",
       "      <td>0.286489</td>\n",
       "      <td>0.352726</td>\n",
       "      <td>0.038201</td>\n",
       "      <td>0.975823</td>\n",
       "    </tr>\n",
       "    <tr>\n",
       "      <th>balance</th>\n",
       "      <td>0.170897</td>\n",
       "      <td>0.039968</td>\n",
       "      <td>0.045424</td>\n",
       "      <td>0.019169</td>\n",
       "      <td>0.000000</td>\n",
       "      <td>1.000000</td>\n",
       "      <td>0.000000</td>\n",
       "      <td>0.000000</td>\n",
       "      <td>0.000000</td>\n",
       "      <td>0.374374</td>\n",
       "      <td>0.024701</td>\n",
       "      <td>0.000000</td>\n",
       "      <td>NaN</td>\n",
       "    </tr>\n",
       "    <tr>\n",
       "      <th>products</th>\n",
       "      <td>0.309150</td>\n",
       "      <td>0.222573</td>\n",
       "      <td>0.122547</td>\n",
       "      <td>0.133230</td>\n",
       "      <td>0.442391</td>\n",
       "      <td>0.000000</td>\n",
       "      <td>1.000000</td>\n",
       "      <td>0.459214</td>\n",
       "      <td>0.191403</td>\n",
       "      <td>0.157906</td>\n",
       "      <td>0.441363</td>\n",
       "      <td>0.044816</td>\n",
       "      <td>0.793178</td>\n",
       "    </tr>\n",
       "    <tr>\n",
       "      <th>credit_card</th>\n",
       "      <td>0.208683</td>\n",
       "      <td>0.074831</td>\n",
       "      <td>0.196238</td>\n",
       "      <td>0.157632</td>\n",
       "      <td>0.221940</td>\n",
       "      <td>0.000000</td>\n",
       "      <td>0.459214</td>\n",
       "      <td>1.000000</td>\n",
       "      <td>0.049761</td>\n",
       "      <td>0.038195</td>\n",
       "      <td>0.202997</td>\n",
       "      <td>0.000000</td>\n",
       "      <td>0.245296</td>\n",
       "    </tr>\n",
       "    <tr>\n",
       "      <th>last_activity</th>\n",
       "      <td>0.052911</td>\n",
       "      <td>0.030531</td>\n",
       "      <td>0.014156</td>\n",
       "      <td>0.090068</td>\n",
       "      <td>0.051091</td>\n",
       "      <td>0.000000</td>\n",
       "      <td>0.191403</td>\n",
       "      <td>0.049761</td>\n",
       "      <td>1.000000</td>\n",
       "      <td>0.046097</td>\n",
       "      <td>0.261174</td>\n",
       "      <td>0.032798</td>\n",
       "      <td>0.041281</td>\n",
       "    </tr>\n",
       "    <tr>\n",
       "      <th>est_salary</th>\n",
       "      <td>0.395681</td>\n",
       "      <td>0.171390</td>\n",
       "      <td>0.144801</td>\n",
       "      <td>0.359738</td>\n",
       "      <td>0.286489</td>\n",
       "      <td>0.374374</td>\n",
       "      <td>0.157906</td>\n",
       "      <td>0.038195</td>\n",
       "      <td>0.046097</td>\n",
       "      <td>1.000000</td>\n",
       "      <td>0.047661</td>\n",
       "      <td>0.009403</td>\n",
       "      <td>0.430502</td>\n",
       "    </tr>\n",
       "    <tr>\n",
       "      <th>churn</th>\n",
       "      <td>0.229572</td>\n",
       "      <td>0.016811</td>\n",
       "      <td>0.218799</td>\n",
       "      <td>0.191653</td>\n",
       "      <td>0.352726</td>\n",
       "      <td>0.024701</td>\n",
       "      <td>0.441363</td>\n",
       "      <td>0.202997</td>\n",
       "      <td>0.261174</td>\n",
       "      <td>0.047661</td>\n",
       "      <td>1.000000</td>\n",
       "      <td>0.020515</td>\n",
       "      <td>0.381123</td>\n",
       "    </tr>\n",
       "    <tr>\n",
       "      <th>age_isna</th>\n",
       "      <td>0.059585</td>\n",
       "      <td>0.011859</td>\n",
       "      <td>0.000000</td>\n",
       "      <td>NaN</td>\n",
       "      <td>0.038201</td>\n",
       "      <td>0.000000</td>\n",
       "      <td>0.044816</td>\n",
       "      <td>0.000000</td>\n",
       "      <td>0.032798</td>\n",
       "      <td>0.009403</td>\n",
       "      <td>0.020515</td>\n",
       "      <td>1.000000</td>\n",
       "      <td>0.068092</td>\n",
       "    </tr>\n",
       "    <tr>\n",
       "      <th>balance_isna</th>\n",
       "      <td>0.755046</td>\n",
       "      <td>0.040277</td>\n",
       "      <td>0.097850</td>\n",
       "      <td>0.047756</td>\n",
       "      <td>0.975823</td>\n",
       "      <td>NaN</td>\n",
       "      <td>0.793178</td>\n",
       "      <td>0.245296</td>\n",
       "      <td>0.041281</td>\n",
       "      <td>0.430502</td>\n",
       "      <td>0.381123</td>\n",
       "      <td>0.068092</td>\n",
       "      <td>1.000000</td>\n",
       "    </tr>\n",
       "  </tbody>\n",
       "</table>\n",
       "</div>"
      ],
      "text/plain": [
       "                  score      city    gender       age    equity   balance  \\\n",
       "score          1.000000  0.090984  0.071278  0.032750  0.527970  0.170897   \n",
       "city           0.090984  1.000000  0.012720  0.091769  0.063431  0.039968   \n",
       "gender         0.071278  0.012720  1.000000  0.286450  0.064554  0.045424   \n",
       "age            0.032750  0.091769  0.286450  1.000000  0.046514  0.019169   \n",
       "equity         0.527970  0.063431  0.064554  0.046514  1.000000  0.000000   \n",
       "balance        0.170897  0.039968  0.045424  0.019169  0.000000  1.000000   \n",
       "products       0.309150  0.222573  0.122547  0.133230  0.442391  0.000000   \n",
       "credit_card    0.208683  0.074831  0.196238  0.157632  0.221940  0.000000   \n",
       "last_activity  0.052911  0.030531  0.014156  0.090068  0.051091  0.000000   \n",
       "est_salary     0.395681  0.171390  0.144801  0.359738  0.286489  0.374374   \n",
       "churn          0.229572  0.016811  0.218799  0.191653  0.352726  0.024701   \n",
       "age_isna       0.059585  0.011859  0.000000       NaN  0.038201  0.000000   \n",
       "balance_isna   0.755046  0.040277  0.097850  0.047756  0.975823       NaN   \n",
       "\n",
       "               products  credit_card  last_activity  est_salary     churn  \\\n",
       "score          0.309150     0.208683       0.052911    0.395681  0.229572   \n",
       "city           0.222573     0.074831       0.030531    0.171390  0.016811   \n",
       "gender         0.122547     0.196238       0.014156    0.144801  0.218799   \n",
       "age            0.133230     0.157632       0.090068    0.359738  0.191653   \n",
       "equity         0.442391     0.221940       0.051091    0.286489  0.352726   \n",
       "balance        0.000000     0.000000       0.000000    0.374374  0.024701   \n",
       "products       1.000000     0.459214       0.191403    0.157906  0.441363   \n",
       "credit_card    0.459214     1.000000       0.049761    0.038195  0.202997   \n",
       "last_activity  0.191403     0.049761       1.000000    0.046097  0.261174   \n",
       "est_salary     0.157906     0.038195       0.046097    1.000000  0.047661   \n",
       "churn          0.441363     0.202997       0.261174    0.047661  1.000000   \n",
       "age_isna       0.044816     0.000000       0.032798    0.009403  0.020515   \n",
       "balance_isna   0.793178     0.245296       0.041281    0.430502  0.381123   \n",
       "\n",
       "               age_isna  balance_isna  \n",
       "score          0.059585      0.755046  \n",
       "city           0.011859      0.040277  \n",
       "gender         0.000000      0.097850  \n",
       "age                 NaN      0.047756  \n",
       "equity         0.038201      0.975823  \n",
       "balance        0.000000           NaN  \n",
       "products       0.044816      0.793178  \n",
       "credit_card    0.000000      0.245296  \n",
       "last_activity  0.032798      0.041281  \n",
       "est_salary     0.009403      0.430502  \n",
       "churn          0.020515      0.381123  \n",
       "age_isna       1.000000      0.068092  \n",
       "balance_isna   0.068092      1.000000  "
      ]
     },
     "execution_count": 9,
     "metadata": {},
     "output_type": "execute_result"
    }
   ],
   "source": [
    "data.drop('user_id', axis=1).phik_matrix(interval_cols=['score', 'age', 'balance', 'est_salary'])"
   ]
  },
  {
   "cell_type": "markdown",
   "id": "f0e1f07d-bd46-4f5c-b2fb-8fdf470e199d",
   "metadata": {},
   "source": [
    "Таким образом, связи между пропусками в столбце с возрастом и другими признаками слишком слабая, следовательно, данные пропуски можно отнести к группе MCAR (отсутствуют совершенно случайно). Данных пропусков слишком мало, данные с ними можно удалить.\n",
    "\n",
    "Между пропусками в столбце с балансом и некоторыми признаками наблюдается сильная зависимость, следовательно, данные пропуски можно отнести к группе MNAR (отсутствуют не случайно). Данные пропуски мы оставим, как есть."
   ]
  },
  {
   "cell_type": "markdown",
   "id": "9ded304e-45c3-4f2a-94f8-9afdbc2552d4",
   "metadata": {},
   "source": [
    "Удалим данные с пропусками в столбце `age`."
   ]
  },
  {
   "cell_type": "code",
   "execution_count": 10,
   "id": "2d1aac45-3b9b-47fa-87fd-f62e17dc85ac",
   "metadata": {},
   "outputs": [
    {
     "data": {
      "text/plain": [
       "(9974, 14)"
      ]
     },
     "execution_count": 10,
     "metadata": {},
     "output_type": "execute_result"
    }
   ],
   "source": [
    "data = data.dropna(subset=['age']).reset_index(drop=True)\n",
    "data.shape"
   ]
  },
  {
   "cell_type": "markdown",
   "id": "fe14eb74-2dda-4302-91a0-192a29c11661",
   "metadata": {},
   "source": [
    "Таким образом, у нас осталось 9974 строки."
   ]
  },
  {
   "cell_type": "markdown",
   "id": "38b39511-f6de-408c-a82e-57e10a9dfa1f",
   "metadata": {},
   "source": [
    "### Дубликаты"
   ]
  },
  {
   "cell_type": "markdown",
   "id": "7ef8200f-e12a-401a-9a41-fc70210c3173",
   "metadata": {},
   "source": [
    "Проверим датасет на наличие явных дубликатов."
   ]
  },
  {
   "cell_type": "code",
   "execution_count": 11,
   "id": "a683bfa4-8c95-4a6b-8450-ff4664a141e1",
   "metadata": {},
   "outputs": [
    {
     "data": {
      "text/plain": [
       "0"
      ]
     },
     "execution_count": 11,
     "metadata": {},
     "output_type": "execute_result"
    }
   ],
   "source": [
    "data.duplicated().sum()"
   ]
  },
  {
   "cell_type": "markdown",
   "id": "5b1535ab-95da-4e15-bdac-e7a36e3aa8d8",
   "metadata": {},
   "source": [
    "Таким образом, явных дубликатов не выявлено."
   ]
  },
  {
   "cell_type": "markdown",
   "id": "087c76d3-dff4-42bd-b9f6-9bcc243aa7ab",
   "metadata": {},
   "source": [
    "Проверим датасет на наличие неявных дубликатов по столбцу `user_id`."
   ]
  },
  {
   "cell_type": "code",
   "execution_count": 12,
   "id": "517a618b-a1d9-4e2c-ad66-cfd8d53dcc9d",
   "metadata": {},
   "outputs": [
    {
     "data": {
      "text/plain": [
       "50"
      ]
     },
     "execution_count": 12,
     "metadata": {},
     "output_type": "execute_result"
    }
   ],
   "source": [
    "data.duplicated(subset='user_id').sum()"
   ]
  },
  {
   "cell_type": "markdown",
   "id": "f00d1905-cd7c-45ad-838b-5f2d9ee3763e",
   "metadata": {},
   "source": [
    "Таким образом, мы выявили 50 дубликатов по столбцу `user_id`."
   ]
  },
  {
   "cell_type": "markdown",
   "id": "2d62a06d-390a-4a7e-8151-01bb05c4ecaf",
   "metadata": {},
   "source": [
    "Посмотрим на полный набор дублированных строк."
   ]
  },
  {
   "cell_type": "code",
   "execution_count": 13,
   "id": "31982f6b-edae-40a4-98ba-575ea213160c",
   "metadata": {},
   "outputs": [
    {
     "data": {
      "text/html": [
       "<div>\n",
       "<style scoped>\n",
       "    .dataframe tbody tr th:only-of-type {\n",
       "        vertical-align: middle;\n",
       "    }\n",
       "\n",
       "    .dataframe tbody tr th {\n",
       "        vertical-align: top;\n",
       "    }\n",
       "\n",
       "    .dataframe thead th {\n",
       "        text-align: right;\n",
       "    }\n",
       "</style>\n",
       "<table border=\"1\" class=\"dataframe\">\n",
       "  <thead>\n",
       "    <tr style=\"text-align: right;\">\n",
       "      <th></th>\n",
       "      <th>user_id</th>\n",
       "      <th>score</th>\n",
       "      <th>city</th>\n",
       "      <th>gender</th>\n",
       "      <th>age</th>\n",
       "      <th>equity</th>\n",
       "      <th>balance</th>\n",
       "      <th>products</th>\n",
       "      <th>credit_card</th>\n",
       "      <th>last_activity</th>\n",
       "      <th>est_salary</th>\n",
       "      <th>churn</th>\n",
       "      <th>age_isna</th>\n",
       "      <th>balance_isna</th>\n",
       "    </tr>\n",
       "  </thead>\n",
       "  <tbody>\n",
       "    <tr>\n",
       "      <th>1892</th>\n",
       "      <td>116540</td>\n",
       "      <td>883</td>\n",
       "      <td>Рыбинск</td>\n",
       "      <td>Ж</td>\n",
       "      <td>55.0</td>\n",
       "      <td>1</td>\n",
       "      <td>362756.49</td>\n",
       "      <td>3</td>\n",
       "      <td>0</td>\n",
       "      <td>1</td>\n",
       "      <td>175920.48</td>\n",
       "      <td>1</td>\n",
       "      <td>0</td>\n",
       "      <td>0</td>\n",
       "    </tr>\n",
       "    <tr>\n",
       "      <th>7683</th>\n",
       "      <td>116540</td>\n",
       "      <td>887</td>\n",
       "      <td>Ярославль</td>\n",
       "      <td>Ж</td>\n",
       "      <td>38.0</td>\n",
       "      <td>0</td>\n",
       "      <td>NaN</td>\n",
       "      <td>1</td>\n",
       "      <td>0</td>\n",
       "      <td>1</td>\n",
       "      <td>119247.61</td>\n",
       "      <td>0</td>\n",
       "      <td>0</td>\n",
       "      <td>1</td>\n",
       "    </tr>\n",
       "    <tr>\n",
       "      <th>4862</th>\n",
       "      <td>117943</td>\n",
       "      <td>855</td>\n",
       "      <td>Рыбинск</td>\n",
       "      <td>Ж</td>\n",
       "      <td>32.0</td>\n",
       "      <td>6</td>\n",
       "      <td>1036832.93</td>\n",
       "      <td>4</td>\n",
       "      <td>1</td>\n",
       "      <td>1</td>\n",
       "      <td>107792.71</td>\n",
       "      <td>1</td>\n",
       "      <td>0</td>\n",
       "      <td>0</td>\n",
       "    </tr>\n",
       "    <tr>\n",
       "      <th>7531</th>\n",
       "      <td>117943</td>\n",
       "      <td>880</td>\n",
       "      <td>Ярославль</td>\n",
       "      <td>Ж</td>\n",
       "      <td>40.0</td>\n",
       "      <td>0</td>\n",
       "      <td>NaN</td>\n",
       "      <td>1</td>\n",
       "      <td>1</td>\n",
       "      <td>0</td>\n",
       "      <td>137718.93</td>\n",
       "      <td>0</td>\n",
       "      <td>0</td>\n",
       "      <td>1</td>\n",
       "    </tr>\n",
       "    <tr>\n",
       "      <th>5856</th>\n",
       "      <td>120258</td>\n",
       "      <td>908</td>\n",
       "      <td>Рыбинск</td>\n",
       "      <td>Ж</td>\n",
       "      <td>38.0</td>\n",
       "      <td>4</td>\n",
       "      <td>2213581.63</td>\n",
       "      <td>2</td>\n",
       "      <td>0</td>\n",
       "      <td>1</td>\n",
       "      <td>160327.77</td>\n",
       "      <td>1</td>\n",
       "      <td>0</td>\n",
       "      <td>0</td>\n",
       "    </tr>\n",
       "    <tr>\n",
       "      <th>...</th>\n",
       "      <td>...</td>\n",
       "      <td>...</td>\n",
       "      <td>...</td>\n",
       "      <td>...</td>\n",
       "      <td>...</td>\n",
       "      <td>...</td>\n",
       "      <td>...</td>\n",
       "      <td>...</td>\n",
       "      <td>...</td>\n",
       "      <td>...</td>\n",
       "      <td>...</td>\n",
       "      <td>...</td>\n",
       "      <td>...</td>\n",
       "      <td>...</td>\n",
       "    </tr>\n",
       "    <tr>\n",
       "      <th>2300</th>\n",
       "      <td>220816</td>\n",
       "      <td>934</td>\n",
       "      <td>Рыбинск</td>\n",
       "      <td>Ж</td>\n",
       "      <td>74.0</td>\n",
       "      <td>5</td>\n",
       "      <td>1294285.39</td>\n",
       "      <td>3</td>\n",
       "      <td>1</td>\n",
       "      <td>0</td>\n",
       "      <td>95606.80</td>\n",
       "      <td>0</td>\n",
       "      <td>0</td>\n",
       "      <td>0</td>\n",
       "    </tr>\n",
       "    <tr>\n",
       "      <th>2594</th>\n",
       "      <td>226719</td>\n",
       "      <td>990</td>\n",
       "      <td>Ярославль</td>\n",
       "      <td>М</td>\n",
       "      <td>37.0</td>\n",
       "      <td>4</td>\n",
       "      <td>14648692.14</td>\n",
       "      <td>2</td>\n",
       "      <td>0</td>\n",
       "      <td>0</td>\n",
       "      <td>934412.61</td>\n",
       "      <td>1</td>\n",
       "      <td>0</td>\n",
       "      <td>0</td>\n",
       "    </tr>\n",
       "    <tr>\n",
       "      <th>4212</th>\n",
       "      <td>226719</td>\n",
       "      <td>903</td>\n",
       "      <td>Рыбинск</td>\n",
       "      <td>Ж</td>\n",
       "      <td>63.0</td>\n",
       "      <td>0</td>\n",
       "      <td>NaN</td>\n",
       "      <td>1</td>\n",
       "      <td>1</td>\n",
       "      <td>0</td>\n",
       "      <td>138582.58</td>\n",
       "      <td>0</td>\n",
       "      <td>0</td>\n",
       "      <td>1</td>\n",
       "    </tr>\n",
       "    <tr>\n",
       "      <th>8192</th>\n",
       "      <td>227795</td>\n",
       "      <td>840</td>\n",
       "      <td>Рыбинск</td>\n",
       "      <td>М</td>\n",
       "      <td>34.0</td>\n",
       "      <td>2</td>\n",
       "      <td>350768.03</td>\n",
       "      <td>1</td>\n",
       "      <td>1</td>\n",
       "      <td>0</td>\n",
       "      <td>102036.14</td>\n",
       "      <td>1</td>\n",
       "      <td>0</td>\n",
       "      <td>0</td>\n",
       "    </tr>\n",
       "    <tr>\n",
       "      <th>8481</th>\n",
       "      <td>227795</td>\n",
       "      <td>839</td>\n",
       "      <td>Ярославль</td>\n",
       "      <td>М</td>\n",
       "      <td>34.0</td>\n",
       "      <td>2</td>\n",
       "      <td>326593.14</td>\n",
       "      <td>2</td>\n",
       "      <td>1</td>\n",
       "      <td>0</td>\n",
       "      <td>103314.92</td>\n",
       "      <td>0</td>\n",
       "      <td>0</td>\n",
       "      <td>0</td>\n",
       "    </tr>\n",
       "  </tbody>\n",
       "</table>\n",
       "<p>100 rows × 14 columns</p>\n",
       "</div>"
      ],
      "text/plain": [
       "      user_id  score       city gender   age  equity      balance  products  \\\n",
       "1892   116540    883    Рыбинск      Ж  55.0       1    362756.49         3   \n",
       "7683   116540    887  Ярославль      Ж  38.0       0          NaN         1   \n",
       "4862   117943    855    Рыбинск      Ж  32.0       6   1036832.93         4   \n",
       "7531   117943    880  Ярославль      Ж  40.0       0          NaN         1   \n",
       "5856   120258    908    Рыбинск      Ж  38.0       4   2213581.63         2   \n",
       "...       ...    ...        ...    ...   ...     ...          ...       ...   \n",
       "2300   220816    934    Рыбинск      Ж  74.0       5   1294285.39         3   \n",
       "2594   226719    990  Ярославль      М  37.0       4  14648692.14         2   \n",
       "4212   226719    903    Рыбинск      Ж  63.0       0          NaN         1   \n",
       "8192   227795    840    Рыбинск      М  34.0       2    350768.03         1   \n",
       "8481   227795    839  Ярославль      М  34.0       2    326593.14         2   \n",
       "\n",
       "      credit_card  last_activity  est_salary  churn  age_isna  balance_isna  \n",
       "1892            0              1   175920.48      1         0             0  \n",
       "7683            0              1   119247.61      0         0             1  \n",
       "4862            1              1   107792.71      1         0             0  \n",
       "7531            1              0   137718.93      0         0             1  \n",
       "5856            0              1   160327.77      1         0             0  \n",
       "...           ...            ...         ...    ...       ...           ...  \n",
       "2300            1              0    95606.80      0         0             0  \n",
       "2594            0              0   934412.61      1         0             0  \n",
       "4212            1              0   138582.58      0         0             1  \n",
       "8192            1              0   102036.14      1         0             0  \n",
       "8481            1              0   103314.92      0         0             0  \n",
       "\n",
       "[100 rows x 14 columns]"
      ]
     },
     "execution_count": 13,
     "metadata": {},
     "output_type": "execute_result"
    }
   ],
   "source": [
    "data[data['user_id'].duplicated(keep=False)].sort_values(by='user_id')"
   ]
  },
  {
   "cell_type": "markdown",
   "id": "b6dabd06-2474-4559-9712-fe441bed5578",
   "metadata": {},
   "source": [
    "Посмотрим дубликаты по паре user_id - city."
   ]
  },
  {
   "cell_type": "code",
   "execution_count": 14,
   "id": "82382521-470c-48ee-92b0-4f4232c2eb01",
   "metadata": {},
   "outputs": [
    {
     "data": {
      "text/plain": [
       "0"
      ]
     },
     "execution_count": 14,
     "metadata": {},
     "output_type": "execute_result"
    }
   ],
   "source": [
    "data.duplicated(subset=['user_id', 'city']).sum()"
   ]
  },
  {
   "cell_type": "markdown",
   "id": "cf4086ee-0df3-44d0-a206-39abb90909a5",
   "metadata": {},
   "source": [
    "Таким образом, дублирование user_id связано с тем, что в банках разных городов поставили одинаковые идентификаторы для пользователей. Следовательно, данные дубликаты мы удалять не будем."
   ]
  },
  {
   "cell_type": "markdown",
   "id": "accac630-91f0-4f60-ba8f-c4bb4980d233",
   "metadata": {},
   "source": [
    "## Исследовательский анализ данных"
   ]
  },
  {
   "cell_type": "markdown",
   "id": "ed50c3c1",
   "metadata": {},
   "source": [
    "### Распределение признаков в разрезе оттока"
   ]
  },
  {
   "cell_type": "markdown",
   "id": "6468956e",
   "metadata": {},
   "source": [
    "Посмотрим на распределение баланса на счете в разрезе оттока."
   ]
  },
  {
   "cell_type": "code",
   "execution_count": 15,
   "id": "119e6e18",
   "metadata": {},
   "outputs": [
    {
     "data": {
      "image/png": "[encoded data removed]",
      "text/plain": [
       "<Figure size 1000x700 with 1 Axes>"
      ]
     },
     "metadata": {},
     "output_type": "display_data"
    }
   ],
   "source": [
    "sns.histplot(data=data, x='balance', hue='churn', stat='density', common_norm=False)\n",
    "plt.title('Распределение баланса на счете в разрезе оттока')\n",
    "plt.xlabel('Баланс')\n",
    "plt.ylabel('Плотность распределения')\n",
    "plt.show()"
   ]
  },
  {
   "cell_type": "markdown",
   "id": "428f925a",
   "metadata": {},
   "source": [
    "Мы видим на графике слишком сильные выбросы, которые стоит обработать."
   ]
  },
  {
   "cell_type": "markdown",
   "id": "22d7d1b6",
   "metadata": {},
   "source": [
    "Посчитаем 90, 95 и 99-й процентили для переменной `balance`."
   ]
  },
  {
   "cell_type": "code",
   "execution_count": 16,
   "id": "105efd09",
   "metadata": {},
   "outputs": [
    {
     "data": {
      "text/plain": [
       "0.90    1460133.708\n",
       "0.95    2114078.394\n",
       "0.99    4827211.159\n",
       "Name: balance, dtype: float64"
      ]
     },
     "execution_count": 16,
     "metadata": {},
     "output_type": "execute_result"
    }
   ],
   "source": [
    "data['balance'].quantile([0.90, 0.95, 0.99])"
   ]
  },
  {
   "cell_type": "markdown",
   "id": "3d19707a",
   "metadata": {},
   "source": [
    "Оставим в датасете данные с балансом не более 2 115 000."
   ]
  },
  {
   "cell_type": "code",
   "execution_count": 17,
   "id": "5f739186",
   "metadata": {},
   "outputs": [
    {
     "data": {
      "text/plain": [
       "(9589, 14)"
      ]
     },
     "execution_count": 17,
     "metadata": {},
     "output_type": "execute_result"
    }
   ],
   "source": [
    "data = data.query('balance.isna() or balance <= 2115000')\n",
    "data.shape"
   ]
  },
  {
   "cell_type": "markdown",
   "id": "a91ef76a-97c1-4884-9c2f-906074c96b62",
   "metadata": {},
   "source": [
    "Таким образом, у нас осталось 9589 строк."
   ]
  },
  {
   "cell_type": "code",
   "execution_count": 18,
   "id": "d9ba54a2",
   "metadata": {},
   "outputs": [
    {
     "data": {
      "image/png": "[encoded data removed]",
      "text/plain": [
       "<Figure size 1000x700 with 1 Axes>"
      ]
     },
     "metadata": {},
     "output_type": "display_data"
    }
   ],
   "source": [
    "sns.histplot(data=data, x='balance', hue='churn', bins=20, stat='density', common_norm=False)\n",
    "plt.title('Распределение баланса на счете в разрезе оттока')\n",
    "plt.xlabel('Баланс')\n",
    "plt.ylabel('Плотность распределения')\n",
    "plt.show()"
   ]
  },
  {
   "cell_type": "markdown",
   "id": "3c8f1b01",
   "metadata": {},
   "source": [
    "Таким образом, наиболее склонны к оттоку клиенты с балансом на счете от 750 000 до 2 115 000."
   ]
  },
  {
   "cell_type": "markdown",
   "id": "54f2931e-de4a-4079-a397-a5d782655775",
   "metadata": {},
   "source": [
    "Посмотрим на распределение оценочного дохода клиента в разрезе оттока."
   ]
  },
  {
   "cell_type": "code",
   "execution_count": 19,
   "id": "a49f61ff-8c24-471c-95cc-b24131c969c3",
   "metadata": {},
   "outputs": [
    {
     "data": {
      "image/png": "[encoded data removed]",
      "text/plain": [
       "<Figure size 1000x700 with 1 Axes>"
      ]
     },
     "metadata": {},
     "output_type": "display_data"
    }
   ],
   "source": [
    "sns.histplot(data=data, x='est_salary', hue='churn', stat='density', common_norm=False)\n",
    "plt.title('Распределение оценочного дохода клиента в разрезе оттока')\n",
    "plt.xlabel('Оценочный доход клиента')\n",
    "plt.ylabel('Плотность распределения')\n",
    "plt.show()"
   ]
  },
  {
   "cell_type": "markdown",
   "id": "68bbdca4-4e16-413b-8c86-dc091bb611fa",
   "metadata": {},
   "source": [
    "Посчитаем 90, 95 и 99-й процентили для переменной `est_salary`."
   ]
  },
  {
   "cell_type": "code",
   "execution_count": 20,
   "id": "9eba3fcb-c99f-4c9b-9487-fba5c6740e53",
   "metadata": {},
   "outputs": [
    {
     "data": {
      "text/plain": [
       "0.90    230198.4620\n",
       "0.95    286430.0720\n",
       "0.99    801732.8244\n",
       "Name: est_salary, dtype: float64"
      ]
     },
     "execution_count": 20,
     "metadata": {},
     "output_type": "execute_result"
    }
   ],
   "source": [
    "data['est_salary'].quantile([0.90, 0.95, 0.99])"
   ]
  },
  {
   "cell_type": "markdown",
   "id": "f6d5a152-34a3-4751-b58c-3d0284ad0dde",
   "metadata": {},
   "source": [
    "Оставим в датасете данные с балансом не более 300 000."
   ]
  },
  {
   "cell_type": "code",
   "execution_count": 21,
   "id": "f16d9077-c874-4d21-8702-2b8ba742f263",
   "metadata": {},
   "outputs": [
    {
     "data": {
      "text/plain": [
       "(9157, 14)"
      ]
     },
     "execution_count": 21,
     "metadata": {},
     "output_type": "execute_result"
    }
   ],
   "source": [
    "data = data.query('est_salary <= 300000')\n",
    "data.shape"
   ]
  },
  {
   "cell_type": "markdown",
   "id": "d45c94bc-87ff-4798-96bc-5796054a2b9f",
   "metadata": {},
   "source": [
    "Таким образом, у нас осталось 9157 строк."
   ]
  },
  {
   "cell_type": "code",
   "execution_count": 22,
   "id": "ec7b06ec-0c9b-40b7-9bbf-cd837c41ca5e",
   "metadata": {},
   "outputs": [
    {
     "data": {
      "image/png": "[encoded data removed]",
      "text/plain": [
       "<Figure size 1000x700 with 1 Axes>"
      ]
     },
     "metadata": {},
     "output_type": "display_data"
    }
   ],
   "source": [
    "sns.histplot(data=data, x='est_salary', hue='churn', bins=25, stat='density', common_norm=False)\n",
    "plt.title('Распределение оценочного дохода клиента в разрезе оттока')\n",
    "plt.xlabel('Оценочный доход клиента')\n",
    "plt.ylabel('Плотность распределения')\n",
    "plt.show()"
   ]
  },
  {
   "cell_type": "markdown",
   "id": "904a89d9-4d66-4934-9383-c719a1f3e606",
   "metadata": {},
   "source": [
    "Таким образом, наиболее склонны к оттоку клиенты с оценочным доходом от 100 000 до 180 000."
   ]
  },
  {
   "cell_type": "markdown",
   "id": "31e27a40",
   "metadata": {},
   "source": [
    "Посмотрим на распределение баллов кредитного скоринга в разрезе оттока."
   ]
  },
  {
   "cell_type": "code",
   "execution_count": 23,
   "id": "8fd146e1",
   "metadata": {},
   "outputs": [
    {
     "data": {
      "image/png": "[encoded data removed]",
      "text/plain": [
       "<Figure size 1000x700 with 1 Axes>"
      ]
     },
     "metadata": {},
     "output_type": "display_data"
    }
   ],
   "source": [
    "sns.histplot(data=data, x='score', hue='churn', stat='density', common_norm=False)\n",
    "plt.title('Распределение баллов кредитного скоринга в разрезе оттока')\n",
    "plt.xlabel('Баллы')\n",
    "plt.ylabel('Плотность распределения')\n",
    "plt.show()"
   ]
  },
  {
   "cell_type": "markdown",
   "id": "b054f64a",
   "metadata": {},
   "source": [
    "Таким образом, наиболее склонны к оттоку клиенты с баллам кредитного скоринга от 824 до 900."
   ]
  },
  {
   "cell_type": "markdown",
   "id": "45117c60",
   "metadata": {},
   "source": [
    "Посмотрим на распределение городов в разрезе оттока."
   ]
  },
  {
   "cell_type": "code",
   "execution_count": 24,
   "id": "bb660bed",
   "metadata": {},
   "outputs": [
    {
     "data": {
      "text/html": [
       "<div>\n",
       "<style scoped>\n",
       "    .dataframe tbody tr th:only-of-type {\n",
       "        vertical-align: middle;\n",
       "    }\n",
       "\n",
       "    .dataframe tbody tr th {\n",
       "        vertical-align: top;\n",
       "    }\n",
       "\n",
       "    .dataframe thead th {\n",
       "        text-align: right;\n",
       "    }\n",
       "</style>\n",
       "<table border=\"1\" class=\"dataframe\">\n",
       "  <thead>\n",
       "    <tr style=\"text-align: right;\">\n",
       "      <th></th>\n",
       "      <th>city</th>\n",
       "      <th>sum</th>\n",
       "      <th>count</th>\n",
       "      <th>ratio</th>\n",
       "    </tr>\n",
       "  </thead>\n",
       "  <tbody>\n",
       "    <tr>\n",
       "      <th>2</th>\n",
       "      <td>Ярославль</td>\n",
       "      <td>955</td>\n",
       "      <td>5272</td>\n",
       "      <td>0.181</td>\n",
       "    </tr>\n",
       "    <tr>\n",
       "      <th>0</th>\n",
       "      <td>Ростов</td>\n",
       "      <td>247</td>\n",
       "      <td>1373</td>\n",
       "      <td>0.180</td>\n",
       "    </tr>\n",
       "    <tr>\n",
       "      <th>1</th>\n",
       "      <td>Рыбинск</td>\n",
       "      <td>393</td>\n",
       "      <td>2512</td>\n",
       "      <td>0.156</td>\n",
       "    </tr>\n",
       "  </tbody>\n",
       "</table>\n",
       "</div>"
      ],
      "text/plain": [
       "        city  sum  count  ratio\n",
       "2  Ярославль  955   5272  0.181\n",
       "0     Ростов  247   1373  0.180\n",
       "1    Рыбинск  393   2512  0.156"
      ]
     },
     "execution_count": 24,
     "metadata": {},
     "output_type": "execute_result"
    }
   ],
   "source": [
    "city = data.groupby('city', as_index=False).agg({'churn': ['sum', 'count']})\n",
    "city.columns = ['city', 'sum', 'count']\n",
    "city['ratio'] = round(city['sum'] / city['count'], 3)\n",
    "city = city.sort_values(by='ratio', ascending=False)\n",
    "city"
   ]
  },
  {
   "cell_type": "code",
   "execution_count": 25,
   "id": "3f2473db",
   "metadata": {},
   "outputs": [
    {
     "data": {
      "image/png": "[encoded data removed]",
      "text/plain": [
       "<Figure size 1000x700 with 1 Axes>"
      ]
     },
     "metadata": {},
     "output_type": "display_data"
    }
   ],
   "source": [
    "sns.barplot(data=city, x='city', y='ratio', color='#179BAE')\n",
    "plt.axhline(y=city['ratio'].mean(), color='r', linestyle='--', label='Средний уровень оттока по банку')\n",
    "plt.title('Распределение городов в разрезе оттока')\n",
    "plt.xlabel('Город')\n",
    "plt.ylabel('Доля оттока')\n",
    "plt.legend()\n",
    "plt.show()"
   ]
  },
  {
   "cell_type": "markdown",
   "id": "5c737a53",
   "metadata": {},
   "source": [
    "Таким образом, чаще всего отточные клиенты являются жителями Ярославля и Ростова."
   ]
  },
  {
   "cell_type": "markdown",
   "id": "b605db58",
   "metadata": {},
   "source": [
    "Посмотрим на распределение пола в разрезе оттока."
   ]
  },
  {
   "cell_type": "code",
   "execution_count": 26,
   "id": "ec6ba25d",
   "metadata": {},
   "outputs": [
    {
     "data": {
      "text/html": [
       "<div>\n",
       "<style scoped>\n",
       "    .dataframe tbody tr th:only-of-type {\n",
       "        vertical-align: middle;\n",
       "    }\n",
       "\n",
       "    .dataframe tbody tr th {\n",
       "        vertical-align: top;\n",
       "    }\n",
       "\n",
       "    .dataframe thead th {\n",
       "        text-align: right;\n",
       "    }\n",
       "</style>\n",
       "<table border=\"1\" class=\"dataframe\">\n",
       "  <thead>\n",
       "    <tr style=\"text-align: right;\">\n",
       "      <th></th>\n",
       "      <th>gender</th>\n",
       "      <th>sum</th>\n",
       "      <th>count</th>\n",
       "      <th>ratio</th>\n",
       "    </tr>\n",
       "  </thead>\n",
       "  <tbody>\n",
       "    <tr>\n",
       "      <th>1</th>\n",
       "      <td>М</td>\n",
       "      <td>1018</td>\n",
       "      <td>4491</td>\n",
       "      <td>0.227</td>\n",
       "    </tr>\n",
       "    <tr>\n",
       "      <th>0</th>\n",
       "      <td>Ж</td>\n",
       "      <td>577</td>\n",
       "      <td>4666</td>\n",
       "      <td>0.124</td>\n",
       "    </tr>\n",
       "  </tbody>\n",
       "</table>\n",
       "</div>"
      ],
      "text/plain": [
       "  gender   sum  count  ratio\n",
       "1      М  1018   4491  0.227\n",
       "0      Ж   577   4666  0.124"
      ]
     },
     "execution_count": 26,
     "metadata": {},
     "output_type": "execute_result"
    }
   ],
   "source": [
    "gen = data.groupby('gender', as_index=False).agg({'churn': ['sum', 'count']})\n",
    "gen.columns = ['gender', 'sum', 'count']\n",
    "gen['ratio'] = round(gen['sum'] / gen['count'], 3)\n",
    "gen = gen.sort_values(by='ratio', ascending=False)\n",
    "gen"
   ]
  },
  {
   "cell_type": "code",
   "execution_count": 27,
   "id": "b77ed9d8",
   "metadata": {},
   "outputs": [
    {
     "data": {
      "image/png": "[encoded data removed]",
      "text/plain": [
       "<Figure size 1000x700 with 1 Axes>"
      ]
     },
     "metadata": {},
     "output_type": "display_data"
    }
   ],
   "source": [
    "sns.barplot(data=gen, x='gender', y='ratio', color='#179BAE')\n",
    "plt.axhline(y=gen['ratio'].mean(), color='r', linestyle='--', label='Средний уровень оттока по банку')\n",
    "plt.title('Распределение пола в разрезе оттока')\n",
    "plt.xlabel('Пол')\n",
    "plt.ylabel('Доля оттока')\n",
    "plt.legend()\n",
    "plt.show()"
   ]
  },
  {
   "cell_type": "markdown",
   "id": "9937ef17",
   "metadata": {},
   "source": [
    "Таким образом, чаще всего уходят из банка мужчины."
   ]
  },
  {
   "cell_type": "markdown",
   "id": "688eb506",
   "metadata": {},
   "source": [
    "Посмотрим на распределение возраста в разрезе оттока."
   ]
  },
  {
   "cell_type": "code",
   "execution_count": 28,
   "id": "d2159ea4",
   "metadata": {},
   "outputs": [
    {
     "data": {
      "image/png": "[encoded data removed]",
      "text/plain": [
       "<Figure size 1000x700 with 1 Axes>"
      ]
     },
     "metadata": {},
     "output_type": "display_data"
    }
   ],
   "source": [
    "sns.histplot(data=data, x='age', hue='churn', bins=35, stat='density', common_norm=False)\n",
    "plt.title('Распределение возраста в разрезе оттока')\n",
    "plt.xlabel('Возраст')\n",
    "plt.ylabel('Плотность распределения')\n",
    "plt.show()"
   ]
  },
  {
   "cell_type": "markdown",
   "id": "31c1fd77",
   "metadata": {},
   "source": [
    "Таким образом, наиболее склонны к оттоку клиенты в возрасте от 23 до 35 лет и от 50 до 62 лет."
   ]
  },
  {
   "cell_type": "markdown",
   "id": "1e4f5211",
   "metadata": {},
   "source": [
    "Посмотрим на распределение баллов собственности в разрезе оттока."
   ]
  },
  {
   "cell_type": "code",
   "execution_count": 29,
   "id": "0123d42e",
   "metadata": {},
   "outputs": [
    {
     "data": {
      "text/html": [
       "<div>\n",
       "<style scoped>\n",
       "    .dataframe tbody tr th:only-of-type {\n",
       "        vertical-align: middle;\n",
       "    }\n",
       "\n",
       "    .dataframe tbody tr th {\n",
       "        vertical-align: top;\n",
       "    }\n",
       "\n",
       "    .dataframe thead th {\n",
       "        text-align: right;\n",
       "    }\n",
       "</style>\n",
       "<table border=\"1\" class=\"dataframe\">\n",
       "  <thead>\n",
       "    <tr style=\"text-align: right;\">\n",
       "      <th></th>\n",
       "      <th>equity</th>\n",
       "      <th>sum</th>\n",
       "      <th>count</th>\n",
       "      <th>ratio</th>\n",
       "    </tr>\n",
       "  </thead>\n",
       "  <tbody>\n",
       "    <tr>\n",
       "      <th>0</th>\n",
       "      <td>0</td>\n",
       "      <td>85</td>\n",
       "      <td>2241</td>\n",
       "      <td>0.038</td>\n",
       "    </tr>\n",
       "    <tr>\n",
       "      <th>1</th>\n",
       "      <td>1</td>\n",
       "      <td>91</td>\n",
       "      <td>749</td>\n",
       "      <td>0.121</td>\n",
       "    </tr>\n",
       "    <tr>\n",
       "      <th>2</th>\n",
       "      <td>2</td>\n",
       "      <td>157</td>\n",
       "      <td>1027</td>\n",
       "      <td>0.153</td>\n",
       "    </tr>\n",
       "    <tr>\n",
       "      <th>3</th>\n",
       "      <td>3</td>\n",
       "      <td>292</td>\n",
       "      <td>1473</td>\n",
       "      <td>0.198</td>\n",
       "    </tr>\n",
       "    <tr>\n",
       "      <th>4</th>\n",
       "      <td>4</td>\n",
       "      <td>393</td>\n",
       "      <td>1704</td>\n",
       "      <td>0.231</td>\n",
       "    </tr>\n",
       "    <tr>\n",
       "      <th>5</th>\n",
       "      <td>5</td>\n",
       "      <td>486</td>\n",
       "      <td>1716</td>\n",
       "      <td>0.283</td>\n",
       "    </tr>\n",
       "    <tr>\n",
       "      <th>6</th>\n",
       "      <td>6</td>\n",
       "      <td>47</td>\n",
       "      <td>144</td>\n",
       "      <td>0.326</td>\n",
       "    </tr>\n",
       "    <tr>\n",
       "      <th>7</th>\n",
       "      <td>7</td>\n",
       "      <td>32</td>\n",
       "      <td>75</td>\n",
       "      <td>0.427</td>\n",
       "    </tr>\n",
       "    <tr>\n",
       "      <th>8</th>\n",
       "      <td>8</td>\n",
       "      <td>5</td>\n",
       "      <td>15</td>\n",
       "      <td>0.333</td>\n",
       "    </tr>\n",
       "    <tr>\n",
       "      <th>9</th>\n",
       "      <td>9</td>\n",
       "      <td>7</td>\n",
       "      <td>13</td>\n",
       "      <td>0.538</td>\n",
       "    </tr>\n",
       "  </tbody>\n",
       "</table>\n",
       "</div>"
      ],
      "text/plain": [
       "   equity  sum  count  ratio\n",
       "0       0   85   2241  0.038\n",
       "1       1   91    749  0.121\n",
       "2       2  157   1027  0.153\n",
       "3       3  292   1473  0.198\n",
       "4       4  393   1704  0.231\n",
       "5       5  486   1716  0.283\n",
       "6       6   47    144  0.326\n",
       "7       7   32     75  0.427\n",
       "8       8    5     15  0.333\n",
       "9       9    7     13  0.538"
      ]
     },
     "execution_count": 29,
     "metadata": {},
     "output_type": "execute_result"
    }
   ],
   "source": [
    "equity = data.groupby('equity', as_index=False).agg({'churn': ['sum', 'count']})\n",
    "equity.columns = ['equity', 'sum', 'count']\n",
    "equity['ratio'] = round(equity['sum'] / equity['count'], 3)\n",
    "equity"
   ]
  },
  {
   "cell_type": "code",
   "execution_count": 30,
   "id": "47dcbae9",
   "metadata": {},
   "outputs": [
    {
     "data": {
      "image/png": "[encoded data removed]",
      "text/plain": [
       "<Figure size 1000x700 with 1 Axes>"
      ]
     },
     "metadata": {},
     "output_type": "display_data"
    }
   ],
   "source": [
    "sns.barplot(data=equity, x='equity', y='ratio', color='#179BAE')\n",
    "plt.axhline(y=equity['ratio'].mean(), color='r', linestyle='--', label='Средний уровень оттока по банку')\n",
    "plt.title('Распределение баллов собственности в разрезе оттока')\n",
    "plt.xlabel('Баллы собственности')\n",
    "plt.ylabel('Доля оттока')\n",
    "plt.legend()\n",
    "plt.show()"
   ]
  },
  {
   "cell_type": "markdown",
   "id": "2dd02fd6",
   "metadata": {},
   "source": [
    "Таким образом, чаще всего отточными являются клиенты с баллам собственности более 4."
   ]
  },
  {
   "cell_type": "markdown",
   "id": "46b9a575-72db-44a9-a296-672d920764aa",
   "metadata": {},
   "source": [
    "Посмотрим на распределение количества продуктов, которыми пользуется клиент, в разрезе оттока."
   ]
  },
  {
   "cell_type": "code",
   "execution_count": 31,
   "id": "b14a0ac8-76b3-4533-b205-d581d7432ea8",
   "metadata": {},
   "outputs": [
    {
     "data": {
      "text/html": [
       "<div>\n",
       "<style scoped>\n",
       "    .dataframe tbody tr th:only-of-type {\n",
       "        vertical-align: middle;\n",
       "    }\n",
       "\n",
       "    .dataframe tbody tr th {\n",
       "        vertical-align: top;\n",
       "    }\n",
       "\n",
       "    .dataframe thead th {\n",
       "        text-align: right;\n",
       "    }\n",
       "</style>\n",
       "<table border=\"1\" class=\"dataframe\">\n",
       "  <thead>\n",
       "    <tr style=\"text-align: right;\">\n",
       "      <th></th>\n",
       "      <th>products</th>\n",
       "      <th>sum</th>\n",
       "      <th>count</th>\n",
       "      <th>ratio</th>\n",
       "    </tr>\n",
       "  </thead>\n",
       "  <tbody>\n",
       "    <tr>\n",
       "      <th>0</th>\n",
       "      <td>0</td>\n",
       "      <td>1</td>\n",
       "      <td>1</td>\n",
       "      <td>1.000</td>\n",
       "    </tr>\n",
       "    <tr>\n",
       "      <th>1</th>\n",
       "      <td>1</td>\n",
       "      <td>221</td>\n",
       "      <td>2982</td>\n",
       "      <td>0.074</td>\n",
       "    </tr>\n",
       "    <tr>\n",
       "      <th>2</th>\n",
       "      <td>2</td>\n",
       "      <td>873</td>\n",
       "      <td>4814</td>\n",
       "      <td>0.181</td>\n",
       "    </tr>\n",
       "    <tr>\n",
       "      <th>3</th>\n",
       "      <td>3</td>\n",
       "      <td>255</td>\n",
       "      <td>945</td>\n",
       "      <td>0.270</td>\n",
       "    </tr>\n",
       "    <tr>\n",
       "      <th>4</th>\n",
       "      <td>4</td>\n",
       "      <td>237</td>\n",
       "      <td>396</td>\n",
       "      <td>0.598</td>\n",
       "    </tr>\n",
       "    <tr>\n",
       "      <th>5</th>\n",
       "      <td>5</td>\n",
       "      <td>8</td>\n",
       "      <td>19</td>\n",
       "      <td>0.421</td>\n",
       "    </tr>\n",
       "  </tbody>\n",
       "</table>\n",
       "</div>"
      ],
      "text/plain": [
       "   products  sum  count  ratio\n",
       "0         0    1      1  1.000\n",
       "1         1  221   2982  0.074\n",
       "2         2  873   4814  0.181\n",
       "3         3  255    945  0.270\n",
       "4         4  237    396  0.598\n",
       "5         5    8     19  0.421"
      ]
     },
     "execution_count": 31,
     "metadata": {},
     "output_type": "execute_result"
    }
   ],
   "source": [
    "product = data.groupby('products', as_index=False).agg({'churn': ['sum', 'count']})\n",
    "product.columns = ['products', 'sum', 'count']\n",
    "product['ratio'] = round(product['sum'] / product['count'], 3)\n",
    "product"
   ]
  },
  {
   "cell_type": "markdown",
   "id": "ccafb278-cb0b-4f49-bf92-f352604c0d92",
   "metadata": {},
   "source": [
    "Оставим только тех клиентов, у кого есть продукты банка."
   ]
  },
  {
   "cell_type": "code",
   "execution_count": 32,
   "id": "1adc1b01-b834-4b49-932f-d0e8a428a0aa",
   "metadata": {},
   "outputs": [],
   "source": [
    "product = product.query('products > 0')"
   ]
  },
  {
   "cell_type": "code",
   "execution_count": 33,
   "id": "23330fe8-b39d-4430-9099-0d0da4b7cfb0",
   "metadata": {},
   "outputs": [
    {
     "data": {
      "image/png": "[encoded data removed]",
      "text/plain": [
       "<Figure size 1000x700 with 1 Axes>"
      ]
     },
     "metadata": {},
     "output_type": "display_data"
    }
   ],
   "source": [
    "sns.barplot(data=product, x='products', y='ratio', color='#179BAE')\n",
    "plt.axhline(y=product['ratio'].mean(), color='r', linestyle='--', label='Средний уровень оттока по банку')\n",
    "plt.title('Распределение количества продуктов, которыми пользуется клиент, в разрезе оттока')\n",
    "plt.xlabel('Количество продуктов')\n",
    "plt.ylabel('Доля оттока')\n",
    "plt.legend()\n",
    "plt.show()"
   ]
  },
  {
   "cell_type": "markdown",
   "id": "0f154890-405f-49dd-a044-b1d2da6e4734",
   "metadata": {},
   "source": [
    "Таким образом, чаще всего отточными являются клиенты с 4-5 продуктами."
   ]
  },
  {
   "cell_type": "markdown",
   "id": "6c09e1e9-3938-44a4-bf03-54b6d3512ddf",
   "metadata": {},
   "source": [
    "Посмотрим на распределение наличия или отсутствия кредитной карты в разрезе оттока."
   ]
  },
  {
   "cell_type": "code",
   "execution_count": 34,
   "id": "9d5e3579-c2d9-481f-a579-ef9e0c975e5d",
   "metadata": {},
   "outputs": [
    {
     "data": {
      "text/html": [
       "<div>\n",
       "<style scoped>\n",
       "    .dataframe tbody tr th:only-of-type {\n",
       "        vertical-align: middle;\n",
       "    }\n",
       "\n",
       "    .dataframe tbody tr th {\n",
       "        vertical-align: top;\n",
       "    }\n",
       "\n",
       "    .dataframe thead th {\n",
       "        text-align: right;\n",
       "    }\n",
       "</style>\n",
       "<table border=\"1\" class=\"dataframe\">\n",
       "  <thead>\n",
       "    <tr style=\"text-align: right;\">\n",
       "      <th></th>\n",
       "      <th>credit_card</th>\n",
       "      <th>sum</th>\n",
       "      <th>count</th>\n",
       "      <th>ratio</th>\n",
       "    </tr>\n",
       "  </thead>\n",
       "  <tbody>\n",
       "    <tr>\n",
       "      <th>0</th>\n",
       "      <td>0</td>\n",
       "      <td>686</td>\n",
       "      <td>2891</td>\n",
       "      <td>0.237</td>\n",
       "    </tr>\n",
       "    <tr>\n",
       "      <th>1</th>\n",
       "      <td>1</td>\n",
       "      <td>909</td>\n",
       "      <td>6266</td>\n",
       "      <td>0.145</td>\n",
       "    </tr>\n",
       "  </tbody>\n",
       "</table>\n",
       "</div>"
      ],
      "text/plain": [
       "   credit_card  sum  count  ratio\n",
       "0            0  686   2891  0.237\n",
       "1            1  909   6266  0.145"
      ]
     },
     "execution_count": 34,
     "metadata": {},
     "output_type": "execute_result"
    }
   ],
   "source": [
    "credit = data.groupby('credit_card', as_index=False).agg({'churn': ['sum', 'count']})\n",
    "credit.columns = ['credit_card', 'sum', 'count']\n",
    "credit['ratio'] = round(credit['sum'] / credit['count'], 3)\n",
    "credit"
   ]
  },
  {
   "cell_type": "code",
   "execution_count": 35,
   "id": "825a7a5a-dd5d-4ff0-8753-250e449bf09a",
   "metadata": {},
   "outputs": [
    {
     "data": {
      "image/png": "[encoded data removed]",
      "text/plain": [
       "<Figure size 1000x700 with 1 Axes>"
      ]
     },
     "metadata": {},
     "output_type": "display_data"
    }
   ],
   "source": [
    "sns.barplot(data=credit, x='credit_card', y='ratio', color='#179BAE')\n",
    "plt.axhline(y=credit['ratio'].mean(), color='r', linestyle='--', label='Средний уровень оттока по банку')\n",
    "plt.title('Распределение наличия или отсутствия кредитной карты в разрезе оттока')\n",
    "plt.xlabel('Показатель наличия кредитной карты')\n",
    "plt.ylabel('Доля оттока')\n",
    "plt.legend()\n",
    "plt.show()"
   ]
  },
  {
   "cell_type": "markdown",
   "id": "764187d9-87ea-47f8-875e-238e273860bb",
   "metadata": {},
   "source": [
    "Таким образом, чаще всего отточными являются клиенты, не имеющие кредитной карты."
   ]
  },
  {
   "cell_type": "markdown",
   "id": "555689dd-6c26-4abb-a7c9-9a84f5eb32f0",
   "metadata": {},
   "source": [
    "Посмотрим на распределение активности клиентов в разрезе оттока."
   ]
  },
  {
   "cell_type": "code",
   "execution_count": 36,
   "id": "deb2414a-3728-454d-bd95-a9fb231841a0",
   "metadata": {},
   "outputs": [
    {
     "data": {
      "text/html": [
       "<div>\n",
       "<style scoped>\n",
       "    .dataframe tbody tr th:only-of-type {\n",
       "        vertical-align: middle;\n",
       "    }\n",
       "\n",
       "    .dataframe tbody tr th {\n",
       "        vertical-align: top;\n",
       "    }\n",
       "\n",
       "    .dataframe thead th {\n",
       "        text-align: right;\n",
       "    }\n",
       "</style>\n",
       "<table border=\"1\" class=\"dataframe\">\n",
       "  <thead>\n",
       "    <tr style=\"text-align: right;\">\n",
       "      <th></th>\n",
       "      <th>last_activity</th>\n",
       "      <th>sum</th>\n",
       "      <th>count</th>\n",
       "      <th>ratio</th>\n",
       "    </tr>\n",
       "  </thead>\n",
       "  <tbody>\n",
       "    <tr>\n",
       "      <th>0</th>\n",
       "      <td>0</td>\n",
       "      <td>481</td>\n",
       "      <td>4391</td>\n",
       "      <td>0.110</td>\n",
       "    </tr>\n",
       "    <tr>\n",
       "      <th>1</th>\n",
       "      <td>1</td>\n",
       "      <td>1114</td>\n",
       "      <td>4766</td>\n",
       "      <td>0.234</td>\n",
       "    </tr>\n",
       "  </tbody>\n",
       "</table>\n",
       "</div>"
      ],
      "text/plain": [
       "   last_activity   sum  count  ratio\n",
       "0              0   481   4391  0.110\n",
       "1              1  1114   4766  0.234"
      ]
     },
     "execution_count": 36,
     "metadata": {},
     "output_type": "execute_result"
    }
   ],
   "source": [
    "act = data.groupby('last_activity', as_index=False).agg({'churn': ['sum', 'count']})\n",
    "act.columns = ['last_activity', 'sum', 'count']\n",
    "act['ratio'] = round(act['sum'] / act['count'], 3)\n",
    "act"
   ]
  },
  {
   "cell_type": "code",
   "execution_count": 37,
   "id": "45544d02-0608-439e-a009-ae831dba6566",
   "metadata": {},
   "outputs": [
    {
     "data": {
      "image/png": "[encoded data removed]",
      "text/plain": [
       "<Figure size 1000x700 with 1 Axes>"
      ]
     },
     "metadata": {},
     "output_type": "display_data"
    }
   ],
   "source": [
    "sns.barplot(data=act, x='last_activity', y='ratio', color='#179BAE')\n",
    "plt.axhline(y=act['ratio'].mean(), color='r', linestyle='--', label='Средний уровень оттока по банку')\n",
    "plt.title('Распределение активности клиентов в разрезе оттока')\n",
    "plt.xlabel('Показатель активности клиентов')\n",
    "plt.ylabel('Доля оттока')\n",
    "plt.legend()\n",
    "plt.show()"
   ]
  },
  {
   "cell_type": "markdown",
   "id": "9183d80d-4289-49d9-ac10-0becc2e5acad",
   "metadata": {},
   "source": [
    "Таким образом, чаще всего отточными являются активные клиенты."
   ]
  },
  {
   "cell_type": "markdown",
   "id": "9c51f137-cfd9-4822-862a-84045d41fb71",
   "metadata": {},
   "source": [
    "### Корреляционный анализ"
   ]
  },
  {
   "cell_type": "markdown",
   "id": "f5e5bad0-eeeb-44f9-96bf-43a44fb58697",
   "metadata": {},
   "source": [
    "Проведем корреляционный анализ признака `churn` с другими признаками"
   ]
  },
  {
   "cell_type": "markdown",
   "id": "a0309d84-e795-447b-95e4-f351f4996b26",
   "metadata": {},
   "source": [
    "Удалим лишние столбцы из таблицы."
   ]
  },
  {
   "cell_type": "code",
   "execution_count": 38,
   "id": "0cc86e6b-0cf7-4d4c-9deb-22117dcedd2f",
   "metadata": {},
   "outputs": [
    {
     "data": {
      "text/html": [
       "<div>\n",
       "<style scoped>\n",
       "    .dataframe tbody tr th:only-of-type {\n",
       "        vertical-align: middle;\n",
       "    }\n",
       "\n",
       "    .dataframe tbody tr th {\n",
       "        vertical-align: top;\n",
       "    }\n",
       "\n",
       "    .dataframe thead th {\n",
       "        text-align: right;\n",
       "    }\n",
       "</style>\n",
       "<table border=\"1\" class=\"dataframe\">\n",
       "  <thead>\n",
       "    <tr style=\"text-align: right;\">\n",
       "      <th></th>\n",
       "      <th>score</th>\n",
       "      <th>city</th>\n",
       "      <th>gender</th>\n",
       "      <th>age</th>\n",
       "      <th>equity</th>\n",
       "      <th>balance</th>\n",
       "      <th>products</th>\n",
       "      <th>credit_card</th>\n",
       "      <th>last_activity</th>\n",
       "      <th>est_salary</th>\n",
       "      <th>churn</th>\n",
       "    </tr>\n",
       "  </thead>\n",
       "  <tbody>\n",
       "    <tr>\n",
       "      <th>0</th>\n",
       "      <td>850</td>\n",
       "      <td>Рыбинск</td>\n",
       "      <td>Ж</td>\n",
       "      <td>25.0</td>\n",
       "      <td>1</td>\n",
       "      <td>59214.82</td>\n",
       "      <td>2</td>\n",
       "      <td>0</td>\n",
       "      <td>1</td>\n",
       "      <td>75719.14</td>\n",
       "      <td>1</td>\n",
       "    </tr>\n",
       "    <tr>\n",
       "      <th>1</th>\n",
       "      <td>861</td>\n",
       "      <td>Рыбинск</td>\n",
       "      <td>Ж</td>\n",
       "      <td>37.0</td>\n",
       "      <td>5</td>\n",
       "      <td>850594.33</td>\n",
       "      <td>3</td>\n",
       "      <td>1</td>\n",
       "      <td>0</td>\n",
       "      <td>86621.77</td>\n",
       "      <td>0</td>\n",
       "    </tr>\n",
       "    <tr>\n",
       "      <th>2</th>\n",
       "      <td>892</td>\n",
       "      <td>Рыбинск</td>\n",
       "      <td>Ж</td>\n",
       "      <td>30.0</td>\n",
       "      <td>0</td>\n",
       "      <td>NaN</td>\n",
       "      <td>1</td>\n",
       "      <td>1</td>\n",
       "      <td>1</td>\n",
       "      <td>107683.34</td>\n",
       "      <td>0</td>\n",
       "    </tr>\n",
       "    <tr>\n",
       "      <th>3</th>\n",
       "      <td>866</td>\n",
       "      <td>Ярославль</td>\n",
       "      <td>Ж</td>\n",
       "      <td>51.0</td>\n",
       "      <td>5</td>\n",
       "      <td>1524746.26</td>\n",
       "      <td>2</td>\n",
       "      <td>0</td>\n",
       "      <td>1</td>\n",
       "      <td>174423.53</td>\n",
       "      <td>1</td>\n",
       "    </tr>\n",
       "    <tr>\n",
       "      <th>4</th>\n",
       "      <td>730</td>\n",
       "      <td>Ярославль</td>\n",
       "      <td>М</td>\n",
       "      <td>34.0</td>\n",
       "      <td>5</td>\n",
       "      <td>174.00</td>\n",
       "      <td>1</td>\n",
       "      <td>1</td>\n",
       "      <td>0</td>\n",
       "      <td>67353.16</td>\n",
       "      <td>1</td>\n",
       "    </tr>\n",
       "  </tbody>\n",
       "</table>\n",
       "</div>"
      ],
      "text/plain": [
       "   score       city gender   age  equity     balance  products  credit_card  \\\n",
       "0    850    Рыбинск      Ж  25.0       1    59214.82         2            0   \n",
       "1    861    Рыбинск      Ж  37.0       5   850594.33         3            1   \n",
       "2    892    Рыбинск      Ж  30.0       0         NaN         1            1   \n",
       "3    866  Ярославль      Ж  51.0       5  1524746.26         2            0   \n",
       "4    730  Ярославль      М  34.0       5      174.00         1            1   \n",
       "\n",
       "   last_activity  est_salary  churn  \n",
       "0              1    75719.14      1  \n",
       "1              0    86621.77      0  \n",
       "2              1   107683.34      0  \n",
       "3              1   174423.53      1  \n",
       "4              0    67353.16      1  "
      ]
     },
     "execution_count": 38,
     "metadata": {},
     "output_type": "execute_result"
    }
   ],
   "source": [
    "df = data.drop(['user_id', 'age_isna', 'balance_isna'], axis=1)\n",
    "df = df.query('products > 0')\n",
    "df.head()"
   ]
  },
  {
   "cell_type": "code",
   "execution_count": 39,
   "id": "0402470f-3078-49fa-931f-c5865890951b",
   "metadata": {},
   "outputs": [
    {
     "data": {
      "text/html": [
       "<div>\n",
       "<style scoped>\n",
       "    .dataframe tbody tr th:only-of-type {\n",
       "        vertical-align: middle;\n",
       "    }\n",
       "\n",
       "    .dataframe tbody tr th {\n",
       "        vertical-align: top;\n",
       "    }\n",
       "\n",
       "    .dataframe thead th {\n",
       "        text-align: right;\n",
       "    }\n",
       "</style>\n",
       "<table border=\"1\" class=\"dataframe\">\n",
       "  <thead>\n",
       "    <tr style=\"text-align: right;\">\n",
       "      <th></th>\n",
       "      <th>score</th>\n",
       "      <th>city</th>\n",
       "      <th>gender</th>\n",
       "      <th>age</th>\n",
       "      <th>equity</th>\n",
       "      <th>balance</th>\n",
       "      <th>products</th>\n",
       "      <th>credit_card</th>\n",
       "      <th>last_activity</th>\n",
       "      <th>est_salary</th>\n",
       "      <th>churn</th>\n",
       "    </tr>\n",
       "  </thead>\n",
       "  <tbody>\n",
       "    <tr>\n",
       "      <th>score</th>\n",
       "      <td>1.000000</td>\n",
       "      <td>0.069507</td>\n",
       "      <td>0.053308</td>\n",
       "      <td>0.065817</td>\n",
       "      <td>0.538777</td>\n",
       "      <td>0.339415</td>\n",
       "      <td>0.434920</td>\n",
       "      <td>0.199623</td>\n",
       "      <td>0.045293</td>\n",
       "      <td>0.315372</td>\n",
       "      <td>0.232748</td>\n",
       "    </tr>\n",
       "    <tr>\n",
       "      <th>city</th>\n",
       "      <td>0.069507</td>\n",
       "      <td>1.000000</td>\n",
       "      <td>0.004931</td>\n",
       "      <td>0.090145</td>\n",
       "      <td>0.042768</td>\n",
       "      <td>0.044758</td>\n",
       "      <td>0.118913</td>\n",
       "      <td>0.077987</td>\n",
       "      <td>0.029875</td>\n",
       "      <td>0.142126</td>\n",
       "      <td>0.015145</td>\n",
       "    </tr>\n",
       "    <tr>\n",
       "      <th>gender</th>\n",
       "      <td>0.053308</td>\n",
       "      <td>0.004931</td>\n",
       "      <td>1.000000</td>\n",
       "      <td>0.290802</td>\n",
       "      <td>0.060904</td>\n",
       "      <td>0.083671</td>\n",
       "      <td>0.072082</td>\n",
       "      <td>0.215544</td>\n",
       "      <td>0.013794</td>\n",
       "      <td>0.145877</td>\n",
       "      <td>0.211050</td>\n",
       "    </tr>\n",
       "    <tr>\n",
       "      <th>age</th>\n",
       "      <td>0.065817</td>\n",
       "      <td>0.090145</td>\n",
       "      <td>0.290802</td>\n",
       "      <td>1.000000</td>\n",
       "      <td>0.043322</td>\n",
       "      <td>0.329998</td>\n",
       "      <td>0.138130</td>\n",
       "      <td>0.160398</td>\n",
       "      <td>0.095125</td>\n",
       "      <td>0.476461</td>\n",
       "      <td>0.189511</td>\n",
       "    </tr>\n",
       "    <tr>\n",
       "      <th>equity</th>\n",
       "      <td>0.538777</td>\n",
       "      <td>0.042768</td>\n",
       "      <td>0.060904</td>\n",
       "      <td>0.043322</td>\n",
       "      <td>1.000000</td>\n",
       "      <td>0.595896</td>\n",
       "      <td>0.563368</td>\n",
       "      <td>0.192926</td>\n",
       "      <td>0.045200</td>\n",
       "      <td>0.294731</td>\n",
       "      <td>0.320962</td>\n",
       "    </tr>\n",
       "    <tr>\n",
       "      <th>balance</th>\n",
       "      <td>0.339415</td>\n",
       "      <td>0.044758</td>\n",
       "      <td>0.083671</td>\n",
       "      <td>0.329998</td>\n",
       "      <td>0.595896</td>\n",
       "      <td>1.000000</td>\n",
       "      <td>0.248706</td>\n",
       "      <td>0.199790</td>\n",
       "      <td>0.006126</td>\n",
       "      <td>0.292042</td>\n",
       "      <td>0.256519</td>\n",
       "    </tr>\n",
       "    <tr>\n",
       "      <th>products</th>\n",
       "      <td>0.434920</td>\n",
       "      <td>0.118913</td>\n",
       "      <td>0.072082</td>\n",
       "      <td>0.138130</td>\n",
       "      <td>0.563368</td>\n",
       "      <td>0.248706</td>\n",
       "      <td>1.000000</td>\n",
       "      <td>0.259291</td>\n",
       "      <td>0.114937</td>\n",
       "      <td>0.223262</td>\n",
       "      <td>0.237308</td>\n",
       "    </tr>\n",
       "    <tr>\n",
       "      <th>credit_card</th>\n",
       "      <td>0.199623</td>\n",
       "      <td>0.077987</td>\n",
       "      <td>0.215544</td>\n",
       "      <td>0.160398</td>\n",
       "      <td>0.192926</td>\n",
       "      <td>0.199790</td>\n",
       "      <td>0.259291</td>\n",
       "      <td>1.000000</td>\n",
       "      <td>0.054573</td>\n",
       "      <td>0.046229</td>\n",
       "      <td>0.174898</td>\n",
       "    </tr>\n",
       "    <tr>\n",
       "      <th>last_activity</th>\n",
       "      <td>0.045293</td>\n",
       "      <td>0.029875</td>\n",
       "      <td>0.013794</td>\n",
       "      <td>0.095125</td>\n",
       "      <td>0.045200</td>\n",
       "      <td>0.006126</td>\n",
       "      <td>0.114937</td>\n",
       "      <td>0.054573</td>\n",
       "      <td>1.000000</td>\n",
       "      <td>0.041804</td>\n",
       "      <td>0.253683</td>\n",
       "    </tr>\n",
       "    <tr>\n",
       "      <th>est_salary</th>\n",
       "      <td>0.315372</td>\n",
       "      <td>0.142126</td>\n",
       "      <td>0.145877</td>\n",
       "      <td>0.476461</td>\n",
       "      <td>0.294731</td>\n",
       "      <td>0.292042</td>\n",
       "      <td>0.223262</td>\n",
       "      <td>0.046229</td>\n",
       "      <td>0.041804</td>\n",
       "      <td>1.000000</td>\n",
       "      <td>0.064670</td>\n",
       "    </tr>\n",
       "    <tr>\n",
       "      <th>churn</th>\n",
       "      <td>0.232748</td>\n",
       "      <td>0.015145</td>\n",
       "      <td>0.211050</td>\n",
       "      <td>0.189511</td>\n",
       "      <td>0.320962</td>\n",
       "      <td>0.256519</td>\n",
       "      <td>0.237308</td>\n",
       "      <td>0.174898</td>\n",
       "      <td>0.253683</td>\n",
       "      <td>0.064670</td>\n",
       "      <td>1.000000</td>\n",
       "    </tr>\n",
       "  </tbody>\n",
       "</table>\n",
       "</div>"
      ],
      "text/plain": [
       "                  score      city    gender       age    equity   balance  \\\n",
       "score          1.000000  0.069507  0.053308  0.065817  0.538777  0.339415   \n",
       "city           0.069507  1.000000  0.004931  0.090145  0.042768  0.044758   \n",
       "gender         0.053308  0.004931  1.000000  0.290802  0.060904  0.083671   \n",
       "age            0.065817  0.090145  0.290802  1.000000  0.043322  0.329998   \n",
       "equity         0.538777  0.042768  0.060904  0.043322  1.000000  0.595896   \n",
       "balance        0.339415  0.044758  0.083671  0.329998  0.595896  1.000000   \n",
       "products       0.434920  0.118913  0.072082  0.138130  0.563368  0.248706   \n",
       "credit_card    0.199623  0.077987  0.215544  0.160398  0.192926  0.199790   \n",
       "last_activity  0.045293  0.029875  0.013794  0.095125  0.045200  0.006126   \n",
       "est_salary     0.315372  0.142126  0.145877  0.476461  0.294731  0.292042   \n",
       "churn          0.232748  0.015145  0.211050  0.189511  0.320962  0.256519   \n",
       "\n",
       "               products  credit_card  last_activity  est_salary     churn  \n",
       "score          0.434920     0.199623       0.045293    0.315372  0.232748  \n",
       "city           0.118913     0.077987       0.029875    0.142126  0.015145  \n",
       "gender         0.072082     0.215544       0.013794    0.145877  0.211050  \n",
       "age            0.138130     0.160398       0.095125    0.476461  0.189511  \n",
       "equity         0.563368     0.192926       0.045200    0.294731  0.320962  \n",
       "balance        0.248706     0.199790       0.006126    0.292042  0.256519  \n",
       "products       1.000000     0.259291       0.114937    0.223262  0.237308  \n",
       "credit_card    0.259291     1.000000       0.054573    0.046229  0.174898  \n",
       "last_activity  0.114937     0.054573       1.000000    0.041804  0.253683  \n",
       "est_salary     0.223262     0.046229       0.041804    1.000000  0.064670  \n",
       "churn          0.237308     0.174898       0.253683    0.064670  1.000000  "
      ]
     },
     "execution_count": 39,
     "metadata": {},
     "output_type": "execute_result"
    }
   ],
   "source": [
    "matrix = df.phik_matrix(interval_cols=['score', 'age', 'balance', 'est_salary'])\n",
    "matrix"
   ]
  },
  {
   "cell_type": "code",
   "execution_count": 40,
   "id": "24fa81c7-e86b-495b-b369-1492114fe203",
   "metadata": {},
   "outputs": [
    {
     "data": {
      "image/png": "[encoded data removed]",
      "text/plain": [
       "<Figure size 1000x700 with 2 Axes>"
      ]
     },
     "metadata": {},
     "output_type": "display_data"
    }
   ],
   "source": [
    "sns.heatmap(matrix, cmap='coolwarm', center=0, annot=True);"
   ]
  },
  {
   "cell_type": "markdown",
   "id": "4628d96b-2684-4962-b45c-739dd08ba152",
   "metadata": {},
   "source": [
    "Посмотрим на силу зависимости признака `churn` с другими."
   ]
  },
  {
   "cell_type": "code",
   "execution_count": 41,
   "id": "1ed26a0c-612a-420c-bcff-bca1b781e5e2",
   "metadata": {},
   "outputs": [
    {
     "data": {
      "text/plain": [
       "churn            1.000000\n",
       "equity           0.320962\n",
       "balance          0.256519\n",
       "last_activity    0.253683\n",
       "products         0.237308\n",
       "score            0.232748\n",
       "gender           0.211050\n",
       "age              0.189511\n",
       "credit_card      0.174898\n",
       "est_salary       0.064670\n",
       "city             0.015145\n",
       "Name: churn, dtype: float64"
      ]
     },
     "execution_count": 41,
     "metadata": {},
     "output_type": "execute_result"
    }
   ],
   "source": [
    "matrix['churn'].sort_values(ascending=False)"
   ]
  },
  {
   "cell_type": "markdown",
   "id": "141e0997-a208-4901-abd3-832afa1cddf4",
   "metadata": {},
   "source": [
    "Таким образом, по интерпретации коэффициента корреляции Чеддока, между признаком оттока и баллом кредитного скоринга наблюдается слабая связь, городом - практически нет связи, полом - слабая связь, возрастом - слабая связь, количеством баллов собственности - умеренная связь, балансом на счете - слабая связь, количеством продуктов банка - слабая связь, наличием кредитной карты - слабая связь, активностью - слабая связь, оценочным доходом - практически нет связи."
   ]
  },
  {
   "cell_type": "markdown",
   "id": "9df8da9d-173d-4086-9571-487a7cec3ad7",
   "metadata": {},
   "source": [
    "### Портрет клиента"
   ]
  },
  {
   "cell_type": "markdown",
   "id": "4d40aa17-d889-40c3-a424-85b2eb9a5da3",
   "metadata": {},
   "source": [
    "Построим таблицу в разрезе оттока с расчетом мер центральной тенденции для признаков."
   ]
  },
  {
   "cell_type": "code",
   "execution_count": 42,
   "id": "12f44879-11a9-461b-8307-fa51a51ea956",
   "metadata": {},
   "outputs": [
    {
     "data": {
      "text/html": [
       "<div>\n",
       "<style scoped>\n",
       "    .dataframe tbody tr th:only-of-type {\n",
       "        vertical-align: middle;\n",
       "    }\n",
       "\n",
       "    .dataframe tbody tr th {\n",
       "        vertical-align: top;\n",
       "    }\n",
       "\n",
       "    .dataframe thead th {\n",
       "        text-align: right;\n",
       "    }\n",
       "</style>\n",
       "<table border=\"1\" class=\"dataframe\">\n",
       "  <thead>\n",
       "    <tr style=\"text-align: right;\">\n",
       "      <th></th>\n",
       "      <th>Показатели</th>\n",
       "      <th>Отток</th>\n",
       "      <th>Не отток</th>\n",
       "      <th>Относительная разница</th>\n",
       "    </tr>\n",
       "  </thead>\n",
       "  <tbody>\n",
       "    <tr>\n",
       "      <th>0</th>\n",
       "      <td>Средний балл скоринга</td>\n",
       "      <td>856.113551</td>\n",
       "      <td>842.341444</td>\n",
       "      <td>0.016303</td>\n",
       "    </tr>\n",
       "    <tr>\n",
       "      <th>1</th>\n",
       "      <td>Мода по городу</td>\n",
       "      <td>0    Ярославль\n",
       "Name: city, dtype: object</td>\n",
       "      <td>0    Ярославль\n",
       "Name: city, dtype: object</td>\n",
       "      <td>Nan</td>\n",
       "    </tr>\n",
       "    <tr>\n",
       "      <th>2</th>\n",
       "      <td>Мода по полу</td>\n",
       "      <td>0    М\n",
       "Name: gender, dtype: object</td>\n",
       "      <td>0    Ж\n",
       "Name: gender, dtype: object</td>\n",
       "      <td>Nan</td>\n",
       "    </tr>\n",
       "    <tr>\n",
       "      <th>3</th>\n",
       "      <td>Средний возраст</td>\n",
       "      <td>41.263488</td>\n",
       "      <td>42.96694</td>\n",
       "      <td>-0.039921</td>\n",
       "    </tr>\n",
       "    <tr>\n",
       "      <th>4</th>\n",
       "      <td>Медианное количество баллов собственности</td>\n",
       "      <td>4.0</td>\n",
       "      <td>3.0</td>\n",
       "      <td>Nan</td>\n",
       "    </tr>\n",
       "    <tr>\n",
       "      <th>5</th>\n",
       "      <td>Средний баланс на счете</td>\n",
       "      <td>777455.531311</td>\n",
       "      <td>572584.499319</td>\n",
       "      <td>0.331741</td>\n",
       "    </tr>\n",
       "    <tr>\n",
       "      <th>6</th>\n",
       "      <td>Медианное количество продуктов</td>\n",
       "      <td>2.0</td>\n",
       "      <td>2.0</td>\n",
       "      <td>Nan</td>\n",
       "    </tr>\n",
       "    <tr>\n",
       "      <th>7</th>\n",
       "      <td>Наличие кредитной карты</td>\n",
       "      <td>0    1\n",
       "Name: credit_card, dtype: int64</td>\n",
       "      <td>0    1\n",
       "Name: credit_card, dtype: int64</td>\n",
       "      <td>Nan</td>\n",
       "    </tr>\n",
       "    <tr>\n",
       "      <th>8</th>\n",
       "      <td>Активность</td>\n",
       "      <td>0    1\n",
       "Name: last_activity, dtype: int64</td>\n",
       "      <td>0    0\n",
       "Name: last_activity, dtype: int64</td>\n",
       "      <td>Nan</td>\n",
       "    </tr>\n",
       "    <tr>\n",
       "      <th>9</th>\n",
       "      <td>Средняя зарплата</td>\n",
       "      <td>121731.557422</td>\n",
       "      <td>119311.443807</td>\n",
       "      <td>0.020213</td>\n",
       "    </tr>\n",
       "  </tbody>\n",
       "</table>\n",
       "</div>"
      ],
      "text/plain": [
       "                                  Показатели  \\\n",
       "0                      Средний балл скоринга   \n",
       "1                             Мода по городу   \n",
       "2                               Мода по полу   \n",
       "3                            Средний возраст   \n",
       "4  Медианное количество баллов собственности   \n",
       "5                    Средний баланс на счете   \n",
       "6             Медианное количество продуктов   \n",
       "7                    Наличие кредитной карты   \n",
       "8                                 Активность   \n",
       "9                           Средняя зарплата   \n",
       "\n",
       "                                      Отток  \\\n",
       "0                                856.113551   \n",
       "1  0    Ярославль\n",
       "Name: city, dtype: object   \n",
       "2        0    М\n",
       "Name: gender, dtype: object   \n",
       "3                                 41.263488   \n",
       "4                                       4.0   \n",
       "5                             777455.531311   \n",
       "6                                       2.0   \n",
       "7    0    1\n",
       "Name: credit_card, dtype: int64   \n",
       "8  0    1\n",
       "Name: last_activity, dtype: int64   \n",
       "9                             121731.557422   \n",
       "\n",
       "                                   Не отток Относительная разница  \n",
       "0                                842.341444              0.016303  \n",
       "1  0    Ярославль\n",
       "Name: city, dtype: object                   Nan  \n",
       "2        0    Ж\n",
       "Name: gender, dtype: object                   Nan  \n",
       "3                                  42.96694             -0.039921  \n",
       "4                                       3.0                   Nan  \n",
       "5                             572584.499319              0.331741  \n",
       "6                                       2.0                   Nan  \n",
       "7    0    1\n",
       "Name: credit_card, dtype: int64                   Nan  \n",
       "8  0    0\n",
       "Name: last_activity, dtype: int64                   Nan  \n",
       "9                             119311.443807              0.020213  "
      ]
     },
     "execution_count": 42,
     "metadata": {},
     "output_type": "execute_result"
    }
   ],
   "source": [
    "dt = pd.DataFrame ({'Показатели': ['Средний балл скоринга', 'Мода по городу', 'Мода по полу', 'Средний возраст', 'Медианное количество баллов собственности', \\\n",
    "                    'Средний баланс на счете', 'Медианное количество продуктов', 'Наличие кредитной карты', 'Активность', 'Средняя зарплата'], \\\n",
    "                   'Отток': \\\n",
    "                    [df.loc[df['churn'] == 1, 'score'].mean(), \\\n",
    "                    df.loc[df['churn'] == 1, 'city'].mode(), \\\n",
    "                    df.loc[df['churn'] == 1, 'gender'].mode(), \\\n",
    "                    df.loc[df['churn'] == 1, 'age'].mean(), \\\n",
    "                    df.loc[df['churn'] == 1, 'equity'].median(), \\\n",
    "                    df.loc[df['churn'] == 1, 'balance'].mean(), \\\n",
    "                    df.loc[df['churn'] == 1, 'products'].median(), \\\n",
    "                    df.loc[df['churn'] == 1, 'credit_card'].mode(), \\\n",
    "                    df.loc[df['churn'] == 1, 'last_activity'].mode(), \\\n",
    "                    df.loc[df['churn'] == 1, 'est_salary'].mean()], \\\n",
    "                   \n",
    "                   'Не отток': \\\n",
    "                   [df.loc[df['churn'] == 0, 'score'].mean(), \\\n",
    "                    df.loc[df['churn'] == 0, 'city'].mode(), \\\n",
    "                    df.loc[df['churn'] == 0, 'gender'].mode(), \\\n",
    "                    df.loc[df['churn'] == 0, 'age'].mean(), \\\n",
    "                    df.loc[df['churn'] == 0, 'equity'].median(), \\\n",
    "                    df.loc[df['churn'] == 0, 'balance'].mean(), \\\n",
    "                    df.loc[df['churn'] == 0, 'products'].median(), \\\n",
    "                    df.loc[df['churn'] == 0, 'credit_card'].mode(), \\\n",
    "                    df.loc[df['churn'] == 0, 'last_activity'].mode(), \\\n",
    "                    df.loc[df['churn'] == 0, 'est_salary'].mean()], \\\n",
    "                   \n",
    "                   'Относительная разница': \\\n",
    "                    [(df.loc[df['churn'] == 1, 'score'].mean() - df.loc[df['churn'] == 0, 'score'].mean()) / df['score'].mean(), \\\n",
    "                    'Nan', \\\n",
    "                    'Nan', \\\n",
    "                    (df.loc[df['churn'] == 1, 'age'].mean() - df.loc[df['churn'] == 0, 'age'].mean()) / df['age'].mean(), \\\n",
    "                    'Nan', \\\n",
    "                    (df.loc[df['churn'] == 1, 'balance'].mean() - df.loc[df['churn'] == 0, 'balance'].mean()) / df['balance'].mean(), \\\n",
    "                    'Nan', \\\n",
    "                    'Nan', \\\n",
    "                    'Nan', \\\n",
    "                    (df.loc[df['churn'] == 1, 'est_salary'].mean() - df.loc[df['churn'] == 0, 'est_salary'].mean()) / df['est_salary'].mean()]})\n",
    "dt"
   ]
  },
  {
   "cell_type": "markdown",
   "id": "3b4be186-5875-4187-a38a-18543521d930",
   "metadata": {},
   "source": [
    "Таким образом, по большинству показателей сильной разницы между отточными и не отточными клиентами не наблюдается. Разницу можно увидеть по показателю пола, среднего баланса на счете и активности. Так, отточными клиентами чаще являются мужчины, не отточными - женщины. Отточные клиенты чаще являются активными, не отточные - неактивными. У отточных клиентов средний баланс на счете составляет примерно 778 000, у не отточных - 573 000."
   ]
  },
  {
   "cell_type": "markdown",
   "id": "09338041-28e6-4d8c-9f5a-9f6590cf8c21",
   "metadata": {},
   "source": [
    "## Проверка статистических гипотез"
   ]
  },
  {
   "cell_type": "markdown",
   "id": "7f08424d-1a9f-4f5d-bf7a-c3084f2eee9e",
   "metadata": {},
   "source": [
    "### Проверка гипотезы о различии доходов между ушедшими и оставшимися клиентами"
   ]
  },
  {
   "cell_type": "markdown",
   "id": "97d2c35a-bfff-4ab7-b347-5abd3f7ff9a0",
   "metadata": {},
   "source": [
    "Сформулируем гипотезы:\n",
    "- Нулевая гипотеза: доходы между ушедшими и оставшимися клиентами равны.\n",
    "- Альтернативная гипотеза: доходы между ушедшими и оставшимися клиентами не равны."
   ]
  },
  {
   "cell_type": "markdown",
   "id": "6288bd10-1930-493b-bd32-d8a7c0624324",
   "metadata": {},
   "source": [
    "Для начала проверим возможность использования t-теста для проверки наших гипотез. У нас есть три условия применения t-теста:\n",
    "1. Выборочные совокупность не должны зависеть друг от друга.\n",
    "2. Выборочные средние должны быть нормально распределены.\n",
    "3. Дисперсии рассматриваемых выборочных совокупностей должны быть равны. "
   ]
  },
  {
   "cell_type": "markdown",
   "id": "1d3dbbe1-1de6-4587-8a26-fdb6adb2eca1",
   "metadata": {},
   "source": [
    "**Итак, наши выборочные совокупности не зависят друг от друга, так как мы сравниваем клиентов, которые ушли, и клиентов, которые остались.**"
   ]
  },
  {
   "cell_type": "markdown",
   "id": "9465d175-e85d-4659-b4a1-71713dfa17a4",
   "metadata": {},
   "source": [
    "**Благодаря центральной предельной теореме мы можем утвержать, что наше распределение нормально, так как мы имеем больше нескольких десятков значений. Однако мы проверим гипотезу о том, что наши выборки распределены нормально с помощью критерия Шапиро-Уилка.**"
   ]
  },
  {
   "cell_type": "markdown",
   "id": "aa26e87f-73be-47a0-a2c1-10df29c4a54e",
   "metadata": {},
   "source": [
    "**Выборки в нашем случае достаточно велики, поэтому мы можем считать, что дисперсии равны.**"
   ]
  },
  {
   "cell_type": "markdown",
   "id": "c3a0ca70-069c-4839-96e3-ebe164a7d240",
   "metadata": {},
   "source": [
    "Для начала создадим выборки с ушедшими и оставшимися клиентами."
   ]
  },
  {
   "cell_type": "code",
   "execution_count": 43,
   "id": "ba3d7f31-2eea-499f-bb93-f5df12b06d77",
   "metadata": {},
   "outputs": [
    {
     "data": {
      "text/html": [
       "<div>\n",
       "<style scoped>\n",
       "    .dataframe tbody tr th:only-of-type {\n",
       "        vertical-align: middle;\n",
       "    }\n",
       "\n",
       "    .dataframe tbody tr th {\n",
       "        vertical-align: top;\n",
       "    }\n",
       "\n",
       "    .dataframe thead th {\n",
       "        text-align: right;\n",
       "    }\n",
       "</style>\n",
       "<table border=\"1\" class=\"dataframe\">\n",
       "  <thead>\n",
       "    <tr style=\"text-align: right;\">\n",
       "      <th></th>\n",
       "      <th>user_id</th>\n",
       "      <th>score</th>\n",
       "      <th>city</th>\n",
       "      <th>gender</th>\n",
       "      <th>age</th>\n",
       "      <th>equity</th>\n",
       "      <th>balance</th>\n",
       "      <th>products</th>\n",
       "      <th>credit_card</th>\n",
       "      <th>last_activity</th>\n",
       "      <th>est_salary</th>\n",
       "      <th>churn</th>\n",
       "      <th>age_isna</th>\n",
       "      <th>balance_isna</th>\n",
       "    </tr>\n",
       "  </thead>\n",
       "  <tbody>\n",
       "    <tr>\n",
       "      <th>0</th>\n",
       "      <td>183012</td>\n",
       "      <td>850</td>\n",
       "      <td>Рыбинск</td>\n",
       "      <td>Ж</td>\n",
       "      <td>25.0</td>\n",
       "      <td>1</td>\n",
       "      <td>59214.82</td>\n",
       "      <td>2</td>\n",
       "      <td>0</td>\n",
       "      <td>1</td>\n",
       "      <td>75719.14</td>\n",
       "      <td>1</td>\n",
       "      <td>0</td>\n",
       "      <td>0</td>\n",
       "    </tr>\n",
       "    <tr>\n",
       "      <th>3</th>\n",
       "      <td>225363</td>\n",
       "      <td>866</td>\n",
       "      <td>Ярославль</td>\n",
       "      <td>Ж</td>\n",
       "      <td>51.0</td>\n",
       "      <td>5</td>\n",
       "      <td>1524746.26</td>\n",
       "      <td>2</td>\n",
       "      <td>0</td>\n",
       "      <td>1</td>\n",
       "      <td>174423.53</td>\n",
       "      <td>1</td>\n",
       "      <td>0</td>\n",
       "      <td>0</td>\n",
       "    </tr>\n",
       "    <tr>\n",
       "      <th>4</th>\n",
       "      <td>157978</td>\n",
       "      <td>730</td>\n",
       "      <td>Ярославль</td>\n",
       "      <td>М</td>\n",
       "      <td>34.0</td>\n",
       "      <td>5</td>\n",
       "      <td>174.00</td>\n",
       "      <td>1</td>\n",
       "      <td>1</td>\n",
       "      <td>0</td>\n",
       "      <td>67353.16</td>\n",
       "      <td>1</td>\n",
       "      <td>0</td>\n",
       "      <td>0</td>\n",
       "    </tr>\n",
       "    <tr>\n",
       "      <th>12</th>\n",
       "      <td>132970</td>\n",
       "      <td>845</td>\n",
       "      <td>Ярославль</td>\n",
       "      <td>Ж</td>\n",
       "      <td>31.0</td>\n",
       "      <td>3</td>\n",
       "      <td>591928.52</td>\n",
       "      <td>2</td>\n",
       "      <td>1</td>\n",
       "      <td>1</td>\n",
       "      <td>112697.16</td>\n",
       "      <td>1</td>\n",
       "      <td>0</td>\n",
       "      <td>0</td>\n",
       "    </tr>\n",
       "    <tr>\n",
       "      <th>40</th>\n",
       "      <td>129705</td>\n",
       "      <td>811</td>\n",
       "      <td>Рыбинск</td>\n",
       "      <td>М</td>\n",
       "      <td>34.0</td>\n",
       "      <td>2</td>\n",
       "      <td>129799.35</td>\n",
       "      <td>1</td>\n",
       "      <td>0</td>\n",
       "      <td>0</td>\n",
       "      <td>96242.71</td>\n",
       "      <td>1</td>\n",
       "      <td>0</td>\n",
       "      <td>0</td>\n",
       "    </tr>\n",
       "  </tbody>\n",
       "</table>\n",
       "</div>"
      ],
      "text/plain": [
       "    user_id  score       city gender   age  equity     balance  products  \\\n",
       "0    183012    850    Рыбинск      Ж  25.0       1    59214.82         2   \n",
       "3    225363    866  Ярославль      Ж  51.0       5  1524746.26         2   \n",
       "4    157978    730  Ярославль      М  34.0       5      174.00         1   \n",
       "12   132970    845  Ярославль      Ж  31.0       3   591928.52         2   \n",
       "40   129705    811    Рыбинск      М  34.0       2   129799.35         1   \n",
       "\n",
       "    credit_card  last_activity  est_salary  churn  age_isna  balance_isna  \n",
       "0             0              1    75719.14      1         0             0  \n",
       "3             0              1   174423.53      1         0             0  \n",
       "4             1              0    67353.16      1         0             0  \n",
       "12            1              1   112697.16      1         0             0  \n",
       "40            0              0    96242.71      1         0             0  "
      ]
     },
     "metadata": {},
     "output_type": "display_data"
    },
    {
     "data": {
      "text/plain": [
       "(1595, 14)"
      ]
     },
     "execution_count": 43,
     "metadata": {},
     "output_type": "execute_result"
    }
   ],
   "source": [
    "churn_1 = data.query('churn == 1')\n",
    "display(churn_1.head())\n",
    "churn_1.shape"
   ]
  },
  {
   "cell_type": "code",
   "execution_count": 44,
   "id": "25a42c42-a047-428c-9081-51cc2e0f41f8",
   "metadata": {},
   "outputs": [
    {
     "data": {
      "text/html": [
       "<div>\n",
       "<style scoped>\n",
       "    .dataframe tbody tr th:only-of-type {\n",
       "        vertical-align: middle;\n",
       "    }\n",
       "\n",
       "    .dataframe tbody tr th {\n",
       "        vertical-align: top;\n",
       "    }\n",
       "\n",
       "    .dataframe thead th {\n",
       "        text-align: right;\n",
       "    }\n",
       "</style>\n",
       "<table border=\"1\" class=\"dataframe\">\n",
       "  <thead>\n",
       "    <tr style=\"text-align: right;\">\n",
       "      <th></th>\n",
       "      <th>user_id</th>\n",
       "      <th>score</th>\n",
       "      <th>city</th>\n",
       "      <th>gender</th>\n",
       "      <th>age</th>\n",
       "      <th>equity</th>\n",
       "      <th>balance</th>\n",
       "      <th>products</th>\n",
       "      <th>credit_card</th>\n",
       "      <th>last_activity</th>\n",
       "      <th>est_salary</th>\n",
       "      <th>churn</th>\n",
       "      <th>age_isna</th>\n",
       "      <th>balance_isna</th>\n",
       "    </tr>\n",
       "  </thead>\n",
       "  <tbody>\n",
       "    <tr>\n",
       "      <th>1</th>\n",
       "      <td>146556</td>\n",
       "      <td>861</td>\n",
       "      <td>Рыбинск</td>\n",
       "      <td>Ж</td>\n",
       "      <td>37.0</td>\n",
       "      <td>5</td>\n",
       "      <td>850594.33</td>\n",
       "      <td>3</td>\n",
       "      <td>1</td>\n",
       "      <td>0</td>\n",
       "      <td>86621.77</td>\n",
       "      <td>0</td>\n",
       "      <td>0</td>\n",
       "      <td>0</td>\n",
       "    </tr>\n",
       "    <tr>\n",
       "      <th>2</th>\n",
       "      <td>120722</td>\n",
       "      <td>892</td>\n",
       "      <td>Рыбинск</td>\n",
       "      <td>Ж</td>\n",
       "      <td>30.0</td>\n",
       "      <td>0</td>\n",
       "      <td>NaN</td>\n",
       "      <td>1</td>\n",
       "      <td>1</td>\n",
       "      <td>1</td>\n",
       "      <td>107683.34</td>\n",
       "      <td>0</td>\n",
       "      <td>0</td>\n",
       "      <td>1</td>\n",
       "    </tr>\n",
       "    <tr>\n",
       "      <th>5</th>\n",
       "      <td>202305</td>\n",
       "      <td>856</td>\n",
       "      <td>Рыбинск</td>\n",
       "      <td>М</td>\n",
       "      <td>56.0</td>\n",
       "      <td>4</td>\n",
       "      <td>863687.24</td>\n",
       "      <td>3</td>\n",
       "      <td>1</td>\n",
       "      <td>0</td>\n",
       "      <td>156619.80</td>\n",
       "      <td>0</td>\n",
       "      <td>0</td>\n",
       "      <td>0</td>\n",
       "    </tr>\n",
       "    <tr>\n",
       "      <th>6</th>\n",
       "      <td>177259</td>\n",
       "      <td>807</td>\n",
       "      <td>Ярославль</td>\n",
       "      <td>Ж</td>\n",
       "      <td>39.0</td>\n",
       "      <td>3</td>\n",
       "      <td>405042.44</td>\n",
       "      <td>3</td>\n",
       "      <td>0</td>\n",
       "      <td>1</td>\n",
       "      <td>103838.32</td>\n",
       "      <td>0</td>\n",
       "      <td>0</td>\n",
       "      <td>0</td>\n",
       "    </tr>\n",
       "    <tr>\n",
       "      <th>7</th>\n",
       "      <td>218868</td>\n",
       "      <td>825</td>\n",
       "      <td>Ярославль</td>\n",
       "      <td>Ж</td>\n",
       "      <td>38.0</td>\n",
       "      <td>4</td>\n",
       "      <td>458145.40</td>\n",
       "      <td>2</td>\n",
       "      <td>1</td>\n",
       "      <td>1</td>\n",
       "      <td>68085.48</td>\n",
       "      <td>0</td>\n",
       "      <td>0</td>\n",
       "      <td>0</td>\n",
       "    </tr>\n",
       "  </tbody>\n",
       "</table>\n",
       "</div>"
      ],
      "text/plain": [
       "   user_id  score       city gender   age  equity    balance  products  \\\n",
       "1   146556    861    Рыбинск      Ж  37.0       5  850594.33         3   \n",
       "2   120722    892    Рыбинск      Ж  30.0       0        NaN         1   \n",
       "5   202305    856    Рыбинск      М  56.0       4  863687.24         3   \n",
       "6   177259    807  Ярославль      Ж  39.0       3  405042.44         3   \n",
       "7   218868    825  Ярославль      Ж  38.0       4  458145.40         2   \n",
       "\n",
       "   credit_card  last_activity  est_salary  churn  age_isna  balance_isna  \n",
       "1            1              0    86621.77      0         0             0  \n",
       "2            1              1   107683.34      0         0             1  \n",
       "5            1              0   156619.80      0         0             0  \n",
       "6            0              1   103838.32      0         0             0  \n",
       "7            1              1    68085.48      0         0             0  "
      ]
     },
     "metadata": {},
     "output_type": "display_data"
    },
    {
     "data": {
      "text/plain": [
       "(7562, 14)"
      ]
     },
     "execution_count": 44,
     "metadata": {},
     "output_type": "execute_result"
    }
   ],
   "source": [
    "churn_0 = data.query('churn == 0')\n",
    "display(churn_0.head())\n",
    "churn_0.shape"
   ]
  },
  {
   "cell_type": "markdown",
   "id": "d00d5d13-6014-4300-83d0-2dea051e5c4c",
   "metadata": {},
   "source": [
    "Итак, проверим выборочные совокупности на нормальность распределений. Сформулируем гипотезы для теста Шапиро-Уилка:\n",
    "- Нулевая гипотеза: распределение нормально.\n",
    "- Альтернативная гипотеза: распределение не нормально."
   ]
  },
  {
   "cell_type": "markdown",
   "id": "c5f88e28-ce35-4614-93f3-5af21cf738d9",
   "metadata": {},
   "source": [
    "Проверим на нормальность распределение выборки с ушедшими клиентами."
   ]
  },
  {
   "cell_type": "code",
   "execution_count": 45,
   "id": "874ae834-5843-42f6-bf1e-b6e85d4703b0",
   "metadata": {},
   "outputs": [
    {
     "name": "stdout",
     "output_type": "stream",
     "text": [
      "p-значение:  3.582215836353368e-15\n",
      "Отвергаем нулевую гипотезу: распределение не нормально\n"
     ]
    }
   ],
   "source": [
    "alpha = 0.05 # Зададим критерий статистической значимости\n",
    "\n",
    "results_1 = stats.shapiro(churn_1['est_salary'])\n",
    "p_value_1 = results_1[1]\n",
    "\n",
    "print('p-значение: ', p_value_1)\n",
    "\n",
    "if p_value_1 < alpha:\n",
    "    print('Отвергаем нулевую гипотезу: распределение не нормально')\n",
    "else:\n",
    "    print('Не получилось отвергнуть нулевую гипотезу, всё нормально') "
   ]
  },
  {
   "cell_type": "markdown",
   "id": "6daa876f-5e65-4821-a175-110a75b0f3c5",
   "metadata": {},
   "source": [
    "Проверим на нормальность распределение выборки с оставшимися клиентами."
   ]
  },
  {
   "cell_type": "code",
   "execution_count": 46,
   "id": "0f0ff5b2-3fea-4dde-99c5-69f87c31b814",
   "metadata": {},
   "outputs": [
    {
     "name": "stdout",
     "output_type": "stream",
     "text": [
      "p-значение:  1.233677159892071e-36\n",
      "Отвергаем нулевую гипотезу: распределение не нормально\n"
     ]
    },
    {
     "name": "stderr",
     "output_type": "stream",
     "text": [
      "C:\\Anaconda\\Lib\\site-packages\\scipy\\stats\\_morestats.py:1882: UserWarning: p-value may not be accurate for N > 5000.\n",
      "  warnings.warn(\"p-value may not be accurate for N > 5000.\")\n"
     ]
    }
   ],
   "source": [
    "alpha = 0.05 # Зададим критерий статистической значимости\n",
    "\n",
    "results_0 = stats.shapiro(churn_0['est_salary'])\n",
    "p_value_0 = results_0[1]\n",
    "\n",
    "print('p-значение: ', p_value_0)\n",
    "\n",
    "if p_value_0 < alpha:\n",
    "    print('Отвергаем нулевую гипотезу: распределение не нормально')\n",
    "else:\n",
    "    print('Не получилось отвергнуть нулевую гипотезу, всё нормально') "
   ]
  },
  {
   "cell_type": "markdown",
   "id": "92adc997-a6e1-4972-9aee-b27da009a163",
   "metadata": {},
   "source": [
    "Таким образом, распределения наших выборок не нормальное.\n",
    "\n",
    "Проверим наши выборки на наличие выбросов с помощью диаграммы \"ящик с усами\"."
   ]
  },
  {
   "cell_type": "code",
   "execution_count": 47,
   "id": "27bd73f2",
   "metadata": {},
   "outputs": [
    {
     "data": {
      "image/png": "[encoded data removed]",
      "text/plain": [
       "<Figure size 1000x700 with 1 Axes>"
      ]
     },
     "metadata": {},
     "output_type": "display_data"
    }
   ],
   "source": [
    "sns.boxplot(data=churn_1, y='est_salary')\n",
    "plt.title('Ящик с усами признака est_salary, churn=1');"
   ]
  },
  {
   "cell_type": "code",
   "execution_count": 48,
   "id": "352570e2",
   "metadata": {},
   "outputs": [
    {
     "data": {
      "image/png": "[encoded data removed]",
      "text/plain": [
       "<Figure size 1000x700 with 1 Axes>"
      ]
     },
     "metadata": {},
     "output_type": "display_data"
    }
   ],
   "source": [
    "sns.boxplot(data=churn_0, y='est_salary')\n",
    "plt.title('Ящик с усами признака est_salary, churn=0');"
   ]
  },
  {
   "cell_type": "markdown",
   "id": "6f7118bb",
   "metadata": {},
   "source": [
    "Таким образом, мы видим, что выбросы не сильно заметны, и их немного, поэтому в силу ЦПТ и отсутствия сильных выбросов мы можем применить t-тест."
   ]
  },
  {
   "cell_type": "code",
   "execution_count": 49,
   "id": "b8f83406-442e-483a-a1af-02da22257d25",
   "metadata": {},
   "outputs": [
    {
     "name": "stdout",
     "output_type": "stream",
     "text": [
      "р-значение: 0.16622121171652773\n",
      "Не получилось отвергнуть нулевую гипотезу, вывод о различии в доходах клиентов сделать нельзя\n"
     ]
    }
   ],
   "source": [
    "results = stats.ttest_ind(churn_1['est_salary'], churn_0['est_salary'])\n",
    "\n",
    "print('р-значение:', results.pvalue)\n",
    "\n",
    "if results.pvalue < alpha:\n",
    "    print('Отвергаем нулевую гипотезу: разница в доходах клиентов статистически значима')\n",
    "else:\n",
    "    print('Не получилось отвергнуть нулевую гипотезу, вывод о различии в доходах клиентов сделать нельзя')"
   ]
  },
  {
   "cell_type": "markdown",
   "id": "a9df6cd1-331c-49db-8ec9-74c7e67ff46d",
   "metadata": {},
   "source": [
    "Таким образом, мы принимаем нулевую гипотезу о равенстве доходов клиентов."
   ]
  },
  {
   "cell_type": "markdown",
   "id": "36e53626-10f3-4b55-a9a6-5f6ea81baf81",
   "metadata": {},
   "source": [
    "### Проверка гипотезы о различии в возрасте между ушедшими и оставшимися клиентами"
   ]
  },
  {
   "cell_type": "markdown",
   "id": "f8ce14d2-181a-4c3b-9f59-61ff01db8b4e",
   "metadata": {},
   "source": [
    "Сформулируем гипотезы:\n",
    "- Нулевая гипотеза: возраст ушедших и оставшихся клиентов одинаковый.\n",
    "- Альтернативная гипотеза: возраст ушедших и оставшихся клиентов разный."
   ]
  },
  {
   "cell_type": "markdown",
   "id": "3970bf52-fd07-413d-90d7-518e1d4c2d7a",
   "metadata": {},
   "source": [
    "Итак, проверим выборочные совокупности на нормальность распределений. Сформулируем гипотезы для теста Шапиро-Уилка:\n",
    "- Нулевая гипотеза: распределение нормально.\n",
    "- Альтернативная гипотеза: распределение не нормально."
   ]
  },
  {
   "cell_type": "markdown",
   "id": "dd67de28-eaa3-4138-8d79-6abf3e03dc30",
   "metadata": {},
   "source": [
    "Проверим на нормальность распределение выборки с ушедшими клиентами."
   ]
  },
  {
   "cell_type": "code",
   "execution_count": 50,
   "id": "6305669e-ec7c-4023-904d-43314304c5a0",
   "metadata": {},
   "outputs": [
    {
     "name": "stdout",
     "output_type": "stream",
     "text": [
      "p-значение:  7.872474637887814e-23\n",
      "Отвергаем нулевую гипотезу: распределение не нормально\n"
     ]
    }
   ],
   "source": [
    "alpha = 0.05 # Зададим критерий статистической значимости\n",
    "\n",
    "results_1 = stats.shapiro(churn_1['age'])\n",
    "p_value_1 = results_1[1]\n",
    "\n",
    "print('p-значение: ', p_value_1)\n",
    "\n",
    "if p_value_1 < alpha:\n",
    "    print('Отвергаем нулевую гипотезу: распределение не нормально')\n",
    "else:\n",
    "    print('Не получилось отвергнуть нулевую гипотезу, всё нормально') "
   ]
  },
  {
   "cell_type": "markdown",
   "id": "5b03f767-d09f-4a5b-8aaf-81f0d9e5dcf9",
   "metadata": {},
   "source": [
    "Проверим на нормальность распределение выборки с оставшимися клиентами."
   ]
  },
  {
   "cell_type": "code",
   "execution_count": 51,
   "id": "878e6430-b97a-4559-bada-5d28c8ce531a",
   "metadata": {},
   "outputs": [
    {
     "name": "stdout",
     "output_type": "stream",
     "text": [
      "p-значение:  3.930642192431112e-42\n",
      "Отвергаем нулевую гипотезу: распределение не нормально\n"
     ]
    },
    {
     "name": "stderr",
     "output_type": "stream",
     "text": [
      "C:\\Anaconda\\Lib\\site-packages\\scipy\\stats\\_morestats.py:1882: UserWarning: p-value may not be accurate for N > 5000.\n",
      "  warnings.warn(\"p-value may not be accurate for N > 5000.\")\n"
     ]
    }
   ],
   "source": [
    "alpha = 0.05 # Зададим критерий статистической значимости\n",
    "\n",
    "results_0 = stats.shapiro(churn_0['age'])\n",
    "p_value_0 = results_0[1]\n",
    "\n",
    "print('p-значение: ', p_value_0)\n",
    "\n",
    "if p_value_0 < alpha:\n",
    "    print('Отвергаем нулевую гипотезу: распределение не нормально')\n",
    "else:\n",
    "    print('Не получилось отвергнуть нулевую гипотезу, всё нормально') "
   ]
  },
  {
   "cell_type": "markdown",
   "id": "908a0a3f",
   "metadata": {},
   "source": [
    "Таким образом, распределения наших выборок не нормальное.\n",
    "\n",
    "Проверим наши выборки на наличие выбросов с помощью диаграммы \"ящик с усами\"."
   ]
  },
  {
   "cell_type": "code",
   "execution_count": 52,
   "id": "c15b36a8",
   "metadata": {},
   "outputs": [
    {
     "data": {
      "image/png": "[encoded data removed]",
      "text/plain": [
       "<Figure size 1000x700 with 1 Axes>"
      ]
     },
     "metadata": {},
     "output_type": "display_data"
    }
   ],
   "source": [
    "sns.boxplot(data=churn_1, y='age')\n",
    "plt.title('Ящик с усами признака age, churn=1');"
   ]
  },
  {
   "cell_type": "code",
   "execution_count": 53,
   "id": "1d891a42",
   "metadata": {},
   "outputs": [
    {
     "data": {
      "image/png": "[encoded data removed]",
      "text/plain": [
       "<Figure size 1000x700 with 1 Axes>"
      ]
     },
     "metadata": {},
     "output_type": "display_data"
    }
   ],
   "source": [
    "sns.boxplot(data=churn_0, y='age')\n",
    "plt.title('Ящик с усами признака age, churn=0');"
   ]
  },
  {
   "cell_type": "markdown",
   "id": "19c7044e",
   "metadata": {},
   "source": [
    "Таким образом, мы видим, что выбросы не сильно заметны, и их немного, поэтому в силу ЦПТ и отсутствия сильных выбросов мы можем применить t-тест."
   ]
  },
  {
   "cell_type": "code",
   "execution_count": 54,
   "id": "d98df660-1fef-4c90-91ac-12898d1f1325",
   "metadata": {},
   "outputs": [
    {
     "name": "stdout",
     "output_type": "stream",
     "text": [
      "р-значение: 6.941682007676745e-07\n",
      "Отвергаем нулевую гипотезу: разница в возрасте клиентов статистически значима\n"
     ]
    }
   ],
   "source": [
    "results = stats.ttest_ind(churn_1['age'], churn_0['age'])\n",
    "\n",
    "print('р-значение:', results.pvalue)\n",
    "\n",
    "if results.pvalue < alpha:\n",
    "    print('Отвергаем нулевую гипотезу: разница в возрасте клиентов статистически значима')\n",
    "else:\n",
    "    print('Не получилось отвергнуть нулевую гипотезу, вывод о различии в возрасте клиентов сделать нельзя')"
   ]
  },
  {
   "cell_type": "markdown",
   "id": "5b1df7d1-0e99-498a-a8b1-9c131523052d",
   "metadata": {},
   "source": [
    "Таким образом, мы отвергаем нулевую гипотезу и делаем вывод о том, что возраст ушедших и оставшихся клиентов разный."
   ]
  },
  {
   "cell_type": "markdown",
   "id": "ad9a2352-d601-418f-b111-46d93a9b110c",
   "metadata": {},
   "source": [
    "## Подведение промежуточных итогов"
   ]
  },
  {
   "cell_type": "markdown",
   "id": "597a8e1b-93b8-400d-8093-2d2c30482e24",
   "metadata": {},
   "source": [
    "На данном этапе мы будем выбирать признаки, которые лягут в основу сегментирования отточных клиентов банка."
   ]
  },
  {
   "cell_type": "markdown",
   "id": "5eba06a4-b500-4fd4-b27a-35db7359c4bb",
   "metadata": {},
   "source": [
    "### Выводы по результатам исследовательского анализа"
   ]
  },
  {
   "cell_type": "markdown",
   "id": "d17b2e70-4cbc-41f9-8d72-fa86c90140b2",
   "metadata": {},
   "source": [
    "В результате исследовательского анализа мы выявили следующие наиболее явные признаки отточных клиентов:\n",
    "1. Баланс на счете - от 750 000 до 2 115 000.\n",
    "2. Оценочный доход - от 100 000 до 180 000.\n",
    "3. Баллы кредитного скоринга - от 824 до 900.\n",
    "4. Пол - мужской.\n",
    "5. Жители Ярославля и Ростова.\n",
    "6. Возраст - от 23 до 35 лет и от 50 до 62 лет.\n",
    "7. Баллы собственности - больше 4.\n",
    "8. Количество продуктов банка - больше 3.\n",
    "9. Не имеет кредитную карту.\n",
    "10. Активный клиент."
   ]
  },
  {
   "cell_type": "markdown",
   "id": "c2b4e6f9-4891-4fe5-8fe1-a595bd8ff609",
   "metadata": {},
   "source": [
    "### Выводы по результатам корреляционного анализа"
   ]
  },
  {
   "cell_type": "markdown",
   "id": "3cf20900-5fd7-4eb8-9ef3-a0bce20fccc0",
   "metadata": {},
   "source": [
    "В результате корреляционного анализа мы выявили, что наибольшая зависимость наблюдается между признаком отточност клиента и количеством баллов собственности, балансом на счете, активностью, количеством продуктов банка, баллом кредитного скоринга и полом."
   ]
  },
  {
   "cell_type": "markdown",
   "id": "2a709b28-9237-419c-96c8-6bd65efa17f3",
   "metadata": {},
   "source": [
    "### Выводы по результатам проверки статистических гипотез"
   ]
  },
  {
   "cell_type": "markdown",
   "id": "a7dd6701-4b60-4ad4-8ffe-368acaa32fbe",
   "metadata": {},
   "source": [
    "В результате проверки статистических гипотез мы выявили, что доходы отточных и не отточных клиентов равны, в то время как их возраст отличается."
   ]
  },
  {
   "cell_type": "markdown",
   "id": "e97b8d20-0a03-456f-8423-9467f99e6c8c",
   "metadata": {},
   "source": [
    "### Выделение признаков, влияющих на отток клиентов банка"
   ]
  },
  {
   "cell_type": "markdown",
   "id": "c5c28054-0f1c-49ed-bca2-8fe822d8b8c1",
   "metadata": {},
   "source": [
    "Таким образом, в результате проведенного анализа, мы выделяем следующие признаки отточных клиентов:\n",
    "1. Баланс на счете - от 750 000 до 2 115 000.\n",
    "2. Баллы кредитного скоринга - от 824 до 900.\n",
    "3. Пол - мужской.\n",
    "4. Возраст - от 23 до 35 лет и от 50 до 62.\n",
    "5. Баллы собственности - больше 4.\n",
    "7. Активный клиент."
   ]
  },
  {
   "cell_type": "markdown",
   "id": "34925f29-c38b-4b09-b449-361adf59790b",
   "metadata": {},
   "source": [
    "## Сегментация клиентов банка"
   ]
  },
  {
   "cell_type": "markdown",
   "id": "fb881b25-f5a0-4f39-8457-bc0c32064d26",
   "metadata": {},
   "source": [
    "### Формирование сегментов отточных клиентов"
   ]
  },
  {
   "cell_type": "code",
   "execution_count": 55,
   "id": "d9dbd3df-dea3-43ca-b6e1-4d2a4ce83314",
   "metadata": {},
   "outputs": [
    {
     "name": "stdout",
     "output_type": "stream",
     "text": [
      "Доля отточных клиентов по банку, в %: 17\n"
     ]
    }
   ],
   "source": [
    "print('Доля отточных клиентов по банку, в %:', round(data['churn'].mean() * 100))"
   ]
  },
  {
   "cell_type": "markdown",
   "id": "c0589abd-6677-45b0-af77-72a57c2b3751",
   "metadata": {},
   "source": [
    "**Сегмент 1**:\n",
    "- Пол - мужской.\n",
    "- Возраст - от 23 до 35 лет.\n",
    "- Активный клиент. "
   ]
  },
  {
   "cell_type": "code",
   "execution_count": 56,
   "id": "7af7ce0c-6133-4081-9cd4-952789d06388",
   "metadata": {},
   "outputs": [
    {
     "data": {
      "text/html": [
       "<div>\n",
       "<style scoped>\n",
       "    .dataframe tbody tr th:only-of-type {\n",
       "        vertical-align: middle;\n",
       "    }\n",
       "\n",
       "    .dataframe tbody tr th {\n",
       "        vertical-align: top;\n",
       "    }\n",
       "\n",
       "    .dataframe thead th {\n",
       "        text-align: right;\n",
       "    }\n",
       "</style>\n",
       "<table border=\"1\" class=\"dataframe\">\n",
       "  <thead>\n",
       "    <tr style=\"text-align: right;\">\n",
       "      <th></th>\n",
       "      <th>user_id</th>\n",
       "      <th>score</th>\n",
       "      <th>city</th>\n",
       "      <th>gender</th>\n",
       "      <th>age</th>\n",
       "      <th>equity</th>\n",
       "      <th>balance</th>\n",
       "      <th>products</th>\n",
       "      <th>credit_card</th>\n",
       "      <th>last_activity</th>\n",
       "      <th>est_salary</th>\n",
       "      <th>churn</th>\n",
       "      <th>age_isna</th>\n",
       "      <th>balance_isna</th>\n",
       "    </tr>\n",
       "  </thead>\n",
       "  <tbody>\n",
       "    <tr>\n",
       "      <th>28</th>\n",
       "      <td>123660</td>\n",
       "      <td>776</td>\n",
       "      <td>Ярославль</td>\n",
       "      <td>М</td>\n",
       "      <td>26.0</td>\n",
       "      <td>1</td>\n",
       "      <td>49105.63</td>\n",
       "      <td>1</td>\n",
       "      <td>1</td>\n",
       "      <td>1</td>\n",
       "      <td>38234.94</td>\n",
       "      <td>0</td>\n",
       "      <td>0</td>\n",
       "      <td>0</td>\n",
       "    </tr>\n",
       "    <tr>\n",
       "      <th>45</th>\n",
       "      <td>118849</td>\n",
       "      <td>826</td>\n",
       "      <td>Ярославль</td>\n",
       "      <td>М</td>\n",
       "      <td>31.0</td>\n",
       "      <td>4</td>\n",
       "      <td>333330.99</td>\n",
       "      <td>1</td>\n",
       "      <td>1</td>\n",
       "      <td>1</td>\n",
       "      <td>46981.53</td>\n",
       "      <td>0</td>\n",
       "      <td>0</td>\n",
       "      <td>0</td>\n",
       "    </tr>\n",
       "    <tr>\n",
       "      <th>77</th>\n",
       "      <td>191976</td>\n",
       "      <td>937</td>\n",
       "      <td>Ярославль</td>\n",
       "      <td>М</td>\n",
       "      <td>33.0</td>\n",
       "      <td>5</td>\n",
       "      <td>2061152.96</td>\n",
       "      <td>2</td>\n",
       "      <td>1</td>\n",
       "      <td>1</td>\n",
       "      <td>280670.62</td>\n",
       "      <td>1</td>\n",
       "      <td>0</td>\n",
       "      <td>0</td>\n",
       "    </tr>\n",
       "    <tr>\n",
       "      <th>81</th>\n",
       "      <td>223978</td>\n",
       "      <td>850</td>\n",
       "      <td>Рыбинск</td>\n",
       "      <td>М</td>\n",
       "      <td>34.0</td>\n",
       "      <td>5</td>\n",
       "      <td>351583.16</td>\n",
       "      <td>4</td>\n",
       "      <td>0</td>\n",
       "      <td>1</td>\n",
       "      <td>115354.97</td>\n",
       "      <td>1</td>\n",
       "      <td>0</td>\n",
       "      <td>0</td>\n",
       "    </tr>\n",
       "    <tr>\n",
       "      <th>88</th>\n",
       "      <td>210088</td>\n",
       "      <td>894</td>\n",
       "      <td>Ярославль</td>\n",
       "      <td>М</td>\n",
       "      <td>29.0</td>\n",
       "      <td>3</td>\n",
       "      <td>786911.18</td>\n",
       "      <td>2</td>\n",
       "      <td>1</td>\n",
       "      <td>1</td>\n",
       "      <td>99022.74</td>\n",
       "      <td>1</td>\n",
       "      <td>0</td>\n",
       "      <td>0</td>\n",
       "    </tr>\n",
       "  </tbody>\n",
       "</table>\n",
       "</div>"
      ],
      "text/plain": [
       "    user_id  score       city gender   age  equity     balance  products  \\\n",
       "28   123660    776  Ярославль      М  26.0       1    49105.63         1   \n",
       "45   118849    826  Ярославль      М  31.0       4   333330.99         1   \n",
       "77   191976    937  Ярославль      М  33.0       5  2061152.96         2   \n",
       "81   223978    850    Рыбинск      М  34.0       5   351583.16         4   \n",
       "88   210088    894  Ярославль      М  29.0       3   786911.18         2   \n",
       "\n",
       "    credit_card  last_activity  est_salary  churn  age_isna  balance_isna  \n",
       "28            1              1    38234.94      0         0             0  \n",
       "45            1              1    46981.53      0         0             0  \n",
       "77            1              1   280670.62      1         0             0  \n",
       "81            0              1   115354.97      1         0             0  \n",
       "88            1              1    99022.74      1         0             0  "
      ]
     },
     "metadata": {},
     "output_type": "display_data"
    },
    {
     "name": "stdout",
     "output_type": "stream",
     "text": [
      "Доля отточных клиентов данного сегмента, в %: 33\n",
      "Количество клиентов в сегменте: 835\n"
     ]
    }
   ],
   "source": [
    "seg_1 = data.query('gender == \"М\" and age > 23 and age < 35 and last_activity == 1')\n",
    "display(seg_1.head())\n",
    "print('Доля отточных клиентов данного сегмента, в %:', round(seg_1['churn'].mean()*100))\n",
    "print('Количество клиентов в сегменте:', seg_1.shape[0])"
   ]
  },
  {
   "cell_type": "markdown",
   "id": "0eb29d2d-183e-4a3f-83d3-0862fd43527b",
   "metadata": {},
   "source": [
    "**Сегмент 2**:\n",
    "- Возраст - от 50 до 62 лет.\n",
    "- Активный клиент. "
   ]
  },
  {
   "cell_type": "code",
   "execution_count": 57,
   "id": "7232e0c5-dfe4-442e-8c7b-b690ac2c756a",
   "metadata": {},
   "outputs": [
    {
     "data": {
      "text/html": [
       "<div>\n",
       "<style scoped>\n",
       "    .dataframe tbody tr th:only-of-type {\n",
       "        vertical-align: middle;\n",
       "    }\n",
       "\n",
       "    .dataframe tbody tr th {\n",
       "        vertical-align: top;\n",
       "    }\n",
       "\n",
       "    .dataframe thead th {\n",
       "        text-align: right;\n",
       "    }\n",
       "</style>\n",
       "<table border=\"1\" class=\"dataframe\">\n",
       "  <thead>\n",
       "    <tr style=\"text-align: right;\">\n",
       "      <th></th>\n",
       "      <th>user_id</th>\n",
       "      <th>score</th>\n",
       "      <th>city</th>\n",
       "      <th>gender</th>\n",
       "      <th>age</th>\n",
       "      <th>equity</th>\n",
       "      <th>balance</th>\n",
       "      <th>products</th>\n",
       "      <th>credit_card</th>\n",
       "      <th>last_activity</th>\n",
       "      <th>est_salary</th>\n",
       "      <th>churn</th>\n",
       "      <th>age_isna</th>\n",
       "      <th>balance_isna</th>\n",
       "    </tr>\n",
       "  </thead>\n",
       "  <tbody>\n",
       "    <tr>\n",
       "      <th>3</th>\n",
       "      <td>225363</td>\n",
       "      <td>866</td>\n",
       "      <td>Ярославль</td>\n",
       "      <td>Ж</td>\n",
       "      <td>51.0</td>\n",
       "      <td>5</td>\n",
       "      <td>1524746.26</td>\n",
       "      <td>2</td>\n",
       "      <td>0</td>\n",
       "      <td>1</td>\n",
       "      <td>174423.53</td>\n",
       "      <td>1</td>\n",
       "      <td>0</td>\n",
       "      <td>0</td>\n",
       "    </tr>\n",
       "    <tr>\n",
       "      <th>10</th>\n",
       "      <td>148929</td>\n",
       "      <td>927</td>\n",
       "      <td>Ростов</td>\n",
       "      <td>М</td>\n",
       "      <td>52.0</td>\n",
       "      <td>0</td>\n",
       "      <td>NaN</td>\n",
       "      <td>1</td>\n",
       "      <td>1</td>\n",
       "      <td>1</td>\n",
       "      <td>196820.07</td>\n",
       "      <td>0</td>\n",
       "      <td>0</td>\n",
       "      <td>1</td>\n",
       "    </tr>\n",
       "    <tr>\n",
       "      <th>25</th>\n",
       "      <td>189712</td>\n",
       "      <td>806</td>\n",
       "      <td>Ярославль</td>\n",
       "      <td>Ж</td>\n",
       "      <td>61.0</td>\n",
       "      <td>2</td>\n",
       "      <td>288289.94</td>\n",
       "      <td>2</td>\n",
       "      <td>1</td>\n",
       "      <td>1</td>\n",
       "      <td>55366.82</td>\n",
       "      <td>0</td>\n",
       "      <td>0</td>\n",
       "      <td>0</td>\n",
       "    </tr>\n",
       "    <tr>\n",
       "      <th>36</th>\n",
       "      <td>199614</td>\n",
       "      <td>822</td>\n",
       "      <td>Ярославль</td>\n",
       "      <td>М</td>\n",
       "      <td>60.0</td>\n",
       "      <td>5</td>\n",
       "      <td>1472483.77</td>\n",
       "      <td>1</td>\n",
       "      <td>1</td>\n",
       "      <td>1</td>\n",
       "      <td>89132.67</td>\n",
       "      <td>0</td>\n",
       "      <td>0</td>\n",
       "      <td>0</td>\n",
       "    </tr>\n",
       "    <tr>\n",
       "      <th>39</th>\n",
       "      <td>173175</td>\n",
       "      <td>924</td>\n",
       "      <td>Рыбинск</td>\n",
       "      <td>Ж</td>\n",
       "      <td>51.0</td>\n",
       "      <td>0</td>\n",
       "      <td>NaN</td>\n",
       "      <td>1</td>\n",
       "      <td>1</td>\n",
       "      <td>1</td>\n",
       "      <td>248844.47</td>\n",
       "      <td>0</td>\n",
       "      <td>0</td>\n",
       "      <td>1</td>\n",
       "    </tr>\n",
       "  </tbody>\n",
       "</table>\n",
       "</div>"
      ],
      "text/plain": [
       "    user_id  score       city gender   age  equity     balance  products  \\\n",
       "3    225363    866  Ярославль      Ж  51.0       5  1524746.26         2   \n",
       "10   148929    927     Ростов      М  52.0       0         NaN         1   \n",
       "25   189712    806  Ярославль      Ж  61.0       2   288289.94         2   \n",
       "36   199614    822  Ярославль      М  60.0       5  1472483.77         1   \n",
       "39   173175    924    Рыбинск      Ж  51.0       0         NaN         1   \n",
       "\n",
       "    credit_card  last_activity  est_salary  churn  age_isna  balance_isna  \n",
       "3             0              1   174423.53      1         0             0  \n",
       "10            1              1   196820.07      0         0             1  \n",
       "25            1              1    55366.82      0         0             0  \n",
       "36            1              1    89132.67      0         0             0  \n",
       "39            1              1   248844.47      0         0             1  "
      ]
     },
     "metadata": {},
     "output_type": "display_data"
    },
    {
     "name": "stdout",
     "output_type": "stream",
     "text": [
      "Доля отточных клиентов данного сегмента, в %: 30\n",
      "Количество клиентов в сегменте: 815\n"
     ]
    }
   ],
   "source": [
    "seg_2 = data.query('last_activity == 1 and age > 50 and age < 62')\n",
    "display(seg_2.head())\n",
    "print('Доля отточных клиентов данного сегмента, в %:', round(seg_2['churn'].mean()*100))\n",
    "print('Количество клиентов в сегменте:', seg_2.shape[0])"
   ]
  },
  {
   "cell_type": "markdown",
   "id": "16049297-2003-41c3-971b-15a723a84b57",
   "metadata": {},
   "source": [
    "**Сегмент 3**:\n",
    "- Баланс на счете - от 750 000 до 2 115 000.\n",
    "- Баллы собственности - больше 4.\n",
    "- Баллы кредитного скоринга - от 824 до 900."
   ]
  },
  {
   "cell_type": "code",
   "execution_count": 58,
   "id": "9d052a35-05dc-4feb-a275-b9acc9dca7dc",
   "metadata": {},
   "outputs": [
    {
     "data": {
      "text/html": [
       "<div>\n",
       "<style scoped>\n",
       "    .dataframe tbody tr th:only-of-type {\n",
       "        vertical-align: middle;\n",
       "    }\n",
       "\n",
       "    .dataframe tbody tr th {\n",
       "        vertical-align: top;\n",
       "    }\n",
       "\n",
       "    .dataframe thead th {\n",
       "        text-align: right;\n",
       "    }\n",
       "</style>\n",
       "<table border=\"1\" class=\"dataframe\">\n",
       "  <thead>\n",
       "    <tr style=\"text-align: right;\">\n",
       "      <th></th>\n",
       "      <th>user_id</th>\n",
       "      <th>score</th>\n",
       "      <th>city</th>\n",
       "      <th>gender</th>\n",
       "      <th>age</th>\n",
       "      <th>equity</th>\n",
       "      <th>balance</th>\n",
       "      <th>products</th>\n",
       "      <th>credit_card</th>\n",
       "      <th>last_activity</th>\n",
       "      <th>est_salary</th>\n",
       "      <th>churn</th>\n",
       "      <th>age_isna</th>\n",
       "      <th>balance_isna</th>\n",
       "    </tr>\n",
       "  </thead>\n",
       "  <tbody>\n",
       "    <tr>\n",
       "      <th>1</th>\n",
       "      <td>146556</td>\n",
       "      <td>861</td>\n",
       "      <td>Рыбинск</td>\n",
       "      <td>Ж</td>\n",
       "      <td>37.0</td>\n",
       "      <td>5</td>\n",
       "      <td>850594.33</td>\n",
       "      <td>3</td>\n",
       "      <td>1</td>\n",
       "      <td>0</td>\n",
       "      <td>86621.77</td>\n",
       "      <td>0</td>\n",
       "      <td>0</td>\n",
       "      <td>0</td>\n",
       "    </tr>\n",
       "    <tr>\n",
       "      <th>3</th>\n",
       "      <td>225363</td>\n",
       "      <td>866</td>\n",
       "      <td>Ярославль</td>\n",
       "      <td>Ж</td>\n",
       "      <td>51.0</td>\n",
       "      <td>5</td>\n",
       "      <td>1524746.26</td>\n",
       "      <td>2</td>\n",
       "      <td>0</td>\n",
       "      <td>1</td>\n",
       "      <td>174423.53</td>\n",
       "      <td>1</td>\n",
       "      <td>0</td>\n",
       "      <td>0</td>\n",
       "    </tr>\n",
       "    <tr>\n",
       "      <th>35</th>\n",
       "      <td>221927</td>\n",
       "      <td>863</td>\n",
       "      <td>Ростов</td>\n",
       "      <td>М</td>\n",
       "      <td>39.0</td>\n",
       "      <td>5</td>\n",
       "      <td>1461423.33</td>\n",
       "      <td>1</td>\n",
       "      <td>0</td>\n",
       "      <td>1</td>\n",
       "      <td>221699.52</td>\n",
       "      <td>0</td>\n",
       "      <td>0</td>\n",
       "      <td>0</td>\n",
       "    </tr>\n",
       "    <tr>\n",
       "      <th>56</th>\n",
       "      <td>188364</td>\n",
       "      <td>860</td>\n",
       "      <td>Ярославль</td>\n",
       "      <td>М</td>\n",
       "      <td>55.0</td>\n",
       "      <td>6</td>\n",
       "      <td>865702.41</td>\n",
       "      <td>2</td>\n",
       "      <td>1</td>\n",
       "      <td>0</td>\n",
       "      <td>76058.00</td>\n",
       "      <td>0</td>\n",
       "      <td>0</td>\n",
       "      <td>0</td>\n",
       "    </tr>\n",
       "    <tr>\n",
       "      <th>72</th>\n",
       "      <td>156677</td>\n",
       "      <td>873</td>\n",
       "      <td>Ярославль</td>\n",
       "      <td>М</td>\n",
       "      <td>39.0</td>\n",
       "      <td>5</td>\n",
       "      <td>915959.85</td>\n",
       "      <td>3</td>\n",
       "      <td>0</td>\n",
       "      <td>1</td>\n",
       "      <td>154034.62</td>\n",
       "      <td>1</td>\n",
       "      <td>0</td>\n",
       "      <td>0</td>\n",
       "    </tr>\n",
       "  </tbody>\n",
       "</table>\n",
       "</div>"
      ],
      "text/plain": [
       "    user_id  score       city gender   age  equity     balance  products  \\\n",
       "1    146556    861    Рыбинск      Ж  37.0       5   850594.33         3   \n",
       "3    225363    866  Ярославль      Ж  51.0       5  1524746.26         2   \n",
       "35   221927    863     Ростов      М  39.0       5  1461423.33         1   \n",
       "56   188364    860  Ярославль      М  55.0       6   865702.41         2   \n",
       "72   156677    873  Ярославль      М  39.0       5   915959.85         3   \n",
       "\n",
       "    credit_card  last_activity  est_salary  churn  age_isna  balance_isna  \n",
       "1             1              0    86621.77      0         0             0  \n",
       "3             0              1   174423.53      1         0             0  \n",
       "35            0              1   221699.52      0         0             0  \n",
       "56            1              0    76058.00      0         0             0  \n",
       "72            0              1   154034.62      1         0             0  "
      ]
     },
     "metadata": {},
     "output_type": "display_data"
    },
    {
     "name": "stdout",
     "output_type": "stream",
     "text": [
      "Доля отточных клиентов данного сегмента, в %: 40\n",
      "Количество клиентов в сегменте: 510\n"
     ]
    }
   ],
   "source": [
    "seg_3 = data.query('balance > 750000 and balance < 2115000 and equity > 4 and score > 824 and score < 900')\n",
    "display(seg_3.head())\n",
    "print('Доля отточных клиентов данного сегмента, в %:', round(seg_3['churn'].mean()*100))\n",
    "print('Количество клиентов в сегменте:', seg_3.shape[0])"
   ]
  },
  {
   "cell_type": "markdown",
   "id": "c3354817-4986-4cc3-b9d5-9f6085bfec7b",
   "metadata": {},
   "source": [
    "### Приоритезация сегментов отточных клиентов"
   ]
  },
  {
   "cell_type": "markdown",
   "id": "feb3ee08-d572-4db4-8246-d0aa6cfa685f",
   "metadata": {},
   "source": [
    "Будем сегментировать признаки по проценту оттока. Таким образом, очередность будет следующая:\n",
    "1. **Сегмент 3**:\n",
    "- Баланс на счете - от 750 000 до 2 115 000.\n",
    "- Баллы собственности - больше 4.\n",
    "- Баллы кредитного скоринга - от 824 до 900.\n",
    "\n",
    "Доля отточных клиентов данного сегмента, в %: 40\n",
    "\n",
    "Количество клиентов в сегменте: 510\n",
    "\n",
    "2. **Сегмент 1**:\n",
    "- Пол - мужской.\n",
    "- Возраст - от 23 до 35 лет.\n",
    "- Активный клиент.\n",
    "\n",
    "Доля отточных клиентов данного сегмента, в %: 33\n",
    "\n",
    "Количество клиентов в сегменте: 835\n",
    "\n",
    "3. **Сегмент 2**:\n",
    "- Возраст - от 50 до 62 лет.\n",
    "- Активный клиент.\n",
    "\n",
    "Доля отточных клиентов данного сегмента, в %: 30\n",
    "\n",
    "Количество клиентов в сегменте: 815"
   ]
  },
  {
   "cell_type": "markdown",
   "id": "b1fd8ade-c2a9-4e9a-9ac5-21962709b1b3",
   "metadata": {},
   "source": [
    "## Выводы и рекомендации по работе с отточными сегментами"
   ]
  },
  {
   "cell_type": "markdown",
   "id": "f83aac60-726e-42b5-a38d-1bc723f31e46",
   "metadata": {},
   "source": [
    "Таким образом, в процессе исследования мы провели предобработку данных, исследовательский и корреляционный анализы данных, составили портреты отточных и не отточных клиентов, проверили статистические гипотезы, сформировали и приоритезировали сегменты отточных клиентов банка.\n",
    "\n",
    "В процессе предобработки данных мы заменили типы данных там, где это было необходимо, проанализировали и обработали пропущенные значения, проанализировали дубликаты.\n",
    "\n",
    "В процессе исследовательского анализа данных мы построили распределения признаков в разрезе оттока и выявили признаки отточных клиентов:\n",
    "1. Баланс на счете - от 750 000 до 2 115 000.\n",
    "2. Оценочный доход - от 100 000 до 180 000.\n",
    "3. Баллы кредитного скоринга - от 824 до 900.\n",
    "4. Пол - мужской.\n",
    "5. Жители Ярославля и Ростова.\n",
    "6. Возраст - от 23 до 35 лет и от 50 до 62 лет.\n",
    "7. Баллы собственности - больше 4.\n",
    "8. Количество продуктов банка - больше 3.\n",
    "9. Не имеет кредитную карту.\n",
    "10. Активный клиент.\n",
    "\n",
    "С помощью корреляционного анализа данных мы проанализировали взаимозависимость признака оттока с другими переменными. В результате данного анализа мы выявили, что между признаком отточности и количеством баллов собственности наблюдается умеренная связь, между первым и баллом кредитного скоринга, полом, возрастом, балансом на счете, количеством продуктов банка, наличием кредитной карты и активностью наблюдается слабая связь, между признаком отточности и городом и оценочным доходом практически нет связи.\n",
    "\n",
    "Составив портреты отточных и не отточных клиентов и сравнив меры центральной тенденции различных признаков, наибольшую разницу мы выявили по показателям пола, среднего баланса на счете и активности. Так, отточными клиентами чаще являются мужчины, не отточными - женщины. Отточные клиенты чаще являются активными, не отточные - неактивными. У отточных клиентов средний баланс на счете составляет примерно 778 000, у не отточных - 573 000.\n",
    "\n",
    "В процессе проверки двух статистических гипотез мы выявили, что доходы отточных и не отточных клиентов равны, в то время как их возраст отличается.\n",
    "\n",
    "Следующим шагом мы сформировали и приоритезировали сегменты отточных клиентов. Результат получился таким:\n",
    "1. **Сегмент 3**:\n",
    "- Баланс на счете - от 750 000 до 2 115 000.\n",
    "- Баллы собственности - больше 4.\n",
    "- Баллы кредитного скоринга - от 824 до 900.\n",
    "\n",
    "Доля отточных клиентов данного сегмента, в %: 40\n",
    "\n",
    "Количество клиентов в сегменте: 510\n",
    "\n",
    "2. **Сегмент 1**:\n",
    "- Пол - мужской.\n",
    "- Возраст - от 23 до 35 лет.\n",
    "- Активный клиент.\n",
    "\n",
    "Доля отточных клиентов данного сегмента, в %: 33\n",
    "\n",
    "Количество клиентов в сегменте: 835\n",
    "\n",
    "3. **Сегмент 2**:\n",
    "- Возраст - от 50 до 62 лет.\n",
    "- Активный клиент.\n",
    "\n",
    "Доля отточных клиентов данного сегмента, в %: 30\n",
    "\n",
    "Количество клиентов в сегменте: 815\n",
    "\n",
    "Таким образом, по результатам исследования мы можем дать следующие рекомендации по работе с отточными клиентами:\n",
    "1. **Сегмент 3**: рекламировать различные инвестиционные продукты, предлагать кредитные карты, инвестиционные продукты и депозиты на особых условиях.\n",
    "2. **Сегмент 1**: предлагать зарплатный проект, льготные ипотечные условия и условия кредитования, кэшбеки на заправках, с авиабилетов, в ресторанах и кафе.\n",
    "3. **Сегмент 2**: предлагать депозиты с более высоким процентом, кэшбеки на товары садоводства, на лекарства, на путешествия по стране."
   ]
  }
 ],
 "metadata": {
  "ExecuteTimeLog": [
   {
    "duration": 2927,
    "start_time": "2024-08-18T14:14:23.222Z"
   },
   {
    "duration": 1559,
    "start_time": "2024-08-18T14:14:26.151Z"
   },
   {
    "duration": 171,
    "start_time": "2024-08-18T14:14:27.711Z"
   },
   {
    "duration": 13,
    "start_time": "2024-08-18T14:14:27.884Z"
   },
   {
    "duration": 16,
    "start_time": "2024-08-18T14:14:27.900Z"
   },
   {
    "duration": 13,
    "start_time": "2024-08-18T14:14:27.918Z"
   },
   {
    "duration": 10,
    "start_time": "2024-08-18T14:14:27.933Z"
   },
   {
    "duration": 44,
    "start_time": "2024-08-18T14:14:27.945Z"
   },
   {
    "duration": 20800,
    "start_time": "2024-08-18T14:14:27.990Z"
   },
   {
    "duration": 118,
    "start_time": "2024-08-18T14:14:48.792Z"
   },
   {
    "duration": 0,
    "start_time": "2024-08-18T14:14:48.912Z"
   },
   {
    "duration": 0,
    "start_time": "2024-08-18T14:14:48.914Z"
   },
   {
    "duration": 0,
    "start_time": "2024-08-18T14:14:48.915Z"
   },
   {
    "duration": 0,
    "start_time": "2024-08-18T14:14:48.917Z"
   },
   {
    "duration": 0,
    "start_time": "2024-08-18T14:14:48.918Z"
   },
   {
    "duration": 0,
    "start_time": "2024-08-18T14:14:48.919Z"
   },
   {
    "duration": 0,
    "start_time": "2024-08-18T14:14:48.920Z"
   },
   {
    "duration": 0,
    "start_time": "2024-08-18T14:14:48.921Z"
   },
   {
    "duration": 0,
    "start_time": "2024-08-18T14:14:48.922Z"
   },
   {
    "duration": 0,
    "start_time": "2024-08-18T14:14:48.923Z"
   },
   {
    "duration": 0,
    "start_time": "2024-08-18T14:14:48.924Z"
   },
   {
    "duration": 0,
    "start_time": "2024-08-18T14:14:48.925Z"
   },
   {
    "duration": 0,
    "start_time": "2024-08-18T14:14:48.926Z"
   },
   {
    "duration": 0,
    "start_time": "2024-08-18T14:14:48.927Z"
   },
   {
    "duration": 0,
    "start_time": "2024-08-18T14:14:48.928Z"
   },
   {
    "duration": 0,
    "start_time": "2024-08-18T14:14:48.928Z"
   },
   {
    "duration": 0,
    "start_time": "2024-08-18T14:14:48.929Z"
   },
   {
    "duration": 0,
    "start_time": "2024-08-18T14:14:48.930Z"
   },
   {
    "duration": 0,
    "start_time": "2024-08-18T14:14:48.932Z"
   },
   {
    "duration": 0,
    "start_time": "2024-08-18T14:14:48.933Z"
   },
   {
    "duration": 0,
    "start_time": "2024-08-18T14:14:48.934Z"
   },
   {
    "duration": 0,
    "start_time": "2024-08-18T14:14:48.935Z"
   },
   {
    "duration": 0,
    "start_time": "2024-08-18T14:14:48.936Z"
   },
   {
    "duration": 0,
    "start_time": "2024-08-18T14:14:48.937Z"
   },
   {
    "duration": 0,
    "start_time": "2024-08-18T14:14:48.938Z"
   },
   {
    "duration": 0,
    "start_time": "2024-08-18T14:14:48.984Z"
   },
   {
    "duration": 1,
    "start_time": "2024-08-18T14:14:48.985Z"
   },
   {
    "duration": 0,
    "start_time": "2024-08-18T14:14:48.987Z"
   },
   {
    "duration": 0,
    "start_time": "2024-08-18T14:14:48.988Z"
   },
   {
    "duration": 0,
    "start_time": "2024-08-18T14:14:48.989Z"
   },
   {
    "duration": 0,
    "start_time": "2024-08-18T14:14:48.990Z"
   },
   {
    "duration": 0,
    "start_time": "2024-08-18T14:14:48.992Z"
   },
   {
    "duration": 0,
    "start_time": "2024-08-18T14:14:48.993Z"
   },
   {
    "duration": 0,
    "start_time": "2024-08-18T14:14:48.994Z"
   },
   {
    "duration": 0,
    "start_time": "2024-08-18T14:14:48.995Z"
   },
   {
    "duration": 0,
    "start_time": "2024-08-18T14:14:48.996Z"
   },
   {
    "duration": 0,
    "start_time": "2024-08-18T14:14:48.997Z"
   },
   {
    "duration": 0,
    "start_time": "2024-08-18T14:14:48.998Z"
   },
   {
    "duration": 0,
    "start_time": "2024-08-18T14:14:48.999Z"
   },
   {
    "duration": 0,
    "start_time": "2024-08-18T14:14:49.000Z"
   },
   {
    "duration": 0,
    "start_time": "2024-08-18T14:14:49.001Z"
   },
   {
    "duration": 0,
    "start_time": "2024-08-18T14:14:49.002Z"
   },
   {
    "duration": 0,
    "start_time": "2024-08-18T14:14:49.003Z"
   },
   {
    "duration": 0,
    "start_time": "2024-08-18T14:14:49.004Z"
   },
   {
    "duration": 2898,
    "start_time": "2024-08-18T14:15:45.238Z"
   },
   {
    "duration": 1574,
    "start_time": "2024-08-18T14:15:48.138Z"
   },
   {
    "duration": 135,
    "start_time": "2024-08-18T14:15:49.713Z"
   },
   {
    "duration": 12,
    "start_time": "2024-08-18T14:15:49.850Z"
   },
   {
    "duration": 17,
    "start_time": "2024-08-18T14:15:49.865Z"
   },
   {
    "duration": 24,
    "start_time": "2024-08-18T14:15:49.883Z"
   },
   {
    "duration": 12,
    "start_time": "2024-08-18T14:15:49.908Z"
   },
   {
    "duration": 15,
    "start_time": "2024-08-18T14:15:49.922Z"
   },
   {
    "duration": 20247,
    "start_time": "2024-08-18T14:15:49.938Z"
   },
   {
    "duration": 9,
    "start_time": "2024-08-18T14:16:10.187Z"
   },
   {
    "duration": 20,
    "start_time": "2024-08-18T14:16:10.197Z"
   },
   {
    "duration": 6,
    "start_time": "2024-08-18T14:16:10.218Z"
   },
   {
    "duration": 30,
    "start_time": "2024-08-18T14:16:10.226Z"
   },
   {
    "duration": 27,
    "start_time": "2024-08-18T14:16:10.258Z"
   },
   {
    "duration": 6289,
    "start_time": "2024-08-18T14:16:10.286Z"
   },
   {
    "duration": 12,
    "start_time": "2024-08-18T14:16:16.577Z"
   },
   {
    "duration": 14,
    "start_time": "2024-08-18T14:16:16.591Z"
   },
   {
    "duration": 262,
    "start_time": "2024-08-18T14:16:16.607Z"
   },
   {
    "duration": 1150,
    "start_time": "2024-08-18T14:16:16.871Z"
   },
   {
    "duration": 8,
    "start_time": "2024-08-18T14:16:18.023Z"
   },
   {
    "duration": 30,
    "start_time": "2024-08-18T14:16:18.033Z"
   },
   {
    "duration": 282,
    "start_time": "2024-08-18T14:16:18.065Z"
   },
   {
    "duration": 326,
    "start_time": "2024-08-18T14:16:18.349Z"
   },
   {
    "duration": 15,
    "start_time": "2024-08-18T14:16:18.683Z"
   },
   {
    "duration": 232,
    "start_time": "2024-08-18T14:16:18.700Z"
   },
   {
    "duration": 15,
    "start_time": "2024-08-18T14:16:18.934Z"
   },
   {
    "duration": 279,
    "start_time": "2024-08-18T14:16:18.950Z"
   },
   {
    "duration": 268,
    "start_time": "2024-08-18T14:16:19.233Z"
   },
   {
    "duration": 15,
    "start_time": "2024-08-18T14:16:19.503Z"
   },
   {
    "duration": 321,
    "start_time": "2024-08-18T14:16:19.520Z"
   },
   {
    "duration": 14,
    "start_time": "2024-08-18T14:16:19.843Z"
   },
   {
    "duration": 25,
    "start_time": "2024-08-18T14:16:19.859Z"
   },
   {
    "duration": 254,
    "start_time": "2024-08-18T14:16:19.886Z"
   },
   {
    "duration": 14,
    "start_time": "2024-08-18T14:16:20.142Z"
   },
   {
    "duration": 357,
    "start_time": "2024-08-18T14:16:20.158Z"
   },
   {
    "duration": 14,
    "start_time": "2024-08-18T14:16:20.516Z"
   },
   {
    "duration": 207,
    "start_time": "2024-08-18T14:16:20.531Z"
   },
   {
    "duration": 57,
    "start_time": "2024-08-18T14:16:20.740Z"
   },
   {
    "duration": 428,
    "start_time": "2024-08-18T14:16:20.798Z"
   },
   {
    "duration": 376,
    "start_time": "2024-08-18T14:16:21.228Z"
   },
   {
    "duration": 7,
    "start_time": "2024-08-18T14:16:21.605Z"
   },
   {
    "duration": 71,
    "start_time": "2024-08-18T14:16:21.613Z"
   },
   {
    "duration": 15,
    "start_time": "2024-08-18T14:16:21.686Z"
   },
   {
    "duration": 22,
    "start_time": "2024-08-18T14:16:21.703Z"
   },
   {
    "duration": 6,
    "start_time": "2024-08-18T14:16:21.726Z"
   },
   {
    "duration": 17,
    "start_time": "2024-08-18T14:16:21.733Z"
   },
   {
    "duration": 44,
    "start_time": "2024-08-18T14:16:21.752Z"
   },
   {
    "duration": 61,
    "start_time": "2024-08-18T14:16:21.798Z"
   },
   {
    "duration": 14,
    "start_time": "2024-08-18T14:16:21.861Z"
   },
   {
    "duration": 29,
    "start_time": "2024-08-18T14:16:21.877Z"
   },
   {
    "duration": 30,
    "start_time": "2024-08-18T14:16:21.908Z"
   },
   {
    "duration": 40,
    "start_time": "2024-08-18T14:16:21.939Z"
   },
   {
    "duration": 81,
    "start_time": "2024-08-18T14:16:21.981Z"
   },
   {
    "duration": 19,
    "start_time": "2024-08-18T14:16:22.064Z"
   },
   {
    "duration": 1064,
    "start_time": "2024-08-18T14:19:06.167Z"
   },
   {
    "duration": 381,
    "start_time": "2024-08-18T14:19:13.428Z"
   },
   {
    "duration": 3325,
    "start_time": "2024-08-19T09:14:25.198Z"
   },
   {
    "duration": 3177,
    "start_time": "2024-08-19T09:14:28.525Z"
   },
   {
    "duration": 130,
    "start_time": "2024-08-19T09:14:31.703Z"
   },
   {
    "duration": 12,
    "start_time": "2024-08-19T09:14:31.836Z"
   },
   {
    "duration": 20,
    "start_time": "2024-08-19T09:14:31.849Z"
   },
   {
    "duration": 31,
    "start_time": "2024-08-19T09:14:31.871Z"
   },
   {
    "duration": 16,
    "start_time": "2024-08-19T09:14:31.904Z"
   },
   {
    "duration": 72,
    "start_time": "2024-08-19T09:14:31.921Z"
   },
   {
    "duration": 522,
    "start_time": "2024-08-19T09:14:31.995Z"
   },
   {
    "duration": 13,
    "start_time": "2024-08-19T09:14:32.520Z"
   },
   {
    "duration": 46,
    "start_time": "2024-08-19T09:14:32.536Z"
   },
   {
    "duration": 7,
    "start_time": "2024-08-19T09:14:32.584Z"
   },
   {
    "duration": 27,
    "start_time": "2024-08-19T09:14:32.593Z"
   },
   {
    "duration": 7,
    "start_time": "2024-08-19T09:14:32.623Z"
   },
   {
    "duration": 5437,
    "start_time": "2024-08-19T09:14:32.631Z"
   },
   {
    "duration": 18,
    "start_time": "2024-08-19T09:14:38.070Z"
   },
   {
    "duration": 46,
    "start_time": "2024-08-19T09:14:38.090Z"
   },
   {
    "duration": 557,
    "start_time": "2024-08-19T09:14:38.138Z"
   },
   {
    "duration": 994,
    "start_time": "2024-08-19T09:14:38.697Z"
   },
   {
    "duration": 8,
    "start_time": "2024-08-19T09:14:39.693Z"
   },
   {
    "duration": 14,
    "start_time": "2024-08-19T09:14:39.704Z"
   },
   {
    "duration": 581,
    "start_time": "2024-08-19T09:14:39.721Z"
   },
   {
    "duration": 432,
    "start_time": "2024-08-19T09:14:40.305Z"
   },
   {
    "duration": 22,
    "start_time": "2024-08-19T09:14:40.740Z"
   },
   {
    "duration": 454,
    "start_time": "2024-08-19T09:14:40.765Z"
   },
   {
    "duration": 17,
    "start_time": "2024-08-19T09:14:41.221Z"
   },
   {
    "duration": 314,
    "start_time": "2024-08-19T09:14:41.241Z"
   },
   {
    "duration": 453,
    "start_time": "2024-08-19T09:14:41.561Z"
   },
   {
    "duration": 18,
    "start_time": "2024-08-19T09:14:42.016Z"
   },
   {
    "duration": 559,
    "start_time": "2024-08-19T09:14:42.037Z"
   },
   {
    "duration": 17,
    "start_time": "2024-08-19T09:14:42.600Z"
   },
   {
    "duration": 25,
    "start_time": "2024-08-19T09:14:42.619Z"
   },
   {
    "duration": 361,
    "start_time": "2024-08-19T09:14:42.646Z"
   },
   {
    "duration": 16,
    "start_time": "2024-08-19T09:14:43.009Z"
   },
   {
    "duration": 388,
    "start_time": "2024-08-19T09:14:43.027Z"
   },
   {
    "duration": 22,
    "start_time": "2024-08-19T09:14:43.418Z"
   },
   {
    "duration": 362,
    "start_time": "2024-08-19T09:14:43.442Z"
   },
   {
    "duration": 29,
    "start_time": "2024-08-19T09:14:43.807Z"
   },
   {
    "duration": 440,
    "start_time": "2024-08-19T09:14:43.839Z"
   },
   {
    "duration": 614,
    "start_time": "2024-08-19T09:14:44.280Z"
   },
   {
    "duration": 6,
    "start_time": "2024-08-19T09:14:44.895Z"
   },
   {
    "duration": 56,
    "start_time": "2024-08-19T09:14:44.903Z"
   },
   {
    "duration": 31,
    "start_time": "2024-08-19T09:14:44.961Z"
   },
   {
    "duration": 18,
    "start_time": "2024-08-19T09:14:44.994Z"
   },
   {
    "duration": 50,
    "start_time": "2024-08-19T09:14:45.014Z"
   },
   {
    "duration": 33,
    "start_time": "2024-08-19T09:14:45.066Z"
   },
   {
    "duration": 332,
    "start_time": "2024-08-19T09:14:45.101Z"
   },
   {
    "duration": 341,
    "start_time": "2024-08-19T09:14:45.434Z"
   },
   {
    "duration": 11,
    "start_time": "2024-08-19T09:14:45.776Z"
   },
   {
    "duration": 76,
    "start_time": "2024-08-19T09:14:45.789Z"
   },
   {
    "duration": 8,
    "start_time": "2024-08-19T09:14:45.866Z"
   },
   {
    "duration": 267,
    "start_time": "2024-08-19T09:14:45.876Z"
   },
   {
    "duration": 289,
    "start_time": "2024-08-19T09:14:46.145Z"
   },
   {
    "duration": 6,
    "start_time": "2024-08-19T09:14:46.435Z"
   },
   {
    "duration": 5,
    "start_time": "2024-08-19T09:14:46.442Z"
   },
   {
    "duration": 44,
    "start_time": "2024-08-19T09:14:46.448Z"
   },
   {
    "duration": 20,
    "start_time": "2024-08-19T09:14:46.494Z"
   },
   {
    "duration": 24,
    "start_time": "2024-08-19T09:14:46.516Z"
   }
  ],
  "kernelspec": {
   "display_name": "Python 3 (ipykernel)",
   "language": "python",
   "name": "python3"
  },
  "language_info": {
   "codemirror_mode": {
    "name": "ipython",
    "version": 3
   },
   "file_extension": ".py",
   "mimetype": "text/x-python",
   "name": "python",
   "nbconvert_exporter": "python",
   "pygments_lexer": "ipython3",
   "version": "3.11.5"
  },
  "toc": {
   "base_numbering": 1,
   "nav_menu": {},
   "number_sections": true,
   "sideBar": true,
   "skip_h1_title": true,
   "title_cell": "Table of Contents",
   "title_sidebar": "Contents",
   "toc_cell": true,
   "toc_position": {},
   "toc_section_display": true,
   "toc_window_display": false
  }
 },
 "nbformat": 4,
 "nbformat_minor": 5
}
