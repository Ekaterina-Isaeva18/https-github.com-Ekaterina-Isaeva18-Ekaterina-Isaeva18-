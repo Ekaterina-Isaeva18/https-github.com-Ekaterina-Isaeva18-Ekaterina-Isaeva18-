{
 "cells": [
  {
   "cell_type": "markdown",
   "id": "eefb91a7",
   "metadata": {},
   "source": [
    "# Анализ данных сервиса аренды самокатов GoFast."
   ]
  },
  {
   "cell_type": "markdown",
   "id": "d27366f2",
   "metadata": {},
   "source": [
    "**Цель исследования**: изучить данные и проверить гипотезы, которые помогут бизнесу вырасти.\n",
    "\n",
    "Мы имеем данные о пользователях, их поездках и подписках."
   ]
  },
  {
   "cell_type": "markdown",
   "id": "ea39955c",
   "metadata": {},
   "source": [
    "# План работы:\n",
    "\n",
    "**Шаг 1. Загрузка данных**\n",
    "\n",
    "1. Прочитать файлы.\n",
    "2. Вывести первые строки (head).\n",
    "3. Изучить общую инофрмацию о датасетах (info).\n",
    "\n",
    "**Шаг 2. Предобработка данных**\n",
    "\n",
    "4. Привести столбец date к типу даты pandas.\n",
    "5. Создать новый столбец month с номером месяца на основе столбца date.\n",
    "6. Проверить наличие пропущенных значений.\n",
    "7. Обработать пропущенные значения, если они есть.\n",
    "8. Проверить наличие дубликатов.\n",
    "9. Обработать дубликаты, если они есть.\n",
    "\n",
    "**Шаг 3. Исследовательский анализ данных**\n",
    "\n",
    "10. Описать и визуализировать общую информацию о пользователях и поездках:\n",
    "- частота встречаемости городов;\n",
    "- соотношение пользователей с подпиской и без подписки;\n",
    "- возраст пользователей;\n",
    "- расстояние, которое пользователь преодолел за одну поездку;\n",
    "- продолжительность поездок.\n",
    "\n",
    "**Шаг 4. Объединение данных**\n",
    "\n",
    "11. Объединить данные о пользователях, поездках и подписках в один датафрейм (merge).\n",
    "12. Создать ещё два датафрейма из датафрейма, созданного на этапе 11:\n",
    "- c данными о пользователях без подписки;\n",
    "- с данными о пользователях с подпиской.\n",
    "13. Визуализировать информацию о расстоянии и времени поездок для пользователей обеих категорий.\n",
    "\n",
    "**Шаг 5. Подсчёт выручки**\n",
    "\n",
    "14. Создать датафрейм с суммарным расстоянием, количеством поездок и суммарным временем для каждого пользователя за каждый месяц.\n",
    "15. Добавить столбец с помесячной выручкой, которую принёс каждый пользователь. Округлить продолжительность поездки с помощью метода np.ceil().\n",
    "\n",
    "**Шаг 6. Проверка гипотез**\n",
    "\n",
    "16. Проверить гипотезу о том, что пользователи с подпиской тратят больше времени на поездки.\n",
    "17. Проверить гипотезу о том, что среднее расстояние, которое проезжают пользователи с подпиской за одну поездку, не превышает 3130 метров.\n",
    "18. Проверить гипотезу о том, будет ли помесячная выручка от пользователей с подпиской по месяцам выше, чем выручка от пользователей без подписки. \n",
    "19. Ответ на вопрос о предполагаемой ситуации."
   ]
  },
  {
   "cell_type": "code",
   "execution_count": 1,
   "id": "5d68e9be",
   "metadata": {},
   "outputs": [],
   "source": [
    "import pandas as pd\n",
    "import numpy as np\n",
    "import matplotlib.pyplot as plt\n",
    "import seaborn as sns\n",
    "from scipy import stats as st"
   ]
  },
  {
   "cell_type": "markdown",
   "id": "c8630f2c",
   "metadata": {},
   "source": [
    "#### Шаг 1. Загрузка данных"
   ]
  },
  {
   "cell_type": "code",
   "execution_count": 2,
   "id": "52fe2418",
   "metadata": {},
   "outputs": [],
   "source": [
    "# Прочитаем файлы.\n",
    "\n",
    "try:\n",
    "    users = pd.read_csv('users_go.csv')\n",
    "    rides = pd.read_csv('rides_go.csv')\n",
    "    subscriptions = pd.read_csv('subscriptions_go.csv')\n",
    "except:\n",
    "    users = pd.read_csv('/datasets/users_go.csv')\n",
    "    rides = pd.read_csv('/datasets/rides_go.csv')\n",
    "    subscriptions = pd.read_csv('/datasets/subscriptions_go.csv')   "
   ]
  },
  {
   "cell_type": "code",
   "execution_count": 3,
   "id": "7166ca59",
   "metadata": {},
   "outputs": [
    {
     "name": "stdout",
     "output_type": "stream",
     "text": [
      "Информация о пользователях\n"
     ]
    },
    {
     "data": {
      "text/html": [
       "<div>\n",
       "<style scoped>\n",
       "    .dataframe tbody tr th:only-of-type {\n",
       "        vertical-align: middle;\n",
       "    }\n",
       "\n",
       "    .dataframe tbody tr th {\n",
       "        vertical-align: top;\n",
       "    }\n",
       "\n",
       "    .dataframe thead th {\n",
       "        text-align: right;\n",
       "    }\n",
       "</style>\n",
       "<table border=\"1\" class=\"dataframe\">\n",
       "  <thead>\n",
       "    <tr style=\"text-align: right;\">\n",
       "      <th></th>\n",
       "      <th>user_id</th>\n",
       "      <th>name</th>\n",
       "      <th>age</th>\n",
       "      <th>city</th>\n",
       "      <th>subscription_type</th>\n",
       "    </tr>\n",
       "  </thead>\n",
       "  <tbody>\n",
       "    <tr>\n",
       "      <th>0</th>\n",
       "      <td>1</td>\n",
       "      <td>Кира</td>\n",
       "      <td>22</td>\n",
       "      <td>Тюмень</td>\n",
       "      <td>ultra</td>\n",
       "    </tr>\n",
       "    <tr>\n",
       "      <th>1</th>\n",
       "      <td>2</td>\n",
       "      <td>Станислав</td>\n",
       "      <td>31</td>\n",
       "      <td>Омск</td>\n",
       "      <td>ultra</td>\n",
       "    </tr>\n",
       "    <tr>\n",
       "      <th>2</th>\n",
       "      <td>3</td>\n",
       "      <td>Алексей</td>\n",
       "      <td>20</td>\n",
       "      <td>Москва</td>\n",
       "      <td>ultra</td>\n",
       "    </tr>\n",
       "    <tr>\n",
       "      <th>3</th>\n",
       "      <td>4</td>\n",
       "      <td>Константин</td>\n",
       "      <td>26</td>\n",
       "      <td>Ростов-на-Дону</td>\n",
       "      <td>ultra</td>\n",
       "    </tr>\n",
       "    <tr>\n",
       "      <th>4</th>\n",
       "      <td>5</td>\n",
       "      <td>Адель</td>\n",
       "      <td>28</td>\n",
       "      <td>Омск</td>\n",
       "      <td>ultra</td>\n",
       "    </tr>\n",
       "    <tr>\n",
       "      <th>5</th>\n",
       "      <td>6</td>\n",
       "      <td>Регина</td>\n",
       "      <td>25</td>\n",
       "      <td>Краснодар</td>\n",
       "      <td>ultra</td>\n",
       "    </tr>\n",
       "    <tr>\n",
       "      <th>6</th>\n",
       "      <td>7</td>\n",
       "      <td>Игорь</td>\n",
       "      <td>23</td>\n",
       "      <td>Омск</td>\n",
       "      <td>ultra</td>\n",
       "    </tr>\n",
       "    <tr>\n",
       "      <th>7</th>\n",
       "      <td>8</td>\n",
       "      <td>Юрий</td>\n",
       "      <td>23</td>\n",
       "      <td>Краснодар</td>\n",
       "      <td>ultra</td>\n",
       "    </tr>\n",
       "    <tr>\n",
       "      <th>8</th>\n",
       "      <td>9</td>\n",
       "      <td>Ян</td>\n",
       "      <td>21</td>\n",
       "      <td>Пятигорск</td>\n",
       "      <td>ultra</td>\n",
       "    </tr>\n",
       "    <tr>\n",
       "      <th>9</th>\n",
       "      <td>10</td>\n",
       "      <td>Валерий</td>\n",
       "      <td>18</td>\n",
       "      <td>Екатеринбург</td>\n",
       "      <td>ultra</td>\n",
       "    </tr>\n",
       "  </tbody>\n",
       "</table>\n",
       "</div>"
      ],
      "text/plain": [
       "   user_id        name  age            city subscription_type\n",
       "0        1        Кира   22          Тюмень             ultra\n",
       "1        2   Станислав   31            Омск             ultra\n",
       "2        3     Алексей   20          Москва             ultra\n",
       "3        4  Константин   26  Ростов-на-Дону             ultra\n",
       "4        5       Адель   28            Омск             ultra\n",
       "5        6      Регина   25       Краснодар             ultra\n",
       "6        7       Игорь   23            Омск             ultra\n",
       "7        8        Юрий   23       Краснодар             ultra\n",
       "8        9          Ян   21       Пятигорск             ultra\n",
       "9       10     Валерий   18    Екатеринбург             ultra"
      ]
     },
     "metadata": {},
     "output_type": "display_data"
    },
    {
     "name": "stdout",
     "output_type": "stream",
     "text": [
      "Информация о поездках\n"
     ]
    },
    {
     "data": {
      "text/html": [
       "<div>\n",
       "<style scoped>\n",
       "    .dataframe tbody tr th:only-of-type {\n",
       "        vertical-align: middle;\n",
       "    }\n",
       "\n",
       "    .dataframe tbody tr th {\n",
       "        vertical-align: top;\n",
       "    }\n",
       "\n",
       "    .dataframe thead th {\n",
       "        text-align: right;\n",
       "    }\n",
       "</style>\n",
       "<table border=\"1\" class=\"dataframe\">\n",
       "  <thead>\n",
       "    <tr style=\"text-align: right;\">\n",
       "      <th></th>\n",
       "      <th>user_id</th>\n",
       "      <th>distance</th>\n",
       "      <th>duration</th>\n",
       "      <th>date</th>\n",
       "    </tr>\n",
       "  </thead>\n",
       "  <tbody>\n",
       "    <tr>\n",
       "      <th>0</th>\n",
       "      <td>1</td>\n",
       "      <td>4409.919140</td>\n",
       "      <td>25.599769</td>\n",
       "      <td>2021-01-01</td>\n",
       "    </tr>\n",
       "    <tr>\n",
       "      <th>1</th>\n",
       "      <td>1</td>\n",
       "      <td>2617.592153</td>\n",
       "      <td>15.816871</td>\n",
       "      <td>2021-01-18</td>\n",
       "    </tr>\n",
       "    <tr>\n",
       "      <th>2</th>\n",
       "      <td>1</td>\n",
       "      <td>754.159807</td>\n",
       "      <td>6.232113</td>\n",
       "      <td>2021-04-20</td>\n",
       "    </tr>\n",
       "    <tr>\n",
       "      <th>3</th>\n",
       "      <td>1</td>\n",
       "      <td>2694.783254</td>\n",
       "      <td>18.511000</td>\n",
       "      <td>2021-08-11</td>\n",
       "    </tr>\n",
       "    <tr>\n",
       "      <th>4</th>\n",
       "      <td>1</td>\n",
       "      <td>4028.687306</td>\n",
       "      <td>26.265803</td>\n",
       "      <td>2021-08-28</td>\n",
       "    </tr>\n",
       "    <tr>\n",
       "      <th>5</th>\n",
       "      <td>1</td>\n",
       "      <td>2770.890808</td>\n",
       "      <td>16.650138</td>\n",
       "      <td>2021-10-09</td>\n",
       "    </tr>\n",
       "    <tr>\n",
       "      <th>6</th>\n",
       "      <td>1</td>\n",
       "      <td>3039.020292</td>\n",
       "      <td>14.927879</td>\n",
       "      <td>2021-10-19</td>\n",
       "    </tr>\n",
       "    <tr>\n",
       "      <th>7</th>\n",
       "      <td>1</td>\n",
       "      <td>2842.118050</td>\n",
       "      <td>23.117468</td>\n",
       "      <td>2021-11-06</td>\n",
       "    </tr>\n",
       "    <tr>\n",
       "      <th>8</th>\n",
       "      <td>1</td>\n",
       "      <td>3412.690668</td>\n",
       "      <td>15.238072</td>\n",
       "      <td>2021-11-14</td>\n",
       "    </tr>\n",
       "    <tr>\n",
       "      <th>9</th>\n",
       "      <td>1</td>\n",
       "      <td>748.690645</td>\n",
       "      <td>15.041884</td>\n",
       "      <td>2021-11-22</td>\n",
       "    </tr>\n",
       "  </tbody>\n",
       "</table>\n",
       "</div>"
      ],
      "text/plain": [
       "   user_id     distance   duration        date\n",
       "0        1  4409.919140  25.599769  2021-01-01\n",
       "1        1  2617.592153  15.816871  2021-01-18\n",
       "2        1   754.159807   6.232113  2021-04-20\n",
       "3        1  2694.783254  18.511000  2021-08-11\n",
       "4        1  4028.687306  26.265803  2021-08-28\n",
       "5        1  2770.890808  16.650138  2021-10-09\n",
       "6        1  3039.020292  14.927879  2021-10-19\n",
       "7        1  2842.118050  23.117468  2021-11-06\n",
       "8        1  3412.690668  15.238072  2021-11-14\n",
       "9        1   748.690645  15.041884  2021-11-22"
      ]
     },
     "metadata": {},
     "output_type": "display_data"
    },
    {
     "name": "stdout",
     "output_type": "stream",
     "text": [
      "Информация о подписках\n"
     ]
    },
    {
     "data": {
      "text/html": [
       "<div>\n",
       "<style scoped>\n",
       "    .dataframe tbody tr th:only-of-type {\n",
       "        vertical-align: middle;\n",
       "    }\n",
       "\n",
       "    .dataframe tbody tr th {\n",
       "        vertical-align: top;\n",
       "    }\n",
       "\n",
       "    .dataframe thead th {\n",
       "        text-align: right;\n",
       "    }\n",
       "</style>\n",
       "<table border=\"1\" class=\"dataframe\">\n",
       "  <thead>\n",
       "    <tr style=\"text-align: right;\">\n",
       "      <th></th>\n",
       "      <th>subscription_type</th>\n",
       "      <th>minute_price</th>\n",
       "      <th>start_ride_price</th>\n",
       "      <th>subscription_fee</th>\n",
       "    </tr>\n",
       "  </thead>\n",
       "  <tbody>\n",
       "    <tr>\n",
       "      <th>0</th>\n",
       "      <td>free</td>\n",
       "      <td>8</td>\n",
       "      <td>50</td>\n",
       "      <td>0</td>\n",
       "    </tr>\n",
       "    <tr>\n",
       "      <th>1</th>\n",
       "      <td>ultra</td>\n",
       "      <td>6</td>\n",
       "      <td>0</td>\n",
       "      <td>199</td>\n",
       "    </tr>\n",
       "  </tbody>\n",
       "</table>\n",
       "</div>"
      ],
      "text/plain": [
       "  subscription_type  minute_price  start_ride_price  subscription_fee\n",
       "0              free             8                50                 0\n",
       "1             ultra             6                 0               199"
      ]
     },
     "metadata": {},
     "output_type": "display_data"
    }
   ],
   "source": [
    "print('Информация о пользователях')\n",
    "display(users.head(10))\n",
    "print('Информация о поездках')\n",
    "display(rides.head(10))\n",
    "print('Информация о подписках')\n",
    "display(subscriptions.head(10))"
   ]
  },
  {
   "cell_type": "code",
   "execution_count": 4,
   "id": "f4779a59",
   "metadata": {},
   "outputs": [
    {
     "name": "stdout",
     "output_type": "stream",
     "text": [
      "<class 'pandas.core.frame.DataFrame'>\n",
      "RangeIndex: 1565 entries, 0 to 1564\n",
      "Data columns (total 5 columns):\n",
      " #   Column             Non-Null Count  Dtype \n",
      "---  ------             --------------  ----- \n",
      " 0   user_id            1565 non-null   int64 \n",
      " 1   name               1565 non-null   object\n",
      " 2   age                1565 non-null   int64 \n",
      " 3   city               1565 non-null   object\n",
      " 4   subscription_type  1565 non-null   object\n",
      "dtypes: int64(2), object(3)\n",
      "memory usage: 61.3+ KB\n"
     ]
    }
   ],
   "source": [
    "users.info()"
   ]
  },
  {
   "cell_type": "markdown",
   "id": "5af6a4dd",
   "metadata": {},
   "source": [
    "В таблице о пользователях мы видим 1565 строк и 5 столбцов, содержащих в себе id пользователя, его имя, возраст, город и тип подписки."
   ]
  },
  {
   "cell_type": "code",
   "execution_count": 5,
   "id": "08bd5fc1",
   "metadata": {
    "scrolled": true
   },
   "outputs": [
    {
     "name": "stdout",
     "output_type": "stream",
     "text": [
      "<class 'pandas.core.frame.DataFrame'>\n",
      "RangeIndex: 18068 entries, 0 to 18067\n",
      "Data columns (total 4 columns):\n",
      " #   Column    Non-Null Count  Dtype  \n",
      "---  ------    --------------  -----  \n",
      " 0   user_id   18068 non-null  int64  \n",
      " 1   distance  18068 non-null  float64\n",
      " 2   duration  18068 non-null  float64\n",
      " 3   date      18068 non-null  object \n",
      "dtypes: float64(2), int64(1), object(1)\n",
      "memory usage: 564.8+ KB\n"
     ]
    }
   ],
   "source": [
    "rides.info()"
   ]
  },
  {
   "cell_type": "markdown",
   "id": "f45391b4",
   "metadata": {},
   "source": [
    "В таблице о поездках мы видим 18068 строк и 4 столбца с id пользователя, расстоянием, которое он проехал на самокате, продолжительностью поездки и датой поездки.\n",
    "\n",
    "Также мы видим, что столбец с датой относится к типу object, следовательно, нам необходимо будет привести его к типу datetime."
   ]
  },
  {
   "cell_type": "code",
   "execution_count": 6,
   "id": "95188533",
   "metadata": {},
   "outputs": [
    {
     "name": "stdout",
     "output_type": "stream",
     "text": [
      "<class 'pandas.core.frame.DataFrame'>\n",
      "RangeIndex: 2 entries, 0 to 1\n",
      "Data columns (total 4 columns):\n",
      " #   Column             Non-Null Count  Dtype \n",
      "---  ------             --------------  ----- \n",
      " 0   subscription_type  2 non-null      object\n",
      " 1   minute_price       2 non-null      int64 \n",
      " 2   start_ride_price   2 non-null      int64 \n",
      " 3   subscription_fee   2 non-null      int64 \n",
      "dtypes: int64(3), object(1)\n",
      "memory usage: 192.0+ bytes\n"
     ]
    }
   ],
   "source": [
    "subscriptions.info()"
   ]
  },
  {
   "cell_type": "markdown",
   "id": "8400b5c6",
   "metadata": {},
   "source": [
    "В столбце о подписках мы видим 2 строки и 4 столбца с информацией о типе подписки, стоимостью одной минуты поездки по ней, стартовой ценой и стоимостью подписки."
   ]
  },
  {
   "cell_type": "markdown",
   "id": "b27fbfd2",
   "metadata": {},
   "source": [
    "#### Шаг 2. Предобработка данных"
   ]
  },
  {
   "cell_type": "code",
   "execution_count": 7,
   "id": "4cc8ba23",
   "metadata": {
    "scrolled": true
   },
   "outputs": [
    {
     "name": "stdout",
     "output_type": "stream",
     "text": [
      "<class 'pandas.core.frame.DataFrame'>\n",
      "RangeIndex: 18068 entries, 0 to 18067\n",
      "Data columns (total 4 columns):\n",
      " #   Column    Non-Null Count  Dtype         \n",
      "---  ------    --------------  -----         \n",
      " 0   user_id   18068 non-null  int64         \n",
      " 1   distance  18068 non-null  float64       \n",
      " 2   duration  18068 non-null  float64       \n",
      " 3   date      18068 non-null  datetime64[ns]\n",
      "dtypes: datetime64[ns](1), float64(2), int64(1)\n",
      "memory usage: 564.8 KB\n"
     ]
    }
   ],
   "source": [
    "# Приведем столбец rides['date'] к формату datetime.\n",
    "rides['date'] = pd.to_datetime(rides['date'], format='%Y-%m-%d')\n",
    "rides.info()"
   ]
  },
  {
   "cell_type": "code",
   "execution_count": 8,
   "id": "a965831c",
   "metadata": {
    "scrolled": false
   },
   "outputs": [
    {
     "data": {
      "text/html": [
       "<div>\n",
       "<style scoped>\n",
       "    .dataframe tbody tr th:only-of-type {\n",
       "        vertical-align: middle;\n",
       "    }\n",
       "\n",
       "    .dataframe tbody tr th {\n",
       "        vertical-align: top;\n",
       "    }\n",
       "\n",
       "    .dataframe thead th {\n",
       "        text-align: right;\n",
       "    }\n",
       "</style>\n",
       "<table border=\"1\" class=\"dataframe\">\n",
       "  <thead>\n",
       "    <tr style=\"text-align: right;\">\n",
       "      <th></th>\n",
       "      <th>user_id</th>\n",
       "      <th>distance</th>\n",
       "      <th>duration</th>\n",
       "      <th>date</th>\n",
       "      <th>month</th>\n",
       "    </tr>\n",
       "  </thead>\n",
       "  <tbody>\n",
       "    <tr>\n",
       "      <th>0</th>\n",
       "      <td>1</td>\n",
       "      <td>4409.919140</td>\n",
       "      <td>25.599769</td>\n",
       "      <td>2021-01-01</td>\n",
       "      <td>1</td>\n",
       "    </tr>\n",
       "    <tr>\n",
       "      <th>1</th>\n",
       "      <td>1</td>\n",
       "      <td>2617.592153</td>\n",
       "      <td>15.816871</td>\n",
       "      <td>2021-01-18</td>\n",
       "      <td>1</td>\n",
       "    </tr>\n",
       "    <tr>\n",
       "      <th>2</th>\n",
       "      <td>1</td>\n",
       "      <td>754.159807</td>\n",
       "      <td>6.232113</td>\n",
       "      <td>2021-04-20</td>\n",
       "      <td>4</td>\n",
       "    </tr>\n",
       "    <tr>\n",
       "      <th>3</th>\n",
       "      <td>1</td>\n",
       "      <td>2694.783254</td>\n",
       "      <td>18.511000</td>\n",
       "      <td>2021-08-11</td>\n",
       "      <td>8</td>\n",
       "    </tr>\n",
       "    <tr>\n",
       "      <th>4</th>\n",
       "      <td>1</td>\n",
       "      <td>4028.687306</td>\n",
       "      <td>26.265803</td>\n",
       "      <td>2021-08-28</td>\n",
       "      <td>8</td>\n",
       "    </tr>\n",
       "    <tr>\n",
       "      <th>5</th>\n",
       "      <td>1</td>\n",
       "      <td>2770.890808</td>\n",
       "      <td>16.650138</td>\n",
       "      <td>2021-10-09</td>\n",
       "      <td>10</td>\n",
       "    </tr>\n",
       "    <tr>\n",
       "      <th>6</th>\n",
       "      <td>1</td>\n",
       "      <td>3039.020292</td>\n",
       "      <td>14.927879</td>\n",
       "      <td>2021-10-19</td>\n",
       "      <td>10</td>\n",
       "    </tr>\n",
       "    <tr>\n",
       "      <th>7</th>\n",
       "      <td>1</td>\n",
       "      <td>2842.118050</td>\n",
       "      <td>23.117468</td>\n",
       "      <td>2021-11-06</td>\n",
       "      <td>11</td>\n",
       "    </tr>\n",
       "    <tr>\n",
       "      <th>8</th>\n",
       "      <td>1</td>\n",
       "      <td>3412.690668</td>\n",
       "      <td>15.238072</td>\n",
       "      <td>2021-11-14</td>\n",
       "      <td>11</td>\n",
       "    </tr>\n",
       "    <tr>\n",
       "      <th>9</th>\n",
       "      <td>1</td>\n",
       "      <td>748.690645</td>\n",
       "      <td>15.041884</td>\n",
       "      <td>2021-11-22</td>\n",
       "      <td>11</td>\n",
       "    </tr>\n",
       "  </tbody>\n",
       "</table>\n",
       "</div>"
      ],
      "text/plain": [
       "   user_id     distance   duration       date  month\n",
       "0        1  4409.919140  25.599769 2021-01-01      1\n",
       "1        1  2617.592153  15.816871 2021-01-18      1\n",
       "2        1   754.159807   6.232113 2021-04-20      4\n",
       "3        1  2694.783254  18.511000 2021-08-11      8\n",
       "4        1  4028.687306  26.265803 2021-08-28      8\n",
       "5        1  2770.890808  16.650138 2021-10-09     10\n",
       "6        1  3039.020292  14.927879 2021-10-19     10\n",
       "7        1  2842.118050  23.117468 2021-11-06     11\n",
       "8        1  3412.690668  15.238072 2021-11-14     11\n",
       "9        1   748.690645  15.041884 2021-11-22     11"
      ]
     },
     "execution_count": 8,
     "metadata": {},
     "output_type": "execute_result"
    }
   ],
   "source": [
    "# Создадим новый столбец month на основе столбца date.\n",
    "rides['month'] = rides['date'].dt.month\n",
    "rides.head(10)"
   ]
  },
  {
   "cell_type": "code",
   "execution_count": 9,
   "id": "bc8ee63d",
   "metadata": {},
   "outputs": [
    {
     "name": "stdout",
     "output_type": "stream",
     "text": [
      "2021-01-01 00:00:00\n"
     ]
    },
    {
     "data": {
      "text/plain": [
       "Timestamp('2021-12-30 00:00:00')"
      ]
     },
     "execution_count": 9,
     "metadata": {},
     "output_type": "execute_result"
    }
   ],
   "source": [
    "print(rides['date'].min())\n",
    "rides['date'].max()"
   ]
  },
  {
   "cell_type": "markdown",
   "id": "4f91ef10",
   "metadata": {},
   "source": [
    "Таким образом, мы имеем данные в промежутке от 1 января до 30 декабря 2021 года."
   ]
  },
  {
   "cell_type": "code",
   "execution_count": 10,
   "id": "fb7b7565",
   "metadata": {
    "scrolled": true
   },
   "outputs": [
    {
     "name": "stdout",
     "output_type": "stream",
     "text": [
      "Информация о пользователях\n",
      "user_id              0\n",
      "name                 0\n",
      "age                  0\n",
      "city                 0\n",
      "subscription_type    0\n",
      "dtype: int64\n",
      "\n",
      "\n",
      "Информация о поездках\n",
      "user_id     0\n",
      "distance    0\n",
      "duration    0\n",
      "date        0\n",
      "month       0\n",
      "dtype: int64\n",
      "\n",
      "\n",
      "Информация о подписках\n",
      "subscription_type    0\n",
      "minute_price         0\n",
      "start_ride_price     0\n",
      "subscription_fee     0\n",
      "dtype: int64\n"
     ]
    }
   ],
   "source": [
    "# Проверим наличие пропущенных значений в датафреймах.\n",
    "print('Информация о пользователях')\n",
    "print(users.isna().sum())\n",
    "print('\\n')\n",
    "print('Информация о поездках')\n",
    "print(rides.isna().sum())\n",
    "print('\\n')\n",
    "print('Информация о подписках')\n",
    "print(subscriptions.isna().sum())"
   ]
  },
  {
   "cell_type": "markdown",
   "id": "db78c487",
   "metadata": {},
   "source": [
    "Пропущенных значений в датафреймах не обнаружено."
   ]
  },
  {
   "cell_type": "code",
   "execution_count": 11,
   "id": "63156004",
   "metadata": {
    "scrolled": true
   },
   "outputs": [
    {
     "name": "stdout",
     "output_type": "stream",
     "text": [
      "31\n",
      "0\n",
      "0\n"
     ]
    }
   ],
   "source": [
    "# Проверим наличие дубликатов в датафреймах.\n",
    "print(users.duplicated().sum())\n",
    "print(rides.duplicated().sum())\n",
    "print(subscriptions.duplicated().sum())"
   ]
  },
  {
   "cell_type": "markdown",
   "id": "09a9d4fb",
   "metadata": {},
   "source": [
    "В датафрейме users обнаружен 31 дупликат. В остальных датафреймах дупликатов нет."
   ]
  },
  {
   "cell_type": "code",
   "execution_count": 12,
   "id": "51406f3a",
   "metadata": {},
   "outputs": [
    {
     "data": {
      "text/plain": [
       "0"
      ]
     },
     "execution_count": 12,
     "metadata": {},
     "output_type": "execute_result"
    }
   ],
   "source": [
    "# Удалим дупликаты в датафрейме о пользователях.\n",
    "users = users.drop_duplicates().reset_index(drop=True)\n",
    "users.duplicated().sum()"
   ]
  },
  {
   "cell_type": "markdown",
   "id": "0d7cbb13",
   "metadata": {},
   "source": [
    "Дупликаты из датафрейма удалены."
   ]
  },
  {
   "cell_type": "markdown",
   "id": "064d5a2d",
   "metadata": {},
   "source": [
    "Таким образом, мы привели столбец с датой к нужному типу данных, проверили датафреймы на наличие пропущенных значений и дубликатов. Пропущенных значений выявлено не было, а выявленные дубликаты мы удалили."
   ]
  },
  {
   "cell_type": "markdown",
   "id": "e6e2e6a9",
   "metadata": {},
   "source": [
    "#### Шаг 3. Исследовательский анализ данных"
   ]
  },
  {
   "cell_type": "markdown",
   "id": "1b6500f5",
   "metadata": {},
   "source": [
    "Опишем и визуализируем общую информацию о частоте встречаемости городов."
   ]
  },
  {
   "cell_type": "code",
   "execution_count": 13,
   "id": "64358f1e",
   "metadata": {},
   "outputs": [
    {
     "data": {
      "text/plain": [
       "city\n",
       "Москва            168\n",
       "Тюмень            180\n",
       "Омск              183\n",
       "Сочи              189\n",
       "Краснодар         193\n",
       "Ростов-на-Дону    198\n",
       "Екатеринбург      204\n",
       "Пятигорск         219\n",
       "dtype: int64"
      ]
     },
     "execution_count": 13,
     "metadata": {},
     "output_type": "execute_result"
    }
   ],
   "source": [
    "data = users.value_counts('city', ascending=True)\n",
    "data"
   ]
  },
  {
   "cell_type": "code",
   "execution_count": 14,
   "id": "9bea043e",
   "metadata": {
    "scrolled": true
   },
   "outputs": [
    {
     "data": {
      "text/plain": [
       "Text(0.5, 0, 'Частота встречаемости городов')"
      ]
     },
     "execution_count": 14,
     "metadata": {},
     "output_type": "execute_result"
    },
    {
     "data": {
      "image/png": "[encoded data removed]",
      "text/plain": [
       "<Figure size 432x288 with 1 Axes>"
      ]
     },
     "metadata": {
      "needs_background": "light"
     },
     "output_type": "display_data"
    }
   ],
   "source": [
    "# Построим столбчатую диаграмму по таблице с частотой встречаемости городов.\n",
    "data.plot(kind='barh')\n",
    "plt.title('Частота встречаемости городов', fontsize=15)\n",
    "plt.ylabel('Город')\n",
    "plt.xlabel('Частота встречаемости городов')"
   ]
  },
  {
   "cell_type": "markdown",
   "id": "ab31f1cb",
   "metadata": {},
   "source": [
    "Таким образом, в исследовании задействованы пользователи из Пятигорска, Екатеринбурга, Ростова-на-Дону, Краснодара, Сочи, Омска, Тюмени и Москвы. При этом, больше всего пользователей из Пятигорска (219 человек), а меньше всего - из Москвы (168 человек). Стоит отметить, что слишком сильного разброса по количеству пользователей из разных городов не наблюдается."
   ]
  },
  {
   "cell_type": "markdown",
   "id": "55c04d14",
   "metadata": {},
   "source": [
    "Опишем и визуализируем общую информацию о соотношении пользователей с подпиской и без подписки."
   ]
  },
  {
   "cell_type": "code",
   "execution_count": 15,
   "id": "b4c64098",
   "metadata": {
    "scrolled": false
   },
   "outputs": [
    {
     "data": {
      "text/plain": [
       "subscription_type\n",
       "free     835\n",
       "ultra    699\n",
       "Name: subscription_type, dtype: int64"
      ]
     },
     "execution_count": 15,
     "metadata": {},
     "output_type": "execute_result"
    }
   ],
   "source": [
    "# Создадим таблицу, сгруппированную по типу подписки, с количеством пользователей с подпиской и без.\n",
    "type_of_s = users.groupby('subscription_type')['subscription_type'].count()\n",
    "type_of_s"
   ]
  },
  {
   "cell_type": "code",
   "execution_count": 16,
   "id": "a141e451",
   "metadata": {
    "scrolled": true
   },
   "outputs": [
    {
     "data": {
      "text/plain": [
       "Text(0.5, 1.0, 'Cоотношение пользователей с подпиской и без подписки')"
      ]
     },
     "execution_count": 16,
     "metadata": {},
     "output_type": "execute_result"
    },
    {
     "data": {
      "image/png": "[encoded data removed]",
      "text/plain": [
       "<Figure size 432x288 with 1 Axes>"
      ]
     },
     "metadata": {},
     "output_type": "display_data"
    }
   ],
   "source": [
    "# Построим круговую диаграмму по таблице с количеством пользователей с подпиской и без.\n",
    "type_of_s.plot(kind='pie', autopct='%1.0f%%', ylabel=' ')\n",
    "plt.title('Cоотношение пользователей с подпиской и без подписки', fontsize=15)"
   ]
  },
  {
   "cell_type": "markdown",
   "id": "1d706e91",
   "metadata": {},
   "source": [
    "Таким образом, пользователей без подписки немного больше, чем пользователей с подпиской на 8 процентов. "
   ]
  },
  {
   "cell_type": "markdown",
   "id": "2c01d3f8",
   "metadata": {},
   "source": [
    "Опишем и визуализируем общую информацию о возрасте пользователей."
   ]
  },
  {
   "cell_type": "code",
   "execution_count": 17,
   "id": "6b3f8860",
   "metadata": {},
   "outputs": [
    {
     "data": {
      "text/plain": [
       "count    1534.000000\n",
       "mean       24.903520\n",
       "std         4.572367\n",
       "min        12.000000\n",
       "25%        22.000000\n",
       "50%        25.000000\n",
       "75%        28.000000\n",
       "max        43.000000\n",
       "Name: age, dtype: float64"
      ]
     },
     "execution_count": 17,
     "metadata": {},
     "output_type": "execute_result"
    }
   ],
   "source": [
    "users['age'].describe()"
   ]
  },
  {
   "cell_type": "code",
   "execution_count": 18,
   "id": "68910928",
   "metadata": {
    "scrolled": true
   },
   "outputs": [
    {
     "data": {
      "text/plain": [
       "Text(0.5, 1.0, 'Возрастной диапазон пользователей')"
      ]
     },
     "execution_count": 18,
     "metadata": {},
     "output_type": "execute_result"
    },
    {
     "data": {
      "image/png": "[encoded data removed]",
      "text/plain": [
       "<Figure size 432x288 with 1 Axes>"
      ]
     },
     "metadata": {
      "needs_background": "light"
     },
     "output_type": "display_data"
    }
   ],
   "source": [
    "# Построим гистограмму по столбцу с возрастом пользователей.\n",
    "ax = users['age'].hist()\n",
    "ax.set_xlabel('Возраст пользователей')\n",
    "ax.set_ylabel('Количество пользователей')\n",
    "ax.set_title('Возрастной диапазон пользователей', fontsize=15)"
   ]
  },
  {
   "cell_type": "markdown",
   "id": "9967fb0a",
   "metadata": {},
   "source": [
    "Таким образом, возраст пользователей находится в диапазоне от 12 до 43 лет. При этом, основная масса пользователей самокатами - это пользователи от 21 до 27 лет. Меньше всего пользователей находятся в возрасте от 12 до 18 лет и от 34 до 43 лет."
   ]
  },
  {
   "cell_type": "markdown",
   "id": "534ab910",
   "metadata": {},
   "source": [
    "Опишем и визуализируем общую информацию о расстоянии, которое пользователь преодолел за одну поездку."
   ]
  },
  {
   "cell_type": "code",
   "execution_count": 19,
   "id": "c6607630",
   "metadata": {},
   "outputs": [
    {
     "name": "stdout",
     "output_type": "stream",
     "text": [
      "0.855682925681208\n"
     ]
    },
    {
     "data": {
      "text/plain": [
       "7211.007744598519"
      ]
     },
     "execution_count": 19,
     "metadata": {},
     "output_type": "execute_result"
    }
   ],
   "source": [
    "# Посмотрим на минимальное и максимальное расстояния, которое пользователи преодолевают за одну поездку.\n",
    "print(rides['distance'].min())\n",
    "rides['distance'].max()"
   ]
  },
  {
   "cell_type": "code",
   "execution_count": 20,
   "id": "a1f6ef3d",
   "metadata": {
    "scrolled": true
   },
   "outputs": [
    {
     "data": {
      "text/plain": [
       "Text(0.5, 1.0, 'Расстояние, которое пользователь преодолел за одну поездку')"
      ]
     },
     "execution_count": 20,
     "metadata": {},
     "output_type": "execute_result"
    },
    {
     "data": {
      "image/png": "[encoded data removed]",
      "text/plain": [
       "<Figure size 432x288 with 1 Axes>"
      ]
     },
     "metadata": {
      "needs_background": "light"
     },
     "output_type": "display_data"
    }
   ],
   "source": [
    "# Построим гистограмму по столбцу с расстоянием, которое пользователи преодолевают за одну поездку.\n",
    "at = rides['distance'].hist(bins=30)\n",
    "at.set_xlabel('Расстояние в метрах')\n",
    "at.set_ylabel('Частота встречаемости')\n",
    "at.set_title('Расстояние, которое пользователь преодолел за одну поездку', fontsize=15)"
   ]
  },
  {
   "cell_type": "markdown",
   "id": "b0d81363",
   "metadata": {},
   "source": [
    "Таким образом, расстояние, которое пользователи преодолевают за одну поездку, находится в диапазоне приблизительно от 0 до 7200 метров. При этом, наибольшее число пользователей преодолевают расстояние примерно от 2600 до 3600 метров."
   ]
  },
  {
   "cell_type": "markdown",
   "id": "0692f001",
   "metadata": {},
   "source": [
    "Опишем и визуализируем общую информацию о продолжительности одной поездки."
   ]
  },
  {
   "cell_type": "code",
   "execution_count": 21,
   "id": "ffe24383",
   "metadata": {},
   "outputs": [
    {
     "name": "stdout",
     "output_type": "stream",
     "text": [
      "0.5\n"
     ]
    },
    {
     "data": {
      "text/plain": [
       "40.82396261922424"
      ]
     },
     "execution_count": 21,
     "metadata": {},
     "output_type": "execute_result"
    }
   ],
   "source": [
    "# Посмотрим, в каких границах находится продолжительность одной поездки.\n",
    "print(rides['duration'].min())\n",
    "rides['duration'].max()"
   ]
  },
  {
   "cell_type": "code",
   "execution_count": 22,
   "id": "7ec715b3",
   "metadata": {
    "scrolled": true
   },
   "outputs": [
    {
     "data": {
      "text/plain": [
       "Text(0.5, 1.0, 'Продолжительность поездок')"
      ]
     },
     "execution_count": 22,
     "metadata": {},
     "output_type": "execute_result"
    },
    {
     "data": {
      "image/png": "[encoded data removed]",
      "text/plain": [
       "<Figure size 432x288 with 1 Axes>"
      ]
     },
     "metadata": {
      "needs_background": "light"
     },
     "output_type": "display_data"
    }
   ],
   "source": [
    "# Построим гистограмму по столбцу с продолжительностью одной поездки.\n",
    "an = rides['duration'].hist(bins=30)\n",
    "an.set_xlabel('Продолжительность одной поездки в минутах')\n",
    "an.set_ylabel('Частота встречаемости')\n",
    "an.set_title('Продолжительность поездок', fontsize=15)"
   ]
  },
  {
   "cell_type": "markdown",
   "id": "8dea26d1",
   "metadata": {},
   "source": [
    "Таким образом, продолжительность одной поездки варьируется в диапазоне приблизительно от 1 до 41 минуты. При этом большинство поездок продолжаются примерно от 14 до 21 минуты."
   ]
  },
  {
   "cell_type": "markdown",
   "id": "8f526c52",
   "metadata": {},
   "source": [
    "#### Шаг 4. Объединение данных"
   ]
  },
  {
   "cell_type": "code",
   "execution_count": 23,
   "id": "4897f6eb",
   "metadata": {
    "scrolled": true
   },
   "outputs": [
    {
     "data": {
      "text/html": [
       "<div>\n",
       "<style scoped>\n",
       "    .dataframe tbody tr th:only-of-type {\n",
       "        vertical-align: middle;\n",
       "    }\n",
       "\n",
       "    .dataframe tbody tr th {\n",
       "        vertical-align: top;\n",
       "    }\n",
       "\n",
       "    .dataframe thead th {\n",
       "        text-align: right;\n",
       "    }\n",
       "</style>\n",
       "<table border=\"1\" class=\"dataframe\">\n",
       "  <thead>\n",
       "    <tr style=\"text-align: right;\">\n",
       "      <th></th>\n",
       "      <th>user_id</th>\n",
       "      <th>distance</th>\n",
       "      <th>duration</th>\n",
       "      <th>date</th>\n",
       "      <th>month</th>\n",
       "      <th>name</th>\n",
       "      <th>age</th>\n",
       "      <th>city</th>\n",
       "      <th>subscription_type</th>\n",
       "      <th>minute_price</th>\n",
       "      <th>start_ride_price</th>\n",
       "      <th>subscription_fee</th>\n",
       "    </tr>\n",
       "  </thead>\n",
       "  <tbody>\n",
       "    <tr>\n",
       "      <th>0</th>\n",
       "      <td>1</td>\n",
       "      <td>4409.919140</td>\n",
       "      <td>25.599769</td>\n",
       "      <td>2021-01-01</td>\n",
       "      <td>1</td>\n",
       "      <td>Кира</td>\n",
       "      <td>22</td>\n",
       "      <td>Тюмень</td>\n",
       "      <td>ultra</td>\n",
       "      <td>6</td>\n",
       "      <td>0</td>\n",
       "      <td>199</td>\n",
       "    </tr>\n",
       "    <tr>\n",
       "      <th>1</th>\n",
       "      <td>1</td>\n",
       "      <td>2617.592153</td>\n",
       "      <td>15.816871</td>\n",
       "      <td>2021-01-18</td>\n",
       "      <td>1</td>\n",
       "      <td>Кира</td>\n",
       "      <td>22</td>\n",
       "      <td>Тюмень</td>\n",
       "      <td>ultra</td>\n",
       "      <td>6</td>\n",
       "      <td>0</td>\n",
       "      <td>199</td>\n",
       "    </tr>\n",
       "    <tr>\n",
       "      <th>2</th>\n",
       "      <td>1</td>\n",
       "      <td>754.159807</td>\n",
       "      <td>6.232113</td>\n",
       "      <td>2021-04-20</td>\n",
       "      <td>4</td>\n",
       "      <td>Кира</td>\n",
       "      <td>22</td>\n",
       "      <td>Тюмень</td>\n",
       "      <td>ultra</td>\n",
       "      <td>6</td>\n",
       "      <td>0</td>\n",
       "      <td>199</td>\n",
       "    </tr>\n",
       "    <tr>\n",
       "      <th>3</th>\n",
       "      <td>1</td>\n",
       "      <td>2694.783254</td>\n",
       "      <td>18.511000</td>\n",
       "      <td>2021-08-11</td>\n",
       "      <td>8</td>\n",
       "      <td>Кира</td>\n",
       "      <td>22</td>\n",
       "      <td>Тюмень</td>\n",
       "      <td>ultra</td>\n",
       "      <td>6</td>\n",
       "      <td>0</td>\n",
       "      <td>199</td>\n",
       "    </tr>\n",
       "    <tr>\n",
       "      <th>4</th>\n",
       "      <td>1</td>\n",
       "      <td>4028.687306</td>\n",
       "      <td>26.265803</td>\n",
       "      <td>2021-08-28</td>\n",
       "      <td>8</td>\n",
       "      <td>Кира</td>\n",
       "      <td>22</td>\n",
       "      <td>Тюмень</td>\n",
       "      <td>ultra</td>\n",
       "      <td>6</td>\n",
       "      <td>0</td>\n",
       "      <td>199</td>\n",
       "    </tr>\n",
       "    <tr>\n",
       "      <th>5</th>\n",
       "      <td>1</td>\n",
       "      <td>2770.890808</td>\n",
       "      <td>16.650138</td>\n",
       "      <td>2021-10-09</td>\n",
       "      <td>10</td>\n",
       "      <td>Кира</td>\n",
       "      <td>22</td>\n",
       "      <td>Тюмень</td>\n",
       "      <td>ultra</td>\n",
       "      <td>6</td>\n",
       "      <td>0</td>\n",
       "      <td>199</td>\n",
       "    </tr>\n",
       "    <tr>\n",
       "      <th>6</th>\n",
       "      <td>1</td>\n",
       "      <td>3039.020292</td>\n",
       "      <td>14.927879</td>\n",
       "      <td>2021-10-19</td>\n",
       "      <td>10</td>\n",
       "      <td>Кира</td>\n",
       "      <td>22</td>\n",
       "      <td>Тюмень</td>\n",
       "      <td>ultra</td>\n",
       "      <td>6</td>\n",
       "      <td>0</td>\n",
       "      <td>199</td>\n",
       "    </tr>\n",
       "    <tr>\n",
       "      <th>7</th>\n",
       "      <td>1</td>\n",
       "      <td>2842.118050</td>\n",
       "      <td>23.117468</td>\n",
       "      <td>2021-11-06</td>\n",
       "      <td>11</td>\n",
       "      <td>Кира</td>\n",
       "      <td>22</td>\n",
       "      <td>Тюмень</td>\n",
       "      <td>ultra</td>\n",
       "      <td>6</td>\n",
       "      <td>0</td>\n",
       "      <td>199</td>\n",
       "    </tr>\n",
       "    <tr>\n",
       "      <th>8</th>\n",
       "      <td>1</td>\n",
       "      <td>3412.690668</td>\n",
       "      <td>15.238072</td>\n",
       "      <td>2021-11-14</td>\n",
       "      <td>11</td>\n",
       "      <td>Кира</td>\n",
       "      <td>22</td>\n",
       "      <td>Тюмень</td>\n",
       "      <td>ultra</td>\n",
       "      <td>6</td>\n",
       "      <td>0</td>\n",
       "      <td>199</td>\n",
       "    </tr>\n",
       "    <tr>\n",
       "      <th>9</th>\n",
       "      <td>1</td>\n",
       "      <td>748.690645</td>\n",
       "      <td>15.041884</td>\n",
       "      <td>2021-11-22</td>\n",
       "      <td>11</td>\n",
       "      <td>Кира</td>\n",
       "      <td>22</td>\n",
       "      <td>Тюмень</td>\n",
       "      <td>ultra</td>\n",
       "      <td>6</td>\n",
       "      <td>0</td>\n",
       "      <td>199</td>\n",
       "    </tr>\n",
       "  </tbody>\n",
       "</table>\n",
       "</div>"
      ],
      "text/plain": [
       "   user_id     distance   duration       date  month  name  age    city  \\\n",
       "0        1  4409.919140  25.599769 2021-01-01      1  Кира   22  Тюмень   \n",
       "1        1  2617.592153  15.816871 2021-01-18      1  Кира   22  Тюмень   \n",
       "2        1   754.159807   6.232113 2021-04-20      4  Кира   22  Тюмень   \n",
       "3        1  2694.783254  18.511000 2021-08-11      8  Кира   22  Тюмень   \n",
       "4        1  4028.687306  26.265803 2021-08-28      8  Кира   22  Тюмень   \n",
       "5        1  2770.890808  16.650138 2021-10-09     10  Кира   22  Тюмень   \n",
       "6        1  3039.020292  14.927879 2021-10-19     10  Кира   22  Тюмень   \n",
       "7        1  2842.118050  23.117468 2021-11-06     11  Кира   22  Тюмень   \n",
       "8        1  3412.690668  15.238072 2021-11-14     11  Кира   22  Тюмень   \n",
       "9        1   748.690645  15.041884 2021-11-22     11  Кира   22  Тюмень   \n",
       "\n",
       "  subscription_type  minute_price  start_ride_price  subscription_fee  \n",
       "0             ultra             6                 0               199  \n",
       "1             ultra             6                 0               199  \n",
       "2             ultra             6                 0               199  \n",
       "3             ultra             6                 0               199  \n",
       "4             ultra             6                 0               199  \n",
       "5             ultra             6                 0               199  \n",
       "6             ultra             6                 0               199  \n",
       "7             ultra             6                 0               199  \n",
       "8             ultra             6                 0               199  \n",
       "9             ultra             6                 0               199  "
      ]
     },
     "execution_count": 23,
     "metadata": {},
     "output_type": "execute_result"
    }
   ],
   "source": [
    "# Объединим данные о пользователях, поездках и подписках в один датафрейм.\n",
    "df = rides.merge(right=users, on='user_id', how='left')\n",
    "dt = df.merge(right=subscriptions, on='subscription_type', how='left')\n",
    "dt.head(10)"
   ]
  },
  {
   "cell_type": "code",
   "execution_count": 24,
   "id": "730dd08d",
   "metadata": {},
   "outputs": [
    {
     "data": {
      "text/plain": [
       "(18068, 12)"
      ]
     },
     "execution_count": 24,
     "metadata": {},
     "output_type": "execute_result"
    }
   ],
   "source": [
    "dt.shape"
   ]
  },
  {
   "cell_type": "code",
   "execution_count": 25,
   "id": "9b52b1cf",
   "metadata": {},
   "outputs": [
    {
     "data": {
      "text/plain": [
       "user_id              0\n",
       "distance             0\n",
       "duration             0\n",
       "date                 0\n",
       "month                0\n",
       "name                 0\n",
       "age                  0\n",
       "city                 0\n",
       "subscription_type    0\n",
       "minute_price         0\n",
       "start_ride_price     0\n",
       "subscription_fee     0\n",
       "dtype: int64"
      ]
     },
     "execution_count": 25,
     "metadata": {},
     "output_type": "execute_result"
    }
   ],
   "source": [
    "dt.isna().sum()"
   ]
  },
  {
   "cell_type": "markdown",
   "id": "7b00300e",
   "metadata": {},
   "source": [
    "Количество строк и столбцов верное. Пропусков не обнаружено."
   ]
  },
  {
   "cell_type": "code",
   "execution_count": 26,
   "id": "82ef1e03",
   "metadata": {},
   "outputs": [
    {
     "data": {
      "text/html": [
       "<div>\n",
       "<style scoped>\n",
       "    .dataframe tbody tr th:only-of-type {\n",
       "        vertical-align: middle;\n",
       "    }\n",
       "\n",
       "    .dataframe tbody tr th {\n",
       "        vertical-align: top;\n",
       "    }\n",
       "\n",
       "    .dataframe thead th {\n",
       "        text-align: right;\n",
       "    }\n",
       "</style>\n",
       "<table border=\"1\" class=\"dataframe\">\n",
       "  <thead>\n",
       "    <tr style=\"text-align: right;\">\n",
       "      <th></th>\n",
       "      <th>user_id</th>\n",
       "      <th>distance</th>\n",
       "      <th>duration</th>\n",
       "      <th>date</th>\n",
       "      <th>month</th>\n",
       "      <th>name</th>\n",
       "      <th>age</th>\n",
       "      <th>city</th>\n",
       "      <th>subscription_type</th>\n",
       "      <th>minute_price</th>\n",
       "      <th>start_ride_price</th>\n",
       "      <th>subscription_fee</th>\n",
       "    </tr>\n",
       "  </thead>\n",
       "  <tbody>\n",
       "    <tr>\n",
       "      <th>6500</th>\n",
       "      <td>700</td>\n",
       "      <td>2515.690719</td>\n",
       "      <td>14.944286</td>\n",
       "      <td>2021-01-02</td>\n",
       "      <td>1</td>\n",
       "      <td>Айдар</td>\n",
       "      <td>22</td>\n",
       "      <td>Омск</td>\n",
       "      <td>free</td>\n",
       "      <td>8</td>\n",
       "      <td>50</td>\n",
       "      <td>0</td>\n",
       "    </tr>\n",
       "    <tr>\n",
       "      <th>6501</th>\n",
       "      <td>700</td>\n",
       "      <td>846.932642</td>\n",
       "      <td>16.234663</td>\n",
       "      <td>2021-02-01</td>\n",
       "      <td>2</td>\n",
       "      <td>Айдар</td>\n",
       "      <td>22</td>\n",
       "      <td>Омск</td>\n",
       "      <td>free</td>\n",
       "      <td>8</td>\n",
       "      <td>50</td>\n",
       "      <td>0</td>\n",
       "    </tr>\n",
       "    <tr>\n",
       "      <th>6502</th>\n",
       "      <td>700</td>\n",
       "      <td>4004.434142</td>\n",
       "      <td>20.016628</td>\n",
       "      <td>2021-02-04</td>\n",
       "      <td>2</td>\n",
       "      <td>Айдар</td>\n",
       "      <td>22</td>\n",
       "      <td>Омск</td>\n",
       "      <td>free</td>\n",
       "      <td>8</td>\n",
       "      <td>50</td>\n",
       "      <td>0</td>\n",
       "    </tr>\n",
       "    <tr>\n",
       "      <th>6503</th>\n",
       "      <td>700</td>\n",
       "      <td>1205.911290</td>\n",
       "      <td>9.782872</td>\n",
       "      <td>2021-02-10</td>\n",
       "      <td>2</td>\n",
       "      <td>Айдар</td>\n",
       "      <td>22</td>\n",
       "      <td>Омск</td>\n",
       "      <td>free</td>\n",
       "      <td>8</td>\n",
       "      <td>50</td>\n",
       "      <td>0</td>\n",
       "    </tr>\n",
       "    <tr>\n",
       "      <th>6504</th>\n",
       "      <td>700</td>\n",
       "      <td>3047.379435</td>\n",
       "      <td>17.427673</td>\n",
       "      <td>2021-02-14</td>\n",
       "      <td>2</td>\n",
       "      <td>Айдар</td>\n",
       "      <td>22</td>\n",
       "      <td>Омск</td>\n",
       "      <td>free</td>\n",
       "      <td>8</td>\n",
       "      <td>50</td>\n",
       "      <td>0</td>\n",
       "    </tr>\n",
       "    <tr>\n",
       "      <th>...</th>\n",
       "      <td>...</td>\n",
       "      <td>...</td>\n",
       "      <td>...</td>\n",
       "      <td>...</td>\n",
       "      <td>...</td>\n",
       "      <td>...</td>\n",
       "      <td>...</td>\n",
       "      <td>...</td>\n",
       "      <td>...</td>\n",
       "      <td>...</td>\n",
       "      <td>...</td>\n",
       "      <td>...</td>\n",
       "    </tr>\n",
       "    <tr>\n",
       "      <th>18063</th>\n",
       "      <td>1534</td>\n",
       "      <td>3781.098080</td>\n",
       "      <td>19.822962</td>\n",
       "      <td>2021-11-04</td>\n",
       "      <td>11</td>\n",
       "      <td>Альберт</td>\n",
       "      <td>25</td>\n",
       "      <td>Краснодар</td>\n",
       "      <td>free</td>\n",
       "      <td>8</td>\n",
       "      <td>50</td>\n",
       "      <td>0</td>\n",
       "    </tr>\n",
       "    <tr>\n",
       "      <th>18064</th>\n",
       "      <td>1534</td>\n",
       "      <td>2840.423057</td>\n",
       "      <td>21.409799</td>\n",
       "      <td>2021-11-16</td>\n",
       "      <td>11</td>\n",
       "      <td>Альберт</td>\n",
       "      <td>25</td>\n",
       "      <td>Краснодар</td>\n",
       "      <td>free</td>\n",
       "      <td>8</td>\n",
       "      <td>50</td>\n",
       "      <td>0</td>\n",
       "    </tr>\n",
       "    <tr>\n",
       "      <th>18065</th>\n",
       "      <td>1534</td>\n",
       "      <td>3826.185507</td>\n",
       "      <td>18.435051</td>\n",
       "      <td>2021-11-18</td>\n",
       "      <td>11</td>\n",
       "      <td>Альберт</td>\n",
       "      <td>25</td>\n",
       "      <td>Краснодар</td>\n",
       "      <td>free</td>\n",
       "      <td>8</td>\n",
       "      <td>50</td>\n",
       "      <td>0</td>\n",
       "    </tr>\n",
       "    <tr>\n",
       "      <th>18066</th>\n",
       "      <td>1534</td>\n",
       "      <td>2902.308661</td>\n",
       "      <td>16.674362</td>\n",
       "      <td>2021-11-27</td>\n",
       "      <td>11</td>\n",
       "      <td>Альберт</td>\n",
       "      <td>25</td>\n",
       "      <td>Краснодар</td>\n",
       "      <td>free</td>\n",
       "      <td>8</td>\n",
       "      <td>50</td>\n",
       "      <td>0</td>\n",
       "    </tr>\n",
       "    <tr>\n",
       "      <th>18067</th>\n",
       "      <td>1534</td>\n",
       "      <td>2371.711192</td>\n",
       "      <td>15.893917</td>\n",
       "      <td>2021-12-29</td>\n",
       "      <td>12</td>\n",
       "      <td>Альберт</td>\n",
       "      <td>25</td>\n",
       "      <td>Краснодар</td>\n",
       "      <td>free</td>\n",
       "      <td>8</td>\n",
       "      <td>50</td>\n",
       "      <td>0</td>\n",
       "    </tr>\n",
       "  </tbody>\n",
       "</table>\n",
       "<p>11568 rows × 12 columns</p>\n",
       "</div>"
      ],
      "text/plain": [
       "       user_id     distance   duration       date  month     name  age  \\\n",
       "6500       700  2515.690719  14.944286 2021-01-02      1    Айдар   22   \n",
       "6501       700   846.932642  16.234663 2021-02-01      2    Айдар   22   \n",
       "6502       700  4004.434142  20.016628 2021-02-04      2    Айдар   22   \n",
       "6503       700  1205.911290   9.782872 2021-02-10      2    Айдар   22   \n",
       "6504       700  3047.379435  17.427673 2021-02-14      2    Айдар   22   \n",
       "...        ...          ...        ...        ...    ...      ...  ...   \n",
       "18063     1534  3781.098080  19.822962 2021-11-04     11  Альберт   25   \n",
       "18064     1534  2840.423057  21.409799 2021-11-16     11  Альберт   25   \n",
       "18065     1534  3826.185507  18.435051 2021-11-18     11  Альберт   25   \n",
       "18066     1534  2902.308661  16.674362 2021-11-27     11  Альберт   25   \n",
       "18067     1534  2371.711192  15.893917 2021-12-29     12  Альберт   25   \n",
       "\n",
       "            city subscription_type  minute_price  start_ride_price  \\\n",
       "6500        Омск              free             8                50   \n",
       "6501        Омск              free             8                50   \n",
       "6502        Омск              free             8                50   \n",
       "6503        Омск              free             8                50   \n",
       "6504        Омск              free             8                50   \n",
       "...          ...               ...           ...               ...   \n",
       "18063  Краснодар              free             8                50   \n",
       "18064  Краснодар              free             8                50   \n",
       "18065  Краснодар              free             8                50   \n",
       "18066  Краснодар              free             8                50   \n",
       "18067  Краснодар              free             8                50   \n",
       "\n",
       "       subscription_fee  \n",
       "6500                  0  \n",
       "6501                  0  \n",
       "6502                  0  \n",
       "6503                  0  \n",
       "6504                  0  \n",
       "...                 ...  \n",
       "18063                 0  \n",
       "18064                 0  \n",
       "18065                 0  \n",
       "18066                 0  \n",
       "18067                 0  \n",
       "\n",
       "[11568 rows x 12 columns]"
      ]
     },
     "execution_count": 26,
     "metadata": {},
     "output_type": "execute_result"
    }
   ],
   "source": [
    "# Создадим датафрейм о пользователях без подписки.\n",
    "without_s = dt.query('subscription_type == \"free\"')\n",
    "without_s"
   ]
  },
  {
   "cell_type": "code",
   "execution_count": 27,
   "id": "8a4f9672",
   "metadata": {
    "scrolled": true
   },
   "outputs": [
    {
     "data": {
      "text/html": [
       "<div>\n",
       "<style scoped>\n",
       "    .dataframe tbody tr th:only-of-type {\n",
       "        vertical-align: middle;\n",
       "    }\n",
       "\n",
       "    .dataframe tbody tr th {\n",
       "        vertical-align: top;\n",
       "    }\n",
       "\n",
       "    .dataframe thead th {\n",
       "        text-align: right;\n",
       "    }\n",
       "</style>\n",
       "<table border=\"1\" class=\"dataframe\">\n",
       "  <thead>\n",
       "    <tr style=\"text-align: right;\">\n",
       "      <th></th>\n",
       "      <th>user_id</th>\n",
       "      <th>distance</th>\n",
       "      <th>duration</th>\n",
       "      <th>date</th>\n",
       "      <th>month</th>\n",
       "      <th>name</th>\n",
       "      <th>age</th>\n",
       "      <th>city</th>\n",
       "      <th>subscription_type</th>\n",
       "      <th>minute_price</th>\n",
       "      <th>start_ride_price</th>\n",
       "      <th>subscription_fee</th>\n",
       "    </tr>\n",
       "  </thead>\n",
       "  <tbody>\n",
       "    <tr>\n",
       "      <th>0</th>\n",
       "      <td>1</td>\n",
       "      <td>4409.919140</td>\n",
       "      <td>25.599769</td>\n",
       "      <td>2021-01-01</td>\n",
       "      <td>1</td>\n",
       "      <td>Кира</td>\n",
       "      <td>22</td>\n",
       "      <td>Тюмень</td>\n",
       "      <td>ultra</td>\n",
       "      <td>6</td>\n",
       "      <td>0</td>\n",
       "      <td>199</td>\n",
       "    </tr>\n",
       "    <tr>\n",
       "      <th>1</th>\n",
       "      <td>1</td>\n",
       "      <td>2617.592153</td>\n",
       "      <td>15.816871</td>\n",
       "      <td>2021-01-18</td>\n",
       "      <td>1</td>\n",
       "      <td>Кира</td>\n",
       "      <td>22</td>\n",
       "      <td>Тюмень</td>\n",
       "      <td>ultra</td>\n",
       "      <td>6</td>\n",
       "      <td>0</td>\n",
       "      <td>199</td>\n",
       "    </tr>\n",
       "    <tr>\n",
       "      <th>2</th>\n",
       "      <td>1</td>\n",
       "      <td>754.159807</td>\n",
       "      <td>6.232113</td>\n",
       "      <td>2021-04-20</td>\n",
       "      <td>4</td>\n",
       "      <td>Кира</td>\n",
       "      <td>22</td>\n",
       "      <td>Тюмень</td>\n",
       "      <td>ultra</td>\n",
       "      <td>6</td>\n",
       "      <td>0</td>\n",
       "      <td>199</td>\n",
       "    </tr>\n",
       "    <tr>\n",
       "      <th>3</th>\n",
       "      <td>1</td>\n",
       "      <td>2694.783254</td>\n",
       "      <td>18.511000</td>\n",
       "      <td>2021-08-11</td>\n",
       "      <td>8</td>\n",
       "      <td>Кира</td>\n",
       "      <td>22</td>\n",
       "      <td>Тюмень</td>\n",
       "      <td>ultra</td>\n",
       "      <td>6</td>\n",
       "      <td>0</td>\n",
       "      <td>199</td>\n",
       "    </tr>\n",
       "    <tr>\n",
       "      <th>4</th>\n",
       "      <td>1</td>\n",
       "      <td>4028.687306</td>\n",
       "      <td>26.265803</td>\n",
       "      <td>2021-08-28</td>\n",
       "      <td>8</td>\n",
       "      <td>Кира</td>\n",
       "      <td>22</td>\n",
       "      <td>Тюмень</td>\n",
       "      <td>ultra</td>\n",
       "      <td>6</td>\n",
       "      <td>0</td>\n",
       "      <td>199</td>\n",
       "    </tr>\n",
       "    <tr>\n",
       "      <th>...</th>\n",
       "      <td>...</td>\n",
       "      <td>...</td>\n",
       "      <td>...</td>\n",
       "      <td>...</td>\n",
       "      <td>...</td>\n",
       "      <td>...</td>\n",
       "      <td>...</td>\n",
       "      <td>...</td>\n",
       "      <td>...</td>\n",
       "      <td>...</td>\n",
       "      <td>...</td>\n",
       "      <td>...</td>\n",
       "    </tr>\n",
       "    <tr>\n",
       "      <th>6495</th>\n",
       "      <td>699</td>\n",
       "      <td>3973.046497</td>\n",
       "      <td>24.671163</td>\n",
       "      <td>2021-08-29</td>\n",
       "      <td>8</td>\n",
       "      <td>Оксана</td>\n",
       "      <td>22</td>\n",
       "      <td>Москва</td>\n",
       "      <td>ultra</td>\n",
       "      <td>6</td>\n",
       "      <td>0</td>\n",
       "      <td>199</td>\n",
       "    </tr>\n",
       "    <tr>\n",
       "      <th>6496</th>\n",
       "      <td>699</td>\n",
       "      <td>3288.702563</td>\n",
       "      <td>15.892886</td>\n",
       "      <td>2021-09-12</td>\n",
       "      <td>9</td>\n",
       "      <td>Оксана</td>\n",
       "      <td>22</td>\n",
       "      <td>Москва</td>\n",
       "      <td>ultra</td>\n",
       "      <td>6</td>\n",
       "      <td>0</td>\n",
       "      <td>199</td>\n",
       "    </tr>\n",
       "    <tr>\n",
       "      <th>6497</th>\n",
       "      <td>699</td>\n",
       "      <td>3076.159348</td>\n",
       "      <td>14.389525</td>\n",
       "      <td>2021-09-26</td>\n",
       "      <td>9</td>\n",
       "      <td>Оксана</td>\n",
       "      <td>22</td>\n",
       "      <td>Москва</td>\n",
       "      <td>ultra</td>\n",
       "      <td>6</td>\n",
       "      <td>0</td>\n",
       "      <td>199</td>\n",
       "    </tr>\n",
       "    <tr>\n",
       "      <th>6498</th>\n",
       "      <td>699</td>\n",
       "      <td>4707.845501</td>\n",
       "      <td>15.839579</td>\n",
       "      <td>2021-10-17</td>\n",
       "      <td>10</td>\n",
       "      <td>Оксана</td>\n",
       "      <td>22</td>\n",
       "      <td>Москва</td>\n",
       "      <td>ultra</td>\n",
       "      <td>6</td>\n",
       "      <td>0</td>\n",
       "      <td>199</td>\n",
       "    </tr>\n",
       "    <tr>\n",
       "      <th>6499</th>\n",
       "      <td>699</td>\n",
       "      <td>3202.890770</td>\n",
       "      <td>25.217345</td>\n",
       "      <td>2021-12-03</td>\n",
       "      <td>12</td>\n",
       "      <td>Оксана</td>\n",
       "      <td>22</td>\n",
       "      <td>Москва</td>\n",
       "      <td>ultra</td>\n",
       "      <td>6</td>\n",
       "      <td>0</td>\n",
       "      <td>199</td>\n",
       "    </tr>\n",
       "  </tbody>\n",
       "</table>\n",
       "<p>6500 rows × 12 columns</p>\n",
       "</div>"
      ],
      "text/plain": [
       "      user_id     distance   duration       date  month    name  age    city  \\\n",
       "0           1  4409.919140  25.599769 2021-01-01      1    Кира   22  Тюмень   \n",
       "1           1  2617.592153  15.816871 2021-01-18      1    Кира   22  Тюмень   \n",
       "2           1   754.159807   6.232113 2021-04-20      4    Кира   22  Тюмень   \n",
       "3           1  2694.783254  18.511000 2021-08-11      8    Кира   22  Тюмень   \n",
       "4           1  4028.687306  26.265803 2021-08-28      8    Кира   22  Тюмень   \n",
       "...       ...          ...        ...        ...    ...     ...  ...     ...   \n",
       "6495      699  3973.046497  24.671163 2021-08-29      8  Оксана   22  Москва   \n",
       "6496      699  3288.702563  15.892886 2021-09-12      9  Оксана   22  Москва   \n",
       "6497      699  3076.159348  14.389525 2021-09-26      9  Оксана   22  Москва   \n",
       "6498      699  4707.845501  15.839579 2021-10-17     10  Оксана   22  Москва   \n",
       "6499      699  3202.890770  25.217345 2021-12-03     12  Оксана   22  Москва   \n",
       "\n",
       "     subscription_type  minute_price  start_ride_price  subscription_fee  \n",
       "0                ultra             6                 0               199  \n",
       "1                ultra             6                 0               199  \n",
       "2                ultra             6                 0               199  \n",
       "3                ultra             6                 0               199  \n",
       "4                ultra             6                 0               199  \n",
       "...                ...           ...               ...               ...  \n",
       "6495             ultra             6                 0               199  \n",
       "6496             ultra             6                 0               199  \n",
       "6497             ultra             6                 0               199  \n",
       "6498             ultra             6                 0               199  \n",
       "6499             ultra             6                 0               199  \n",
       "\n",
       "[6500 rows x 12 columns]"
      ]
     },
     "execution_count": 27,
     "metadata": {},
     "output_type": "execute_result"
    }
   ],
   "source": [
    "# Создадим датафрейм о пользователях с подпиской.\n",
    "with_s = dt.query('subscription_type == \"ultra\"')\n",
    "with_s"
   ]
  },
  {
   "cell_type": "markdown",
   "id": "7d8e7dda",
   "metadata": {},
   "source": [
    "Визуализируем информацию о расстоянии и времени поездок для пользователей обеих категорий."
   ]
  },
  {
   "cell_type": "code",
   "execution_count": 28,
   "id": "d79456a2",
   "metadata": {},
   "outputs": [
    {
     "data": {
      "text/plain": [
       "Text(0.5, 1.0, 'Расстояние поездок пользователей без подписки')"
      ]
     },
     "execution_count": 28,
     "metadata": {},
     "output_type": "execute_result"
    },
    {
     "data": {
      "image/png": "[encoded data removed]",
      "text/plain": [
       "<Figure size 432x288 with 1 Axes>"
      ]
     },
     "metadata": {
      "needs_background": "light"
     },
     "output_type": "display_data"
    }
   ],
   "source": [
    "# Построим гистограмму по столбцу с расстоянием для пользователей без подписки.\n",
    "at = without_s['distance'].hist(bins=30)\n",
    "at.set_xlabel('Расстояние в метрах')\n",
    "at.set_ylabel('Частота встречаемости')\n",
    "at.set_title('Расстояние поездок пользователей без подписки', fontsize=15)"
   ]
  },
  {
   "cell_type": "markdown",
   "id": "59177ff4",
   "metadata": {},
   "source": [
    "Большинство пользователей без подписки преодолевают расстояние от 2400 до 3800 метров. Меньше всего - от 5200 до 7200."
   ]
  },
  {
   "cell_type": "code",
   "execution_count": 29,
   "id": "86b691b1",
   "metadata": {
    "scrolled": true
   },
   "outputs": [
    {
     "data": {
      "text/plain": [
       "Text(0.5, 1.0, 'Время поездок пользователей без подписки')"
      ]
     },
     "execution_count": 29,
     "metadata": {},
     "output_type": "execute_result"
    },
    {
     "data": {
      "image/png": "[encoded data removed]",
      "text/plain": [
       "<Figure size 432x288 with 1 Axes>"
      ]
     },
     "metadata": {
      "needs_background": "light"
     },
     "output_type": "display_data"
    }
   ],
   "source": [
    "# Построим гистограмму по столбцу со временем поездок для пользователей без подписки.\n",
    "at = without_s['duration'].hist(bins=15)\n",
    "at.set_xlabel('Время поездки в минутах')\n",
    "at.set_ylabel('Частота встречаемости')\n",
    "at.set_title('Время поездок пользователей без подписки', fontsize=15)"
   ]
  },
  {
   "cell_type": "markdown",
   "id": "98f1b707",
   "metadata": {},
   "source": [
    "Большинство пользователей без подписки тратят на поездку примерно 17-19 минут. Меньше всего тратят от 1 до 6 минут и от 27 до 35 минут."
   ]
  },
  {
   "cell_type": "code",
   "execution_count": 30,
   "id": "662fabe3",
   "metadata": {},
   "outputs": [
    {
     "data": {
      "text/plain": [
       "Text(0.5, 1.0, 'Расстояние поездок пользователей с подпиской')"
      ]
     },
     "execution_count": 30,
     "metadata": {},
     "output_type": "execute_result"
    },
    {
     "data": {
      "image/png": "[encoded data removed]",
      "text/plain": [
       "<Figure size 432x288 with 1 Axes>"
      ]
     },
     "metadata": {
      "needs_background": "light"
     },
     "output_type": "display_data"
    }
   ],
   "source": [
    "# Построим гистограмму по столбцу с расстоянием для пользователей с подпиской.\n",
    "at = with_s['distance'].hist(bins=30)\n",
    "at.set_xlabel('Расстояние в метрах')\n",
    "at.set_ylabel('Частота встречаемости')\n",
    "at.set_title('Расстояние поездок пользователей с подпиской', fontsize=15)"
   ]
  },
  {
   "cell_type": "markdown",
   "id": "6e681ca6",
   "metadata": {},
   "source": [
    "Большинство пользователей с подпиской преодолевают расстояние от 2800 до 3400 метров."
   ]
  },
  {
   "cell_type": "code",
   "execution_count": 31,
   "id": "b884257c",
   "metadata": {},
   "outputs": [
    {
     "data": {
      "text/plain": [
       "Text(0.5, 1.0, 'Время поездок пользователей с подпиской')"
      ]
     },
     "execution_count": 31,
     "metadata": {},
     "output_type": "execute_result"
    },
    {
     "data": {
      "image/png": "[encoded data removed]",
      "text/plain": [
       "<Figure size 432x288 with 1 Axes>"
      ]
     },
     "metadata": {
      "needs_background": "light"
     },
     "output_type": "display_data"
    }
   ],
   "source": [
    "# Построим гистограмму по столбцу со временем поездок для пользователей с подпиской.\n",
    "at = with_s['duration'].hist(bins=15)\n",
    "at.set_xlabel('Время поездки в минутах')\n",
    "at.set_ylabel('Частота встречаемости')\n",
    "at.set_title('Время поездок пользователей с подпиской', fontsize=15)"
   ]
  },
  {
   "cell_type": "markdown",
   "id": "60c3a8e4",
   "metadata": {},
   "source": [
    "Большинство пользователей с подпиской тратят на поездку от 14-16 и 18-21 минут. Меньше всего тратят от 3 до 8 минут и от 31 до 42 минут."
   ]
  },
  {
   "cell_type": "markdown",
   "id": "99faf8ec",
   "metadata": {},
   "source": [
    "Таким образом, расстояния, которые преодолевают пользователи с подпиской и без, не сильно отличаются друг от друга.\n",
    "\n",
    "Среднее время поездки у разных групп пользователей примерно одинаковое, но у пользователей с подпиской больше временной диапазон."
   ]
  },
  {
   "cell_type": "markdown",
   "id": "f65a8247",
   "metadata": {},
   "source": [
    "#### Шаг 5. Подсчёт выручки"
   ]
  },
  {
   "cell_type": "markdown",
   "id": "66c9f23a",
   "metadata": {},
   "source": [
    "Создадим датафрейм с суммарным расстоянием, количеством поездок, суммарным временем и выручкой для каждого пользователя за каждый месяц."
   ]
  },
  {
   "cell_type": "code",
   "execution_count": 32,
   "id": "d7b361ba",
   "metadata": {
    "scrolled": true
   },
   "outputs": [
    {
     "name": "stdout",
     "output_type": "stream",
     "text": [
      "Пользователи с подпиской\n"
     ]
    },
    {
     "name": "stderr",
     "output_type": "stream",
     "text": [
      "/tmp/ipykernel_203/2129223830.py:3: SettingWithCopyWarning: \n",
      "A value is trying to be set on a copy of a slice from a DataFrame.\n",
      "Try using .loc[row_indexer,col_indexer] = value instead\n",
      "\n",
      "See the caveats in the documentation: https://pandas.pydata.org/pandas-docs/stable/user_guide/indexing.html#returning-a-view-versus-a-copy\n",
      "  with_s['duration'] = np.ceil(with_s['duration'])\n"
     ]
    },
    {
     "data": {
      "text/html": [
       "<div>\n",
       "<style scoped>\n",
       "    .dataframe tbody tr th:only-of-type {\n",
       "        vertical-align: middle;\n",
       "    }\n",
       "\n",
       "    .dataframe tbody tr th {\n",
       "        vertical-align: top;\n",
       "    }\n",
       "\n",
       "    .dataframe thead th {\n",
       "        text-align: right;\n",
       "    }\n",
       "</style>\n",
       "<table border=\"1\" class=\"dataframe\">\n",
       "  <thead>\n",
       "    <tr style=\"text-align: right;\">\n",
       "      <th></th>\n",
       "      <th>user_id</th>\n",
       "      <th>distance</th>\n",
       "      <th>duration</th>\n",
       "      <th>date</th>\n",
       "      <th>month</th>\n",
       "      <th>name</th>\n",
       "      <th>age</th>\n",
       "      <th>city</th>\n",
       "      <th>subscription_type</th>\n",
       "      <th>minute_price</th>\n",
       "      <th>start_ride_price</th>\n",
       "      <th>subscription_fee</th>\n",
       "    </tr>\n",
       "  </thead>\n",
       "  <tbody>\n",
       "    <tr>\n",
       "      <th>0</th>\n",
       "      <td>1</td>\n",
       "      <td>4409.919140</td>\n",
       "      <td>26.0</td>\n",
       "      <td>2021-01-01</td>\n",
       "      <td>1</td>\n",
       "      <td>Кира</td>\n",
       "      <td>22</td>\n",
       "      <td>Тюмень</td>\n",
       "      <td>ultra</td>\n",
       "      <td>6</td>\n",
       "      <td>0</td>\n",
       "      <td>199</td>\n",
       "    </tr>\n",
       "    <tr>\n",
       "      <th>1</th>\n",
       "      <td>1</td>\n",
       "      <td>2617.592153</td>\n",
       "      <td>16.0</td>\n",
       "      <td>2021-01-18</td>\n",
       "      <td>1</td>\n",
       "      <td>Кира</td>\n",
       "      <td>22</td>\n",
       "      <td>Тюмень</td>\n",
       "      <td>ultra</td>\n",
       "      <td>6</td>\n",
       "      <td>0</td>\n",
       "      <td>199</td>\n",
       "    </tr>\n",
       "    <tr>\n",
       "      <th>2</th>\n",
       "      <td>1</td>\n",
       "      <td>754.159807</td>\n",
       "      <td>7.0</td>\n",
       "      <td>2021-04-20</td>\n",
       "      <td>4</td>\n",
       "      <td>Кира</td>\n",
       "      <td>22</td>\n",
       "      <td>Тюмень</td>\n",
       "      <td>ultra</td>\n",
       "      <td>6</td>\n",
       "      <td>0</td>\n",
       "      <td>199</td>\n",
       "    </tr>\n",
       "    <tr>\n",
       "      <th>3</th>\n",
       "      <td>1</td>\n",
       "      <td>2694.783254</td>\n",
       "      <td>19.0</td>\n",
       "      <td>2021-08-11</td>\n",
       "      <td>8</td>\n",
       "      <td>Кира</td>\n",
       "      <td>22</td>\n",
       "      <td>Тюмень</td>\n",
       "      <td>ultra</td>\n",
       "      <td>6</td>\n",
       "      <td>0</td>\n",
       "      <td>199</td>\n",
       "    </tr>\n",
       "    <tr>\n",
       "      <th>4</th>\n",
       "      <td>1</td>\n",
       "      <td>4028.687306</td>\n",
       "      <td>27.0</td>\n",
       "      <td>2021-08-28</td>\n",
       "      <td>8</td>\n",
       "      <td>Кира</td>\n",
       "      <td>22</td>\n",
       "      <td>Тюмень</td>\n",
       "      <td>ultra</td>\n",
       "      <td>6</td>\n",
       "      <td>0</td>\n",
       "      <td>199</td>\n",
       "    </tr>\n",
       "    <tr>\n",
       "      <th>5</th>\n",
       "      <td>1</td>\n",
       "      <td>2770.890808</td>\n",
       "      <td>17.0</td>\n",
       "      <td>2021-10-09</td>\n",
       "      <td>10</td>\n",
       "      <td>Кира</td>\n",
       "      <td>22</td>\n",
       "      <td>Тюмень</td>\n",
       "      <td>ultra</td>\n",
       "      <td>6</td>\n",
       "      <td>0</td>\n",
       "      <td>199</td>\n",
       "    </tr>\n",
       "    <tr>\n",
       "      <th>6</th>\n",
       "      <td>1</td>\n",
       "      <td>3039.020292</td>\n",
       "      <td>15.0</td>\n",
       "      <td>2021-10-19</td>\n",
       "      <td>10</td>\n",
       "      <td>Кира</td>\n",
       "      <td>22</td>\n",
       "      <td>Тюмень</td>\n",
       "      <td>ultra</td>\n",
       "      <td>6</td>\n",
       "      <td>0</td>\n",
       "      <td>199</td>\n",
       "    </tr>\n",
       "    <tr>\n",
       "      <th>7</th>\n",
       "      <td>1</td>\n",
       "      <td>2842.118050</td>\n",
       "      <td>24.0</td>\n",
       "      <td>2021-11-06</td>\n",
       "      <td>11</td>\n",
       "      <td>Кира</td>\n",
       "      <td>22</td>\n",
       "      <td>Тюмень</td>\n",
       "      <td>ultra</td>\n",
       "      <td>6</td>\n",
       "      <td>0</td>\n",
       "      <td>199</td>\n",
       "    </tr>\n",
       "    <tr>\n",
       "      <th>8</th>\n",
       "      <td>1</td>\n",
       "      <td>3412.690668</td>\n",
       "      <td>16.0</td>\n",
       "      <td>2021-11-14</td>\n",
       "      <td>11</td>\n",
       "      <td>Кира</td>\n",
       "      <td>22</td>\n",
       "      <td>Тюмень</td>\n",
       "      <td>ultra</td>\n",
       "      <td>6</td>\n",
       "      <td>0</td>\n",
       "      <td>199</td>\n",
       "    </tr>\n",
       "    <tr>\n",
       "      <th>9</th>\n",
       "      <td>1</td>\n",
       "      <td>748.690645</td>\n",
       "      <td>16.0</td>\n",
       "      <td>2021-11-22</td>\n",
       "      <td>11</td>\n",
       "      <td>Кира</td>\n",
       "      <td>22</td>\n",
       "      <td>Тюмень</td>\n",
       "      <td>ultra</td>\n",
       "      <td>6</td>\n",
       "      <td>0</td>\n",
       "      <td>199</td>\n",
       "    </tr>\n",
       "  </tbody>\n",
       "</table>\n",
       "</div>"
      ],
      "text/plain": [
       "   user_id     distance  duration       date  month  name  age    city  \\\n",
       "0        1  4409.919140      26.0 2021-01-01      1  Кира   22  Тюмень   \n",
       "1        1  2617.592153      16.0 2021-01-18      1  Кира   22  Тюмень   \n",
       "2        1   754.159807       7.0 2021-04-20      4  Кира   22  Тюмень   \n",
       "3        1  2694.783254      19.0 2021-08-11      8  Кира   22  Тюмень   \n",
       "4        1  4028.687306      27.0 2021-08-28      8  Кира   22  Тюмень   \n",
       "5        1  2770.890808      17.0 2021-10-09     10  Кира   22  Тюмень   \n",
       "6        1  3039.020292      15.0 2021-10-19     10  Кира   22  Тюмень   \n",
       "7        1  2842.118050      24.0 2021-11-06     11  Кира   22  Тюмень   \n",
       "8        1  3412.690668      16.0 2021-11-14     11  Кира   22  Тюмень   \n",
       "9        1   748.690645      16.0 2021-11-22     11  Кира   22  Тюмень   \n",
       "\n",
       "  subscription_type  minute_price  start_ride_price  subscription_fee  \n",
       "0             ultra             6                 0               199  \n",
       "1             ultra             6                 0               199  \n",
       "2             ultra             6                 0               199  \n",
       "3             ultra             6                 0               199  \n",
       "4             ultra             6                 0               199  \n",
       "5             ultra             6                 0               199  \n",
       "6             ultra             6                 0               199  \n",
       "7             ultra             6                 0               199  \n",
       "8             ultra             6                 0               199  \n",
       "9             ultra             6                 0               199  "
      ]
     },
     "metadata": {},
     "output_type": "display_data"
    },
    {
     "name": "stdout",
     "output_type": "stream",
     "text": [
      "Пользователи без подписки\n"
     ]
    },
    {
     "name": "stderr",
     "output_type": "stream",
     "text": [
      "/tmp/ipykernel_203/2129223830.py:6: SettingWithCopyWarning: \n",
      "A value is trying to be set on a copy of a slice from a DataFrame.\n",
      "Try using .loc[row_indexer,col_indexer] = value instead\n",
      "\n",
      "See the caveats in the documentation: https://pandas.pydata.org/pandas-docs/stable/user_guide/indexing.html#returning-a-view-versus-a-copy\n",
      "  without_s['duration'] = np.ceil(without_s['duration'])\n"
     ]
    },
    {
     "data": {
      "text/html": [
       "<div>\n",
       "<style scoped>\n",
       "    .dataframe tbody tr th:only-of-type {\n",
       "        vertical-align: middle;\n",
       "    }\n",
       "\n",
       "    .dataframe tbody tr th {\n",
       "        vertical-align: top;\n",
       "    }\n",
       "\n",
       "    .dataframe thead th {\n",
       "        text-align: right;\n",
       "    }\n",
       "</style>\n",
       "<table border=\"1\" class=\"dataframe\">\n",
       "  <thead>\n",
       "    <tr style=\"text-align: right;\">\n",
       "      <th></th>\n",
       "      <th>user_id</th>\n",
       "      <th>distance</th>\n",
       "      <th>duration</th>\n",
       "      <th>date</th>\n",
       "      <th>month</th>\n",
       "      <th>name</th>\n",
       "      <th>age</th>\n",
       "      <th>city</th>\n",
       "      <th>subscription_type</th>\n",
       "      <th>minute_price</th>\n",
       "      <th>start_ride_price</th>\n",
       "      <th>subscription_fee</th>\n",
       "    </tr>\n",
       "  </thead>\n",
       "  <tbody>\n",
       "    <tr>\n",
       "      <th>6500</th>\n",
       "      <td>700</td>\n",
       "      <td>2515.690719</td>\n",
       "      <td>15.0</td>\n",
       "      <td>2021-01-02</td>\n",
       "      <td>1</td>\n",
       "      <td>Айдар</td>\n",
       "      <td>22</td>\n",
       "      <td>Омск</td>\n",
       "      <td>free</td>\n",
       "      <td>8</td>\n",
       "      <td>50</td>\n",
       "      <td>0</td>\n",
       "    </tr>\n",
       "    <tr>\n",
       "      <th>6501</th>\n",
       "      <td>700</td>\n",
       "      <td>846.932642</td>\n",
       "      <td>17.0</td>\n",
       "      <td>2021-02-01</td>\n",
       "      <td>2</td>\n",
       "      <td>Айдар</td>\n",
       "      <td>22</td>\n",
       "      <td>Омск</td>\n",
       "      <td>free</td>\n",
       "      <td>8</td>\n",
       "      <td>50</td>\n",
       "      <td>0</td>\n",
       "    </tr>\n",
       "    <tr>\n",
       "      <th>6502</th>\n",
       "      <td>700</td>\n",
       "      <td>4004.434142</td>\n",
       "      <td>21.0</td>\n",
       "      <td>2021-02-04</td>\n",
       "      <td>2</td>\n",
       "      <td>Айдар</td>\n",
       "      <td>22</td>\n",
       "      <td>Омск</td>\n",
       "      <td>free</td>\n",
       "      <td>8</td>\n",
       "      <td>50</td>\n",
       "      <td>0</td>\n",
       "    </tr>\n",
       "    <tr>\n",
       "      <th>6503</th>\n",
       "      <td>700</td>\n",
       "      <td>1205.911290</td>\n",
       "      <td>10.0</td>\n",
       "      <td>2021-02-10</td>\n",
       "      <td>2</td>\n",
       "      <td>Айдар</td>\n",
       "      <td>22</td>\n",
       "      <td>Омск</td>\n",
       "      <td>free</td>\n",
       "      <td>8</td>\n",
       "      <td>50</td>\n",
       "      <td>0</td>\n",
       "    </tr>\n",
       "    <tr>\n",
       "      <th>6504</th>\n",
       "      <td>700</td>\n",
       "      <td>3047.379435</td>\n",
       "      <td>18.0</td>\n",
       "      <td>2021-02-14</td>\n",
       "      <td>2</td>\n",
       "      <td>Айдар</td>\n",
       "      <td>22</td>\n",
       "      <td>Омск</td>\n",
       "      <td>free</td>\n",
       "      <td>8</td>\n",
       "      <td>50</td>\n",
       "      <td>0</td>\n",
       "    </tr>\n",
       "    <tr>\n",
       "      <th>6505</th>\n",
       "      <td>700</td>\n",
       "      <td>4342.002254</td>\n",
       "      <td>23.0</td>\n",
       "      <td>2021-02-23</td>\n",
       "      <td>2</td>\n",
       "      <td>Айдар</td>\n",
       "      <td>22</td>\n",
       "      <td>Омск</td>\n",
       "      <td>free</td>\n",
       "      <td>8</td>\n",
       "      <td>50</td>\n",
       "      <td>0</td>\n",
       "    </tr>\n",
       "    <tr>\n",
       "      <th>6506</th>\n",
       "      <td>700</td>\n",
       "      <td>3798.334905</td>\n",
       "      <td>19.0</td>\n",
       "      <td>2021-03-03</td>\n",
       "      <td>3</td>\n",
       "      <td>Айдар</td>\n",
       "      <td>22</td>\n",
       "      <td>Омск</td>\n",
       "      <td>free</td>\n",
       "      <td>8</td>\n",
       "      <td>50</td>\n",
       "      <td>0</td>\n",
       "    </tr>\n",
       "    <tr>\n",
       "      <th>6507</th>\n",
       "      <td>700</td>\n",
       "      <td>2984.551206</td>\n",
       "      <td>16.0</td>\n",
       "      <td>2021-04-09</td>\n",
       "      <td>4</td>\n",
       "      <td>Айдар</td>\n",
       "      <td>22</td>\n",
       "      <td>Омск</td>\n",
       "      <td>free</td>\n",
       "      <td>8</td>\n",
       "      <td>50</td>\n",
       "      <td>0</td>\n",
       "    </tr>\n",
       "    <tr>\n",
       "      <th>6508</th>\n",
       "      <td>700</td>\n",
       "      <td>3360.107141</td>\n",
       "      <td>17.0</td>\n",
       "      <td>2021-06-12</td>\n",
       "      <td>6</td>\n",
       "      <td>Айдар</td>\n",
       "      <td>22</td>\n",
       "      <td>Омск</td>\n",
       "      <td>free</td>\n",
       "      <td>8</td>\n",
       "      <td>50</td>\n",
       "      <td>0</td>\n",
       "    </tr>\n",
       "    <tr>\n",
       "      <th>6509</th>\n",
       "      <td>700</td>\n",
       "      <td>2567.543847</td>\n",
       "      <td>12.0</td>\n",
       "      <td>2021-06-23</td>\n",
       "      <td>6</td>\n",
       "      <td>Айдар</td>\n",
       "      <td>22</td>\n",
       "      <td>Омск</td>\n",
       "      <td>free</td>\n",
       "      <td>8</td>\n",
       "      <td>50</td>\n",
       "      <td>0</td>\n",
       "    </tr>\n",
       "  </tbody>\n",
       "</table>\n",
       "</div>"
      ],
      "text/plain": [
       "      user_id     distance  duration       date  month   name  age  city  \\\n",
       "6500      700  2515.690719      15.0 2021-01-02      1  Айдар   22  Омск   \n",
       "6501      700   846.932642      17.0 2021-02-01      2  Айдар   22  Омск   \n",
       "6502      700  4004.434142      21.0 2021-02-04      2  Айдар   22  Омск   \n",
       "6503      700  1205.911290      10.0 2021-02-10      2  Айдар   22  Омск   \n",
       "6504      700  3047.379435      18.0 2021-02-14      2  Айдар   22  Омск   \n",
       "6505      700  4342.002254      23.0 2021-02-23      2  Айдар   22  Омск   \n",
       "6506      700  3798.334905      19.0 2021-03-03      3  Айдар   22  Омск   \n",
       "6507      700  2984.551206      16.0 2021-04-09      4  Айдар   22  Омск   \n",
       "6508      700  3360.107141      17.0 2021-06-12      6  Айдар   22  Омск   \n",
       "6509      700  2567.543847      12.0 2021-06-23      6  Айдар   22  Омск   \n",
       "\n",
       "     subscription_type  minute_price  start_ride_price  subscription_fee  \n",
       "6500              free             8                50                 0  \n",
       "6501              free             8                50                 0  \n",
       "6502              free             8                50                 0  \n",
       "6503              free             8                50                 0  \n",
       "6504              free             8                50                 0  \n",
       "6505              free             8                50                 0  \n",
       "6506              free             8                50                 0  \n",
       "6507              free             8                50                 0  \n",
       "6508              free             8                50                 0  \n",
       "6509              free             8                50                 0  "
      ]
     },
     "execution_count": 32,
     "metadata": {},
     "output_type": "execute_result"
    }
   ],
   "source": [
    "# Округлим до целого числа продолжительность поездки в таблицах по группам.\n",
    "print('Пользователи с подпиской')\n",
    "with_s['duration'] = np.ceil(with_s['duration']) \n",
    "display(with_s.head(10))\n",
    "print('Пользователи без подписки')\n",
    "without_s['duration'] = np.ceil(without_s['duration']) \n",
    "without_s.head(10)"
   ]
  },
  {
   "cell_type": "markdown",
   "id": "a959f18e",
   "metadata": {},
   "source": [
    "Создадим для удобства два датафрейма (для пользователей с подпиской и без подписки) с суммарным расстоянием, количеством поездок, суммарным временем и выручкой для каждого пользователя за каждый месяц."
   ]
  },
  {
   "cell_type": "code",
   "execution_count": 33,
   "id": "ddc58e40",
   "metadata": {
    "scrolled": true
   },
   "outputs": [
    {
     "data": {
      "text/html": [
       "<div>\n",
       "<style scoped>\n",
       "    .dataframe tbody tr th:only-of-type {\n",
       "        vertical-align: middle;\n",
       "    }\n",
       "\n",
       "    .dataframe tbody tr th {\n",
       "        vertical-align: top;\n",
       "    }\n",
       "\n",
       "    .dataframe thead th {\n",
       "        text-align: right;\n",
       "    }\n",
       "</style>\n",
       "<table border=\"1\" class=\"dataframe\">\n",
       "  <thead>\n",
       "    <tr style=\"text-align: right;\">\n",
       "      <th></th>\n",
       "      <th></th>\n",
       "      <th>distance</th>\n",
       "      <th>duration</th>\n",
       "      <th>count</th>\n",
       "      <th>start_ride_price</th>\n",
       "      <th>minute_price</th>\n",
       "      <th>subscription_fee</th>\n",
       "      <th>income</th>\n",
       "    </tr>\n",
       "    <tr>\n",
       "      <th>user_id</th>\n",
       "      <th>month</th>\n",
       "      <th></th>\n",
       "      <th></th>\n",
       "      <th></th>\n",
       "      <th></th>\n",
       "      <th></th>\n",
       "      <th></th>\n",
       "      <th></th>\n",
       "    </tr>\n",
       "  </thead>\n",
       "  <tbody>\n",
       "    <tr>\n",
       "      <th rowspan=\"6\" valign=\"top\">1</th>\n",
       "      <th>1</th>\n",
       "      <td>7027.511294</td>\n",
       "      <td>42.0</td>\n",
       "      <td>2</td>\n",
       "      <td>0</td>\n",
       "      <td>6</td>\n",
       "      <td>199</td>\n",
       "      <td>451.0</td>\n",
       "    </tr>\n",
       "    <tr>\n",
       "      <th>4</th>\n",
       "      <td>754.159807</td>\n",
       "      <td>7.0</td>\n",
       "      <td>1</td>\n",
       "      <td>0</td>\n",
       "      <td>6</td>\n",
       "      <td>199</td>\n",
       "      <td>241.0</td>\n",
       "    </tr>\n",
       "    <tr>\n",
       "      <th>8</th>\n",
       "      <td>6723.470560</td>\n",
       "      <td>46.0</td>\n",
       "      <td>2</td>\n",
       "      <td>0</td>\n",
       "      <td>6</td>\n",
       "      <td>199</td>\n",
       "      <td>475.0</td>\n",
       "    </tr>\n",
       "    <tr>\n",
       "      <th>10</th>\n",
       "      <td>5809.911100</td>\n",
       "      <td>32.0</td>\n",
       "      <td>2</td>\n",
       "      <td>0</td>\n",
       "      <td>6</td>\n",
       "      <td>199</td>\n",
       "      <td>391.0</td>\n",
       "    </tr>\n",
       "    <tr>\n",
       "      <th>11</th>\n",
       "      <td>7003.499363</td>\n",
       "      <td>56.0</td>\n",
       "      <td>3</td>\n",
       "      <td>0</td>\n",
       "      <td>6</td>\n",
       "      <td>199</td>\n",
       "      <td>535.0</td>\n",
       "    </tr>\n",
       "    <tr>\n",
       "      <th>12</th>\n",
       "      <td>6751.629942</td>\n",
       "      <td>28.0</td>\n",
       "      <td>2</td>\n",
       "      <td>0</td>\n",
       "      <td>6</td>\n",
       "      <td>199</td>\n",
       "      <td>367.0</td>\n",
       "    </tr>\n",
       "    <tr>\n",
       "      <th rowspan=\"4\" valign=\"top\">2</th>\n",
       "      <th>3</th>\n",
       "      <td>10187.723006</td>\n",
       "      <td>63.0</td>\n",
       "      <td>3</td>\n",
       "      <td>0</td>\n",
       "      <td>6</td>\n",
       "      <td>199</td>\n",
       "      <td>577.0</td>\n",
       "    </tr>\n",
       "    <tr>\n",
       "      <th>4</th>\n",
       "      <td>6164.381824</td>\n",
       "      <td>40.0</td>\n",
       "      <td>2</td>\n",
       "      <td>0</td>\n",
       "      <td>6</td>\n",
       "      <td>199</td>\n",
       "      <td>439.0</td>\n",
       "    </tr>\n",
       "    <tr>\n",
       "      <th>6</th>\n",
       "      <td>3255.338202</td>\n",
       "      <td>14.0</td>\n",
       "      <td>1</td>\n",
       "      <td>0</td>\n",
       "      <td>6</td>\n",
       "      <td>199</td>\n",
       "      <td>283.0</td>\n",
       "    </tr>\n",
       "    <tr>\n",
       "      <th>7</th>\n",
       "      <td>6780.722964</td>\n",
       "      <td>48.0</td>\n",
       "      <td>2</td>\n",
       "      <td>0</td>\n",
       "      <td>6</td>\n",
       "      <td>199</td>\n",
       "      <td>487.0</td>\n",
       "    </tr>\n",
       "  </tbody>\n",
       "</table>\n",
       "</div>"
      ],
      "text/plain": [
       "                   distance  duration  count  start_ride_price  minute_price  \\\n",
       "user_id month                                                                  \n",
       "1       1       7027.511294      42.0      2                 0             6   \n",
       "        4        754.159807       7.0      1                 0             6   \n",
       "        8       6723.470560      46.0      2                 0             6   \n",
       "        10      5809.911100      32.0      2                 0             6   \n",
       "        11      7003.499363      56.0      3                 0             6   \n",
       "        12      6751.629942      28.0      2                 0             6   \n",
       "2       3      10187.723006      63.0      3                 0             6   \n",
       "        4       6164.381824      40.0      2                 0             6   \n",
       "        6       3255.338202      14.0      1                 0             6   \n",
       "        7       6780.722964      48.0      2                 0             6   \n",
       "\n",
       "               subscription_fee  income  \n",
       "user_id month                            \n",
       "1       1                   199   451.0  \n",
       "        4                   199   241.0  \n",
       "        8                   199   475.0  \n",
       "        10                  199   391.0  \n",
       "        11                  199   535.0  \n",
       "        12                  199   367.0  \n",
       "2       3                   199   577.0  \n",
       "        4                   199   439.0  \n",
       "        6                   199   283.0  \n",
       "        7                   199   487.0  "
      ]
     },
     "execution_count": 33,
     "metadata": {},
     "output_type": "execute_result"
    }
   ],
   "source": [
    "# Создадим датафрейм с суммарным расстоянием, количеством поездок, суммарным временем и выручкой для каждого пользователя с подпиской за каждый месяц.\n",
    "with_s_gr = with_s.groupby(['user_id', 'month']).agg({'distance':'sum','duration':['sum', 'count'], \\\n",
    "                                           'start_ride_price':'mean', 'minute_price':'mean', 'subscription_fee':'mean' })\n",
    "with_s_gr.columns = ['distance', 'duration', 'count', 'start_ride_price','minute_price', 'subscription_fee']\n",
    "with_s_gr['income'] = with_s_gr['minute_price']*with_s_gr['duration'] + with_s_gr['subscription_fee']\n",
    "with_s_gr.head(10)"
   ]
  },
  {
   "cell_type": "code",
   "execution_count": 34,
   "id": "4a5bf2a1",
   "metadata": {},
   "outputs": [
    {
     "data": {
      "text/html": [
       "<div>\n",
       "<style scoped>\n",
       "    .dataframe tbody tr th:only-of-type {\n",
       "        vertical-align: middle;\n",
       "    }\n",
       "\n",
       "    .dataframe tbody tr th {\n",
       "        vertical-align: top;\n",
       "    }\n",
       "\n",
       "    .dataframe thead th {\n",
       "        text-align: right;\n",
       "    }\n",
       "</style>\n",
       "<table border=\"1\" class=\"dataframe\">\n",
       "  <thead>\n",
       "    <tr style=\"text-align: right;\">\n",
       "      <th></th>\n",
       "      <th></th>\n",
       "      <th>distance</th>\n",
       "      <th>duration</th>\n",
       "      <th>count</th>\n",
       "      <th>start_ride_price</th>\n",
       "      <th>minute_price</th>\n",
       "      <th>subscription_fee</th>\n",
       "      <th>income</th>\n",
       "    </tr>\n",
       "    <tr>\n",
       "      <th>user_id</th>\n",
       "      <th>month</th>\n",
       "      <th></th>\n",
       "      <th></th>\n",
       "      <th></th>\n",
       "      <th></th>\n",
       "      <th></th>\n",
       "      <th></th>\n",
       "      <th></th>\n",
       "    </tr>\n",
       "  </thead>\n",
       "  <tbody>\n",
       "    <tr>\n",
       "      <th rowspan=\"9\" valign=\"top\">700</th>\n",
       "      <th>1</th>\n",
       "      <td>2515.690719</td>\n",
       "      <td>15.0</td>\n",
       "      <td>1</td>\n",
       "      <td>50</td>\n",
       "      <td>8</td>\n",
       "      <td>0</td>\n",
       "      <td>170.0</td>\n",
       "    </tr>\n",
       "    <tr>\n",
       "      <th>2</th>\n",
       "      <td>13446.659764</td>\n",
       "      <td>89.0</td>\n",
       "      <td>5</td>\n",
       "      <td>50</td>\n",
       "      <td>8</td>\n",
       "      <td>0</td>\n",
       "      <td>962.0</td>\n",
       "    </tr>\n",
       "    <tr>\n",
       "      <th>3</th>\n",
       "      <td>3798.334905</td>\n",
       "      <td>19.0</td>\n",
       "      <td>1</td>\n",
       "      <td>50</td>\n",
       "      <td>8</td>\n",
       "      <td>0</td>\n",
       "      <td>202.0</td>\n",
       "    </tr>\n",
       "    <tr>\n",
       "      <th>4</th>\n",
       "      <td>2984.551206</td>\n",
       "      <td>16.0</td>\n",
       "      <td>1</td>\n",
       "      <td>50</td>\n",
       "      <td>8</td>\n",
       "      <td>0</td>\n",
       "      <td>178.0</td>\n",
       "    </tr>\n",
       "    <tr>\n",
       "      <th>6</th>\n",
       "      <td>5927.650988</td>\n",
       "      <td>29.0</td>\n",
       "      <td>2</td>\n",
       "      <td>50</td>\n",
       "      <td>8</td>\n",
       "      <td>0</td>\n",
       "      <td>332.0</td>\n",
       "    </tr>\n",
       "    <tr>\n",
       "      <th>7</th>\n",
       "      <td>4399.206279</td>\n",
       "      <td>21.0</td>\n",
       "      <td>2</td>\n",
       "      <td>50</td>\n",
       "      <td>8</td>\n",
       "      <td>0</td>\n",
       "      <td>268.0</td>\n",
       "    </tr>\n",
       "    <tr>\n",
       "      <th>8</th>\n",
       "      <td>4071.654669</td>\n",
       "      <td>17.0</td>\n",
       "      <td>1</td>\n",
       "      <td>50</td>\n",
       "      <td>8</td>\n",
       "      <td>0</td>\n",
       "      <td>186.0</td>\n",
       "    </tr>\n",
       "    <tr>\n",
       "      <th>10</th>\n",
       "      <td>6322.578618</td>\n",
       "      <td>44.0</td>\n",
       "      <td>2</td>\n",
       "      <td>50</td>\n",
       "      <td>8</td>\n",
       "      <td>0</td>\n",
       "      <td>452.0</td>\n",
       "    </tr>\n",
       "    <tr>\n",
       "      <th>11</th>\n",
       "      <td>8735.782625</td>\n",
       "      <td>32.0</td>\n",
       "      <td>3</td>\n",
       "      <td>50</td>\n",
       "      <td>8</td>\n",
       "      <td>0</td>\n",
       "      <td>406.0</td>\n",
       "    </tr>\n",
       "    <tr>\n",
       "      <th>701</th>\n",
       "      <th>1</th>\n",
       "      <td>2676.472894</td>\n",
       "      <td>18.0</td>\n",
       "      <td>1</td>\n",
       "      <td>50</td>\n",
       "      <td>8</td>\n",
       "      <td>0</td>\n",
       "      <td>194.0</td>\n",
       "    </tr>\n",
       "  </tbody>\n",
       "</table>\n",
       "</div>"
      ],
      "text/plain": [
       "                   distance  duration  count  start_ride_price  minute_price  \\\n",
       "user_id month                                                                  \n",
       "700     1       2515.690719      15.0      1                50             8   \n",
       "        2      13446.659764      89.0      5                50             8   \n",
       "        3       3798.334905      19.0      1                50             8   \n",
       "        4       2984.551206      16.0      1                50             8   \n",
       "        6       5927.650988      29.0      2                50             8   \n",
       "        7       4399.206279      21.0      2                50             8   \n",
       "        8       4071.654669      17.0      1                50             8   \n",
       "        10      6322.578618      44.0      2                50             8   \n",
       "        11      8735.782625      32.0      3                50             8   \n",
       "701     1       2676.472894      18.0      1                50             8   \n",
       "\n",
       "               subscription_fee  income  \n",
       "user_id month                            \n",
       "700     1                     0   170.0  \n",
       "        2                     0   962.0  \n",
       "        3                     0   202.0  \n",
       "        4                     0   178.0  \n",
       "        6                     0   332.0  \n",
       "        7                     0   268.0  \n",
       "        8                     0   186.0  \n",
       "        10                    0   452.0  \n",
       "        11                    0   406.0  \n",
       "701     1                     0   194.0  "
      ]
     },
     "execution_count": 34,
     "metadata": {},
     "output_type": "execute_result"
    }
   ],
   "source": [
    "# Создадим датафрейм с суммарным расстоянием, количеством поездок, суммарным временем и выручкой для каждого пользователя без подписки за каждый месяц.\n",
    "without_s_gr = without_s.groupby(['user_id', 'month']).agg({'distance':'sum','duration':['sum', 'count'], \\\n",
    "                                           'start_ride_price':'mean', 'minute_price':'mean', 'subscription_fee':'mean' })\n",
    "without_s_gr.columns = ['distance', 'duration', 'count', 'start_ride_price','minute_price', 'subscription_fee']\n",
    "without_s_gr['income'] = without_s_gr['start_ride_price']*without_s_gr['count'] + without_s_gr['minute_price']*without_s_gr['duration']\n",
    "without_s_gr.head(10)"
   ]
  },
  {
   "cell_type": "markdown",
   "id": "14a015d7",
   "metadata": {},
   "source": [
    "#### Шаг 6. Проверка гипотез"
   ]
  },
  {
   "cell_type": "markdown",
   "id": "0c78ae77",
   "metadata": {},
   "source": [
    "1. Проверим гипотезу о том, тратят ли пользователи с подпиской больше времени на поездки.\n",
    "\n",
    "**Нулевая гипотеза**: пользователи с подпиской тратят на поездки столько же времени, сколько пользователи без подписки.\n",
    "\n",
    "**Альтернативная гипотеза**: пользователи с подпиской тратят на поездки больше времени, чем пользователи без подписки."
   ]
  },
  {
   "cell_type": "code",
   "execution_count": 35,
   "id": "785de7be",
   "metadata": {},
   "outputs": [
    {
     "data": {
      "text/plain": [
       "Ttest_indResult(statistic=12.186464491247767, pvalue=2.4959453720736625e-34)"
      ]
     },
     "execution_count": 35,
     "metadata": {},
     "output_type": "execute_result"
    }
   ],
   "source": [
    "results = st.ttest_ind(with_s['duration'], without_s['duration'], alternative='greater')\n",
    "results"
   ]
  },
  {
   "cell_type": "code",
   "execution_count": 36,
   "id": "b5f11754",
   "metadata": {},
   "outputs": [
    {
     "name": "stdout",
     "output_type": "stream",
     "text": [
      "19.037692307692307\n"
     ]
    },
    {
     "data": {
      "text/plain": [
       "17.890992392807746"
      ]
     },
     "execution_count": 36,
     "metadata": {},
     "output_type": "execute_result"
    }
   ],
   "source": [
    "print(with_s['duration'].mean())\n",
    "without_s['duration'].mean()"
   ]
  },
  {
   "cell_type": "markdown",
   "id": "ac00d031",
   "metadata": {},
   "source": [
    "Уровень статистической значимости (альфа) зададим 0,5. Следовательно, так как pvalue меньше альфа, отвергаем нулевую гипотезу. Таким образом, пользователи с подпиской тратят больше времени на поездки."
   ]
  },
  {
   "cell_type": "markdown",
   "id": "fdc76842",
   "metadata": {},
   "source": [
    "2. Проверим гипотезу о том, что среднее расстояние, которое проезжают пользователи с подпиской за одну поездку, не превышает 3130 метров.\n",
    "\n",
    "**Нулевая гипотеза**: среднее расстояние, которое проезжают пользователи с подпиской за одну поездку, равно 3130 метров.\n",
    "\n",
    "**Альтернативная гипотеза**: среднее расстояние, которое проезжают пользователи с подпиской за одну поездку,  больше 3130 метров."
   ]
  },
  {
   "cell_type": "code",
   "execution_count": 37,
   "id": "38a85c0b",
   "metadata": {},
   "outputs": [
    {
     "data": {
      "text/plain": [
       "Ttest_1sampResult(statistic=-1.402123166869486, pvalue=0.9195368847849785)"
      ]
     },
     "execution_count": 37,
     "metadata": {},
     "output_type": "execute_result"
    }
   ],
   "source": [
    "value=3130\n",
    "results = st.ttest_1samp(with_s['distance'], value, alternative='greater')\n",
    "results"
   ]
  },
  {
   "cell_type": "markdown",
   "id": "8ad15c23",
   "metadata": {},
   "source": [
    "Уровень статистической значимости (альфа) зададим 0,5. Следовательно, так как pvalue больше альфа, принимаем нулевую гипотезу. Таким образом, среднее расстояние, которое проезжают пользователи с подпиской за одну поездку, не превышает 3130 метров."
   ]
  },
  {
   "cell_type": "markdown",
   "id": "00dba315",
   "metadata": {},
   "source": [
    "3. Проверим гипотезу о том, будет ли помесячная выручка от пользователей с подпиской по месяцам выше, чем выручка от пользователей без подписки\n",
    "\n",
    "**Нулевая гипотеза**: помесячная выручка от пользователей с подпиской равна помесячной выручке пользователей без подписки.\n",
    "\n",
    "**Альтернативная гипотеза**: помесячная выручка от пользователей с подпиской выше, чем помесячная выручка пользователей без подписки."
   ]
  },
  {
   "cell_type": "code",
   "execution_count": 38,
   "id": "b70ebe0d",
   "metadata": {},
   "outputs": [
    {
     "data": {
      "text/plain": [
       "Ttest_indResult(statistic=11.64246602360774, pvalue=1.8850394384715216e-31)"
      ]
     },
     "execution_count": 38,
     "metadata": {},
     "output_type": "execute_result"
    }
   ],
   "source": [
    "# Используем созданные нами ранее датафреймы.\n",
    "results = st.ttest_ind(with_s_gr['income'], without_s_gr['income'], alternative='greater')\n",
    "results"
   ]
  },
  {
   "cell_type": "markdown",
   "id": "0ba6fb54",
   "metadata": {},
   "source": [
    "Уровень статистической значимости (альфа) зададим 0,5. Следовательно, так как pvalue меньше альфа, отвергаем нулевую гипотезу. Таким образом, помесячная выручка от пользователей с подпиской по месяцам выше, чем выручка от пользователей без подписки."
   ]
  },
  {
   "cell_type": "markdown",
   "id": "831c0fd9",
   "metadata": {},
   "source": [
    "4. *Представьте такую ситуацию: техническая команда сервиса обновила сервера, с которыми взаимодействует мобильное приложение. Она надеется, что из-за этого количество обращений в техподдержку значимо снизилось. Некоторый файл содержит для каждого пользователя данные о количестве обращений до обновления и после него. Какой тест вам понадобился бы для проверки этой гипотезы?*\n",
    "\n",
    "Для проверки данной гипотезы понадобился бы тест для проверки гипотез о равенстве средних для парных (зависимых) выборок (ttest_rel)."
   ]
  },
  {
   "cell_type": "markdown",
   "id": "adb9999b",
   "metadata": {},
   "source": [
    "**Вывод**:\n",
    "\n",
    "таким образом, в процессе исследования мы изучили необходимые датафреймы, проверили их на наличие пропущенных значений и дубликатов, визуализировали и описали необходимую информацию о пользователях и поездах, в результате чего сделали следующие выводы:\n",
    "\n",
    "- в исследовании задействованы пользователи из Пятигорска, Екатеринбурга, Ростова-на-Дону, Краснодара, Сочи, Омска, Тюмени и Москвы. При этом, больше всего пользователей из Пятигорска (219 человек), а меньше всего - из Москвы (168 человек);\n",
    "\n",
    "- пользователей без подписки (835 человек) больше, чем пользователей с подпиской (699 человек) на 136 человек;\n",
    "\n",
    "- возраст пользователей находится в диапазоне от 12 до 43 лет. При этом, основная масса пользователей самокатами - это пользователи от 21 до 27 лет. Меньше всего пользователей находятся в возрасте от 12 до 18 лет и от 34 до 43 лет;\n",
    "\n",
    "- расстояние, которое пользователи преодолевают за одну поездку, находится в диапазоне приблизительно от 0 до 7200 метров. При этом, наибольшее число пользователей преодолевают расстояние примерно от 2600 до 3600 метров;\n",
    "\n",
    "- продолжительность одной поездки варьируется в диапазоне приблизительно от 1 до 41 минуты. При этом большинство поездок продолжаются примерно от 14 до 21 минут.\n",
    "\n",
    "Также мы объединили данные в один датафрейм и создали на его основе еще два датафрейма: о пользователях без подписки и о пользователях с подпиской. По ним визуализировали информацию о расстоянии и времени поездок для пользователей обеих категорий. Так, большинство пользователей без подписки преодолевают расстояние от 2400 до 3800 метров. Меньше всего - от 5200 до 7200. А Большинство пользователей с подпиской преодолевают расстояние от 2800 до 3400 метров. Меньше всего - от 200 до 2500 метров. Также большинство пользователей без подписки тратят на поездку примерно от 17-19 минут. Меньше всего тратят от 1 до 6 минут и от 25 до 35 минут. Большинство пользователей с подпиской тратят на поездку от 14 до 21 минуты. Меньше всего тратят от 3 до 8 минут и от 31 до 42 минут.\n",
    "\n",
    "Мы создали датафреймы по двум группа пользователей с агрегированными данными о поездках: с суммарным расстоянием, количеством поездок и суммарным временем для каждого пользователя за каждый месяц. А также добавили столбец с помесячной выручкой, которую принес каждый пользователь.\n",
    "\n",
    "Также мы проверили несколько гипотез и сделали следующие выводы:\n",
    "\n",
    "- пользователи с подпиской тратят больше времени на поездки;\n",
    "- среднее расстояние, которое проезжают пользователи с подпиской за одну поездку, не превышает 3130 метров;\n",
    "- помесячная выручка от пользователей с подпиской по месяцам выше, чем выручка от пользователей без подписки."
   ]
  }
 ],
 "metadata": {
  "ExecuteTimeLog": [
   {
    "duration": 1232,
    "start_time": "2024-03-14T01:08:08.171Z"
   },
   {
    "duration": 136,
    "start_time": "2024-03-14T01:08:09.406Z"
   },
   {
    "duration": 0,
    "start_time": "2024-03-14T01:08:09.544Z"
   },
   {
    "duration": 0,
    "start_time": "2024-03-14T01:08:09.545Z"
   },
   {
    "duration": 0,
    "start_time": "2024-03-14T01:08:09.547Z"
   },
   {
    "duration": 0,
    "start_time": "2024-03-14T01:08:09.548Z"
   },
   {
    "duration": 0,
    "start_time": "2024-03-14T01:08:09.549Z"
   },
   {
    "duration": 0,
    "start_time": "2024-03-14T01:08:09.549Z"
   },
   {
    "duration": 0,
    "start_time": "2024-03-14T01:08:09.550Z"
   },
   {
    "duration": 0,
    "start_time": "2024-03-14T01:08:09.551Z"
   },
   {
    "duration": 0,
    "start_time": "2024-03-14T01:08:09.552Z"
   },
   {
    "duration": 0,
    "start_time": "2024-03-14T01:08:09.553Z"
   },
   {
    "duration": 0,
    "start_time": "2024-03-14T01:08:09.554Z"
   },
   {
    "duration": 0,
    "start_time": "2024-03-14T01:08:09.555Z"
   },
   {
    "duration": 0,
    "start_time": "2024-03-14T01:08:09.556Z"
   },
   {
    "duration": 0,
    "start_time": "2024-03-14T01:08:09.582Z"
   },
   {
    "duration": 0,
    "start_time": "2024-03-14T01:08:09.583Z"
   },
   {
    "duration": 0,
    "start_time": "2024-03-14T01:08:09.584Z"
   },
   {
    "duration": 0,
    "start_time": "2024-03-14T01:08:09.585Z"
   },
   {
    "duration": 0,
    "start_time": "2024-03-14T01:08:09.586Z"
   },
   {
    "duration": 0,
    "start_time": "2024-03-14T01:08:09.586Z"
   },
   {
    "duration": 0,
    "start_time": "2024-03-14T01:08:09.587Z"
   },
   {
    "duration": 0,
    "start_time": "2024-03-14T01:08:09.588Z"
   },
   {
    "duration": 0,
    "start_time": "2024-03-14T01:08:09.590Z"
   },
   {
    "duration": 0,
    "start_time": "2024-03-14T01:08:09.591Z"
   },
   {
    "duration": 0,
    "start_time": "2024-03-14T01:08:09.592Z"
   },
   {
    "duration": 0,
    "start_time": "2024-03-14T01:08:09.593Z"
   },
   {
    "duration": 0,
    "start_time": "2024-03-14T01:08:09.594Z"
   },
   {
    "duration": 0,
    "start_time": "2024-03-14T01:08:09.595Z"
   },
   {
    "duration": 0,
    "start_time": "2024-03-14T01:08:09.596Z"
   },
   {
    "duration": 0,
    "start_time": "2024-03-14T01:08:09.596Z"
   },
   {
    "duration": 0,
    "start_time": "2024-03-14T01:08:09.597Z"
   },
   {
    "duration": 0,
    "start_time": "2024-03-14T01:08:09.598Z"
   },
   {
    "duration": 0,
    "start_time": "2024-03-14T01:08:09.599Z"
   },
   {
    "duration": 0,
    "start_time": "2024-03-14T01:08:09.601Z"
   },
   {
    "duration": 0,
    "start_time": "2024-03-14T01:08:09.602Z"
   },
   {
    "duration": 0,
    "start_time": "2024-03-14T01:08:09.603Z"
   },
   {
    "duration": 0,
    "start_time": "2024-03-14T01:08:09.604Z"
   },
   {
    "duration": 145,
    "start_time": "2024-03-14T01:09:56.217Z"
   },
   {
    "duration": 1213,
    "start_time": "2024-03-14T01:10:06.198Z"
   },
   {
    "duration": 110,
    "start_time": "2024-03-14T01:10:07.413Z"
   },
   {
    "duration": 12,
    "start_time": "2024-03-14T01:10:07.525Z"
   },
   {
    "duration": 11,
    "start_time": "2024-03-14T01:10:07.538Z"
   },
   {
    "duration": 20,
    "start_time": "2024-03-14T01:10:07.551Z"
   },
   {
    "duration": 22,
    "start_time": "2024-03-14T01:10:07.573Z"
   },
   {
    "duration": 15,
    "start_time": "2024-03-14T01:10:07.597Z"
   },
   {
    "duration": 20,
    "start_time": "2024-03-14T01:10:07.613Z"
   },
   {
    "duration": 9,
    "start_time": "2024-03-14T01:10:07.635Z"
   },
   {
    "duration": 21,
    "start_time": "2024-03-14T01:10:07.645Z"
   },
   {
    "duration": 28,
    "start_time": "2024-03-14T01:10:07.668Z"
   },
   {
    "duration": 16,
    "start_time": "2024-03-14T01:10:07.697Z"
   },
   {
    "duration": 190,
    "start_time": "2024-03-14T01:10:07.715Z"
   },
   {
    "duration": 6,
    "start_time": "2024-03-14T01:10:07.909Z"
   },
   {
    "duration": 139,
    "start_time": "2024-03-14T01:10:07.917Z"
   },
   {
    "duration": 4,
    "start_time": "2024-03-14T01:10:08.058Z"
   },
   {
    "duration": 164,
    "start_time": "2024-03-14T01:10:08.064Z"
   },
   {
    "duration": 5,
    "start_time": "2024-03-14T01:10:08.230Z"
   },
   {
    "duration": 164,
    "start_time": "2024-03-14T01:10:08.237Z"
   },
   {
    "duration": 5,
    "start_time": "2024-03-14T01:10:08.403Z"
   },
   {
    "duration": 166,
    "start_time": "2024-03-14T01:10:08.409Z"
   },
   {
    "duration": 29,
    "start_time": "2024-03-14T01:10:08.577Z"
   },
   {
    "duration": 25,
    "start_time": "2024-03-14T01:10:08.608Z"
   },
   {
    "duration": 21,
    "start_time": "2024-03-14T01:10:08.634Z"
   },
   {
    "duration": 180,
    "start_time": "2024-03-14T01:10:08.656Z"
   },
   {
    "duration": 156,
    "start_time": "2024-03-14T01:10:08.838Z"
   },
   {
    "duration": 145,
    "start_time": "2024-03-14T01:10:08.996Z"
   },
   {
    "duration": 246,
    "start_time": "2024-03-14T01:10:09.143Z"
   },
   {
    "duration": 15,
    "start_time": "2024-03-14T01:10:09.390Z"
   },
   {
    "duration": 20,
    "start_time": "2024-03-14T01:10:09.406Z"
   },
   {
    "duration": 23,
    "start_time": "2024-03-14T01:10:09.427Z"
   },
   {
    "duration": 4,
    "start_time": "2024-03-14T01:10:09.452Z"
   },
   {
    "duration": 5,
    "start_time": "2024-03-14T01:10:09.482Z"
   },
   {
    "duration": 23,
    "start_time": "2024-03-14T01:10:09.488Z"
   },
   {
    "duration": 17,
    "start_time": "2024-03-14T01:10:09.512Z"
   },
   {
    "duration": 13,
    "start_time": "2024-03-14T01:10:09.531Z"
   },
   {
    "duration": 39,
    "start_time": "2024-03-14T01:10:09.545Z"
   },
   {
    "duration": 4,
    "start_time": "2024-03-14T01:10:09.586Z"
   },
   {
    "duration": 21,
    "start_time": "2024-03-14T01:13:28.097Z"
   },
   {
    "duration": 1194,
    "start_time": "2024-03-14T01:20:06.713Z"
   },
   {
    "duration": 105,
    "start_time": "2024-03-14T01:20:07.909Z"
   },
   {
    "duration": 12,
    "start_time": "2024-03-14T01:20:08.016Z"
   },
   {
    "duration": 12,
    "start_time": "2024-03-14T01:20:08.029Z"
   },
   {
    "duration": 15,
    "start_time": "2024-03-14T01:20:08.044Z"
   },
   {
    "duration": 11,
    "start_time": "2024-03-14T01:20:08.060Z"
   },
   {
    "duration": 18,
    "start_time": "2024-03-14T01:20:08.081Z"
   },
   {
    "duration": 15,
    "start_time": "2024-03-14T01:20:08.101Z"
   },
   {
    "duration": 10,
    "start_time": "2024-03-14T01:20:08.117Z"
   },
   {
    "duration": 11,
    "start_time": "2024-03-14T01:20:08.129Z"
   },
   {
    "duration": 44,
    "start_time": "2024-03-14T01:20:08.142Z"
   },
   {
    "duration": 8,
    "start_time": "2024-03-14T01:20:08.188Z"
   },
   {
    "duration": 185,
    "start_time": "2024-03-14T01:20:08.197Z"
   },
   {
    "duration": 6,
    "start_time": "2024-03-14T01:20:08.385Z"
   },
   {
    "duration": 134,
    "start_time": "2024-03-14T01:20:08.392Z"
   },
   {
    "duration": 5,
    "start_time": "2024-03-14T01:20:08.528Z"
   },
   {
    "duration": 182,
    "start_time": "2024-03-14T01:20:08.535Z"
   },
   {
    "duration": 6,
    "start_time": "2024-03-14T01:20:08.719Z"
   },
   {
    "duration": 171,
    "start_time": "2024-03-14T01:20:08.726Z"
   },
   {
    "duration": 5,
    "start_time": "2024-03-14T01:20:08.899Z"
   },
   {
    "duration": 164,
    "start_time": "2024-03-14T01:20:08.905Z"
   },
   {
    "duration": 30,
    "start_time": "2024-03-14T01:20:09.070Z"
   },
   {
    "duration": 24,
    "start_time": "2024-03-14T01:20:09.102Z"
   },
   {
    "duration": 20,
    "start_time": "2024-03-14T01:20:09.128Z"
   },
   {
    "duration": 179,
    "start_time": "2024-03-14T01:20:09.149Z"
   },
   {
    "duration": 148,
    "start_time": "2024-03-14T01:20:09.329Z"
   },
   {
    "duration": 143,
    "start_time": "2024-03-14T01:20:09.482Z"
   },
   {
    "duration": 255,
    "start_time": "2024-03-14T01:20:09.627Z"
   },
   {
    "duration": 20,
    "start_time": "2024-03-14T01:20:09.883Z"
   },
   {
    "duration": 20,
    "start_time": "2024-03-14T01:20:09.905Z"
   },
   {
    "duration": 26,
    "start_time": "2024-03-14T01:20:09.927Z"
   },
   {
    "duration": 31,
    "start_time": "2024-03-14T01:20:09.954Z"
   },
   {
    "duration": 5,
    "start_time": "2024-03-14T01:20:09.986Z"
   },
   {
    "duration": 17,
    "start_time": "2024-03-14T01:20:09.993Z"
   },
   {
    "duration": 17,
    "start_time": "2024-03-14T01:20:10.011Z"
   },
   {
    "duration": 56,
    "start_time": "2024-03-14T01:20:10.029Z"
   },
   {
    "duration": 12,
    "start_time": "2024-03-14T01:20:10.087Z"
   },
   {
    "duration": 19,
    "start_time": "2024-03-14T01:20:10.100Z"
   },
   {
    "duration": 1060,
    "start_time": "2024-03-15T01:18:24.173Z"
   },
   {
    "duration": 91,
    "start_time": "2024-03-15T01:18:25.234Z"
   },
   {
    "duration": 19,
    "start_time": "2024-03-15T01:18:25.326Z"
   },
   {
    "duration": 9,
    "start_time": "2024-03-15T01:18:25.347Z"
   },
   {
    "duration": 14,
    "start_time": "2024-03-15T01:18:25.357Z"
   },
   {
    "duration": 7,
    "start_time": "2024-03-15T01:18:25.372Z"
   },
   {
    "duration": 15,
    "start_time": "2024-03-15T01:18:25.380Z"
   },
   {
    "duration": 10,
    "start_time": "2024-03-15T01:18:25.396Z"
   },
   {
    "duration": 4,
    "start_time": "2024-03-15T01:18:25.407Z"
   },
   {
    "duration": 7,
    "start_time": "2024-03-15T01:18:25.413Z"
   },
   {
    "duration": 9,
    "start_time": "2024-03-15T01:18:25.421Z"
   },
   {
    "duration": 7,
    "start_time": "2024-03-15T01:18:25.431Z"
   },
   {
    "duration": 4,
    "start_time": "2024-03-15T01:18:25.439Z"
   },
   {
    "duration": 163,
    "start_time": "2024-03-15T01:18:25.444Z"
   },
   {
    "duration": 5,
    "start_time": "2024-03-15T01:18:25.608Z"
   },
   {
    "duration": 69,
    "start_time": "2024-03-15T01:18:25.614Z"
   },
   {
    "duration": 22,
    "start_time": "2024-03-15T01:18:25.684Z"
   },
   {
    "duration": 132,
    "start_time": "2024-03-15T01:18:25.707Z"
   },
   {
    "duration": 4,
    "start_time": "2024-03-15T01:18:25.841Z"
   },
   {
    "duration": 164,
    "start_time": "2024-03-15T01:18:25.846Z"
   },
   {
    "duration": 5,
    "start_time": "2024-03-15T01:18:26.011Z"
   },
   {
    "duration": 166,
    "start_time": "2024-03-15T01:18:26.017Z"
   },
   {
    "duration": 28,
    "start_time": "2024-03-15T01:18:26.184Z"
   },
   {
    "duration": 4,
    "start_time": "2024-03-15T01:18:26.213Z"
   },
   {
    "duration": 8,
    "start_time": "2024-03-15T01:18:26.218Z"
   },
   {
    "duration": 18,
    "start_time": "2024-03-15T01:18:26.227Z"
   },
   {
    "duration": 16,
    "start_time": "2024-03-15T01:18:26.246Z"
   },
   {
    "duration": 176,
    "start_time": "2024-03-15T01:18:26.264Z"
   },
   {
    "duration": 145,
    "start_time": "2024-03-15T01:18:26.441Z"
   },
   {
    "duration": 133,
    "start_time": "2024-03-15T01:18:26.587Z"
   },
   {
    "duration": 183,
    "start_time": "2024-03-15T01:18:26.721Z"
   },
   {
    "duration": 11,
    "start_time": "2024-03-15T01:18:26.905Z"
   },
   {
    "duration": 21,
    "start_time": "2024-03-15T01:18:26.918Z"
   },
   {
    "duration": 22,
    "start_time": "2024-03-15T01:18:26.940Z"
   },
   {
    "duration": 4,
    "start_time": "2024-03-15T01:18:26.964Z"
   },
   {
    "duration": 4,
    "start_time": "2024-03-15T01:18:26.969Z"
   },
   {
    "duration": 4,
    "start_time": "2024-03-15T01:18:27.001Z"
   },
   {
    "duration": 5,
    "start_time": "2024-03-15T01:18:27.006Z"
   },
   {
    "duration": 4,
    "start_time": "2024-03-15T01:23:54.177Z"
   },
   {
    "duration": 4,
    "start_time": "2024-03-15T01:24:02.116Z"
   },
   {
    "duration": 14,
    "start_time": "2024-03-15T01:28:18.569Z"
   },
   {
    "duration": 1010,
    "start_time": "2024-03-15T01:28:59.149Z"
   },
   {
    "duration": 95,
    "start_time": "2024-03-15T01:29:00.161Z"
   },
   {
    "duration": 23,
    "start_time": "2024-03-15T01:29:00.258Z"
   },
   {
    "duration": 104,
    "start_time": "2024-03-15T01:29:00.282Z"
   },
   {
    "duration": 54,
    "start_time": "2024-03-15T01:29:00.388Z"
   },
   {
    "duration": 27,
    "start_time": "2024-03-15T01:29:00.443Z"
   },
   {
    "duration": 57,
    "start_time": "2024-03-15T01:29:00.471Z"
   },
   {
    "duration": 41,
    "start_time": "2024-03-15T01:29:00.529Z"
   },
   {
    "duration": 52,
    "start_time": "2024-03-15T01:29:00.571Z"
   },
   {
    "duration": 59,
    "start_time": "2024-03-15T01:29:00.624Z"
   },
   {
    "duration": 24,
    "start_time": "2024-03-15T01:29:00.684Z"
   },
   {
    "duration": 19,
    "start_time": "2024-03-15T01:29:00.709Z"
   },
   {
    "duration": 32,
    "start_time": "2024-03-15T01:29:00.729Z"
   },
   {
    "duration": 164,
    "start_time": "2024-03-15T01:29:00.764Z"
   },
   {
    "duration": 6,
    "start_time": "2024-03-15T01:29:00.929Z"
   },
   {
    "duration": 128,
    "start_time": "2024-03-15T01:29:00.936Z"
   },
   {
    "duration": 6,
    "start_time": "2024-03-15T01:29:01.066Z"
   },
   {
    "duration": 161,
    "start_time": "2024-03-15T01:29:01.073Z"
   },
   {
    "duration": 5,
    "start_time": "2024-03-15T01:29:01.235Z"
   },
   {
    "duration": 261,
    "start_time": "2024-03-15T01:29:01.241Z"
   },
   {
    "duration": 4,
    "start_time": "2024-03-15T01:29:01.504Z"
   },
   {
    "duration": 184,
    "start_time": "2024-03-15T01:29:01.509Z"
   },
   {
    "duration": 26,
    "start_time": "2024-03-15T01:29:01.695Z"
   },
   {
    "duration": 12,
    "start_time": "2024-03-15T01:29:01.723Z"
   },
   {
    "duration": 57,
    "start_time": "2024-03-15T01:29:01.737Z"
   },
   {
    "duration": 43,
    "start_time": "2024-03-15T01:29:01.795Z"
   },
   {
    "duration": 86,
    "start_time": "2024-03-15T01:29:01.839Z"
   },
   {
    "duration": 191,
    "start_time": "2024-03-15T01:29:01.926Z"
   },
   {
    "duration": 142,
    "start_time": "2024-03-15T01:29:02.119Z"
   },
   {
    "duration": 137,
    "start_time": "2024-03-15T01:29:02.262Z"
   },
   {
    "duration": 182,
    "start_time": "2024-03-15T01:29:02.401Z"
   },
   {
    "duration": 18,
    "start_time": "2024-03-15T01:29:02.584Z"
   },
   {
    "duration": 33,
    "start_time": "2024-03-15T01:29:02.603Z"
   },
   {
    "duration": 23,
    "start_time": "2024-03-15T01:29:02.638Z"
   },
   {
    "duration": 4,
    "start_time": "2024-03-15T01:29:02.663Z"
   },
   {
    "duration": 28,
    "start_time": "2024-03-15T01:29:02.668Z"
   },
   {
    "duration": 5,
    "start_time": "2024-03-15T01:29:02.697Z"
   },
   {
    "duration": 5,
    "start_time": "2024-03-15T01:29:02.703Z"
   },
   {
    "duration": 50,
    "start_time": "2024-03-15T04:44:42.348Z"
   },
   {
    "duration": 1479,
    "start_time": "2024-03-15T04:44:46.660Z"
   },
   {
    "duration": 235,
    "start_time": "2024-03-15T04:44:48.141Z"
   },
   {
    "duration": 27,
    "start_time": "2024-03-15T04:44:48.377Z"
   },
   {
    "duration": 12,
    "start_time": "2024-03-15T04:44:48.406Z"
   },
   {
    "duration": 13,
    "start_time": "2024-03-15T04:44:48.420Z"
   },
   {
    "duration": 10,
    "start_time": "2024-03-15T04:44:48.435Z"
   },
   {
    "duration": 50,
    "start_time": "2024-03-15T04:44:48.447Z"
   },
   {
    "duration": 13,
    "start_time": "2024-03-15T04:44:48.498Z"
   },
   {
    "duration": 5,
    "start_time": "2024-03-15T04:44:48.513Z"
   },
   {
    "duration": 11,
    "start_time": "2024-03-15T04:44:48.521Z"
   },
   {
    "duration": 11,
    "start_time": "2024-03-15T04:44:48.533Z"
   },
   {
    "duration": 43,
    "start_time": "2024-03-15T04:44:48.546Z"
   },
   {
    "duration": 13,
    "start_time": "2024-03-15T04:44:48.590Z"
   },
   {
    "duration": 174,
    "start_time": "2024-03-15T04:44:48.605Z"
   },
   {
    "duration": 7,
    "start_time": "2024-03-15T04:44:48.781Z"
   },
   {
    "duration": 109,
    "start_time": "2024-03-15T04:44:48.790Z"
   },
   {
    "duration": 9,
    "start_time": "2024-03-15T04:44:48.902Z"
   },
   {
    "duration": 185,
    "start_time": "2024-03-15T04:44:48.912Z"
   },
   {
    "duration": 6,
    "start_time": "2024-03-15T04:44:49.099Z"
   },
   {
    "duration": 230,
    "start_time": "2024-03-15T04:44:49.107Z"
   },
   {
    "duration": 6,
    "start_time": "2024-03-15T04:44:49.339Z"
   },
   {
    "duration": 229,
    "start_time": "2024-03-15T04:44:49.347Z"
   },
   {
    "duration": 31,
    "start_time": "2024-03-15T04:44:49.578Z"
   },
   {
    "duration": 4,
    "start_time": "2024-03-15T04:44:49.611Z"
   },
   {
    "duration": 11,
    "start_time": "2024-03-15T04:44:49.617Z"
   },
   {
    "duration": 61,
    "start_time": "2024-03-15T04:44:49.630Z"
   },
   {
    "duration": 23,
    "start_time": "2024-03-15T04:44:49.693Z"
   },
   {
    "duration": 231,
    "start_time": "2024-03-15T04:44:49.719Z"
   },
   {
    "duration": 204,
    "start_time": "2024-03-15T04:44:49.951Z"
   },
   {
    "duration": 184,
    "start_time": "2024-03-15T04:44:50.157Z"
   },
   {
    "duration": 261,
    "start_time": "2024-03-15T04:44:50.342Z"
   },
   {
    "duration": 17,
    "start_time": "2024-03-15T04:44:50.605Z"
   },
   {
    "duration": 35,
    "start_time": "2024-03-15T04:44:50.624Z"
   },
   {
    "duration": 61,
    "start_time": "2024-03-15T04:44:50.662Z"
   },
   {
    "duration": 6,
    "start_time": "2024-03-15T04:44:50.725Z"
   },
   {
    "duration": 10,
    "start_time": "2024-03-15T04:44:50.733Z"
   },
   {
    "duration": 10,
    "start_time": "2024-03-15T04:44:50.744Z"
   },
   {
    "duration": 29,
    "start_time": "2024-03-15T04:44:50.755Z"
   },
   {
    "duration": 28,
    "start_time": "2024-03-15T04:46:11.351Z"
   },
   {
    "duration": 29,
    "start_time": "2024-03-15T04:46:41.647Z"
   },
   {
    "duration": 30,
    "start_time": "2024-03-15T04:46:51.448Z"
   },
   {
    "duration": 31,
    "start_time": "2024-03-15T04:46:54.336Z"
   },
   {
    "duration": 7,
    "start_time": "2024-03-15T04:47:15.310Z"
   },
   {
    "duration": 148,
    "start_time": "2024-03-15T04:48:12.606Z"
   },
   {
    "duration": 166,
    "start_time": "2024-03-15T04:48:36.488Z"
   },
   {
    "duration": 153,
    "start_time": "2024-03-15T04:48:43.128Z"
   },
   {
    "duration": 1212,
    "start_time": "2024-03-15T16:08:19.361Z"
   },
   {
    "duration": 106,
    "start_time": "2024-03-15T16:08:20.577Z"
   },
   {
    "duration": 23,
    "start_time": "2024-03-15T16:08:20.684Z"
   },
   {
    "duration": 11,
    "start_time": "2024-03-15T16:08:20.708Z"
   },
   {
    "duration": 57,
    "start_time": "2024-03-15T16:08:20.722Z"
   },
   {
    "duration": 31,
    "start_time": "2024-03-15T16:08:20.781Z"
   },
   {
    "duration": 41,
    "start_time": "2024-03-15T16:08:20.814Z"
   },
   {
    "duration": 31,
    "start_time": "2024-03-15T16:08:20.857Z"
   },
   {
    "duration": 24,
    "start_time": "2024-03-15T16:08:20.889Z"
   },
   {
    "duration": 28,
    "start_time": "2024-03-15T16:08:20.915Z"
   },
   {
    "duration": 41,
    "start_time": "2024-03-15T16:08:20.945Z"
   },
   {
    "duration": 17,
    "start_time": "2024-03-15T16:08:20.988Z"
   },
   {
    "duration": 41,
    "start_time": "2024-03-15T16:08:21.007Z"
   },
   {
    "duration": 172,
    "start_time": "2024-03-15T16:08:21.051Z"
   },
   {
    "duration": 6,
    "start_time": "2024-03-15T16:08:21.225Z"
   },
   {
    "duration": 120,
    "start_time": "2024-03-15T16:08:21.233Z"
   },
   {
    "duration": 7,
    "start_time": "2024-03-15T16:08:21.354Z"
   },
   {
    "duration": 182,
    "start_time": "2024-03-15T16:08:21.366Z"
   },
   {
    "duration": 5,
    "start_time": "2024-03-15T16:08:21.550Z"
   },
   {
    "duration": 226,
    "start_time": "2024-03-15T16:08:21.557Z"
   },
   {
    "duration": 5,
    "start_time": "2024-03-15T16:08:21.784Z"
   },
   {
    "duration": 216,
    "start_time": "2024-03-15T16:08:21.790Z"
   },
   {
    "duration": 26,
    "start_time": "2024-03-15T16:08:22.007Z"
   },
   {
    "duration": 3,
    "start_time": "2024-03-15T16:08:22.034Z"
   },
   {
    "duration": 14,
    "start_time": "2024-03-15T16:08:22.038Z"
   },
   {
    "duration": 25,
    "start_time": "2024-03-15T16:08:22.070Z"
   },
   {
    "duration": 25,
    "start_time": "2024-03-15T16:08:22.096Z"
   },
   {
    "duration": 174,
    "start_time": "2024-03-15T16:08:22.122Z"
   },
   {
    "duration": 199,
    "start_time": "2024-03-15T16:08:22.298Z"
   },
   {
    "duration": 182,
    "start_time": "2024-03-15T16:08:22.498Z"
   },
   {
    "duration": 244,
    "start_time": "2024-03-15T16:08:22.682Z"
   },
   {
    "duration": 50,
    "start_time": "2024-03-15T16:08:22.927Z"
   },
   {
    "duration": 29,
    "start_time": "2024-03-15T16:08:22.979Z"
   },
   {
    "duration": 27,
    "start_time": "2024-03-15T16:08:23.010Z"
   },
   {
    "duration": 5,
    "start_time": "2024-03-15T16:08:23.039Z"
   },
   {
    "duration": 25,
    "start_time": "2024-03-15T16:08:23.045Z"
   },
   {
    "duration": 20,
    "start_time": "2024-03-15T16:08:23.072Z"
   },
   {
    "duration": 15,
    "start_time": "2024-03-15T16:08:23.093Z"
   },
   {
    "duration": 4,
    "start_time": "2024-03-15T16:09:28.612Z"
   },
   {
    "duration": 4,
    "start_time": "2024-03-15T16:09:33.192Z"
   }
  ],
  "kernelspec": {
   "display_name": "Python 3 (ipykernel)",
   "language": "python",
   "name": "python3"
  },
  "language_info": {
   "codemirror_mode": {
    "name": "ipython",
    "version": 3
   },
   "file_extension": ".py",
   "mimetype": "text/x-python",
   "name": "python",
   "nbconvert_exporter": "python",
   "pygments_lexer": "ipython3",
   "version": "3.9.5"
  },
  "toc": {
   "base_numbering": 1,
   "nav_menu": {},
   "number_sections": true,
   "sideBar": true,
   "skip_h1_title": true,
   "title_cell": "Table of Contents",
   "title_sidebar": "Contents",
   "toc_cell": false,
   "toc_position": {},
   "toc_section_display": true,
   "toc_window_display": false
  }
 },
 "nbformat": 4,
 "nbformat_minor": 5
}
